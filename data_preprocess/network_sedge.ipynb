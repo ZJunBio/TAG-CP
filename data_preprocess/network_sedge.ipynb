{
 "cells": [
  {
   "cell_type": "code",
   "execution_count": 1,
   "id": "c6068ef3-d59b-4718-aa57-68503fe48383",
   "metadata": {
    "tags": []
   },
   "outputs": [],
   "source": [
    "import pandas as pd\n",
    "import numpy as np"
   ]
  },
  {
   "cell_type": "code",
   "execution_count": 2,
   "id": "07601259-b9ea-4faf-bd7b-d4532de27cdb",
   "metadata": {
    "tags": []
   },
   "outputs": [
    {
     "name": "stdout",
     "output_type": "stream",
     "text": [
      "(2788, 5)\n",
      "(2625, 5)\n"
     ]
    }
   ],
   "source": [
    "network = pd.read_csv(\"../data/one_graph/network_file_0self.csv\", header = 0)\n",
    "print(network.shape)\n",
    "network.drop_duplicates(subset = [\"drug_name\", \"shared_by\"], inplace = True)\n",
    "print(network.shape)"
   ]
  },
  {
   "cell_type": "code",
   "execution_count": 3,
   "id": "9e8f92f5-7342-4d93-839d-36e5dd316db4",
   "metadata": {
    "tags": []
   },
   "outputs": [],
   "source": [
    "network.to_csv(\"../data/one_graph/network_file_0self_single_link.csv\", header = True, index = False)"
   ]
  },
  {
   "cell_type": "code",
   "execution_count": 4,
   "id": "638fe3d9-d358-458e-b028-000837b8258a",
   "metadata": {
    "tags": []
   },
   "outputs": [
    {
     "data": {
      "text/html": [
       "<div>\n",
       "<style scoped>\n",
       "    .dataframe tbody tr th:only-of-type {\n",
       "        vertical-align: middle;\n",
       "    }\n",
       "\n",
       "    .dataframe tbody tr th {\n",
       "        vertical-align: top;\n",
       "    }\n",
       "\n",
       "    .dataframe thead th {\n",
       "        text-align: right;\n",
       "    }\n",
       "</style>\n",
       "<table border=\"1\" class=\"dataframe\">\n",
       "  <thead>\n",
       "    <tr style=\"text-align: right;\">\n",
       "      <th></th>\n",
       "      <th>drug_name</th>\n",
       "      <th>targets</th>\n",
       "      <th>shared_by</th>\n",
       "      <th>shared_by_cid</th>\n",
       "      <th>shared_by_smiles</th>\n",
       "    </tr>\n",
       "  </thead>\n",
       "  <tbody>\n",
       "    <tr>\n",
       "      <th>0</th>\n",
       "      <td>D00STL</td>\n",
       "      <td>T38284</td>\n",
       "      <td>D0D5EW</td>\n",
       "      <td>5311104</td>\n",
       "      <td>CC1=C(C=CC(=C1)NC2=NC=C3C=C(C(=O)N(C3=N2)C)C4=...</td>\n",
       "    </tr>\n",
       "    <tr>\n",
       "      <th>1</th>\n",
       "      <td>D00STL</td>\n",
       "      <td>T38284</td>\n",
       "      <td>D03NPX</td>\n",
       "      <td>447077</td>\n",
       "      <td>CN1C2=NC(=NC=C2C=C(C1=O)C3=C(C=CC=C3Cl)Cl)NC4=...</td>\n",
       "    </tr>\n",
       "    <tr>\n",
       "      <th>2</th>\n",
       "      <td>D00STL</td>\n",
       "      <td>T38284</td>\n",
       "      <td>D0AW4W</td>\n",
       "      <td>11537051</td>\n",
       "      <td>COC1=CC=C(C=C1)C2=CC=CC=C2C3=CC(=CC(=C3)OC)OC</td>\n",
       "    </tr>\n",
       "    <tr>\n",
       "      <th>3</th>\n",
       "      <td>D00STL</td>\n",
       "      <td>T38284</td>\n",
       "      <td>D0PI0R</td>\n",
       "      <td>0</td>\n",
       "      <td>COC1=CC(=CC(=C1)C2=CC=CC=C2C3=CC=C(C=C3)O)OC</td>\n",
       "    </tr>\n",
       "    <tr>\n",
       "      <th>4</th>\n",
       "      <td>D00STL</td>\n",
       "      <td>T38284</td>\n",
       "      <td>D0H4YH</td>\n",
       "      <td>11594901</td>\n",
       "      <td>COC1=CC=C(C=C1)C2=CC(=CC=C2)C3=CC(=CC(=C3)OC)OC</td>\n",
       "    </tr>\n",
       "  </tbody>\n",
       "</table>\n",
       "</div>"
      ],
      "text/plain": [
       "  drug_name targets shared_by  shared_by_cid   \n",
       "0    D00STL  T38284    D0D5EW        5311104  \\\n",
       "1    D00STL  T38284    D03NPX         447077   \n",
       "2    D00STL  T38284    D0AW4W       11537051   \n",
       "3    D00STL  T38284    D0PI0R              0   \n",
       "4    D00STL  T38284    D0H4YH       11594901   \n",
       "\n",
       "                                    shared_by_smiles  \n",
       "0  CC1=C(C=CC(=C1)NC2=NC=C3C=C(C(=O)N(C3=N2)C)C4=...  \n",
       "1  CN1C2=NC(=NC=C2C=C(C1=O)C3=C(C=CC=C3Cl)Cl)NC4=...  \n",
       "2      COC1=CC=C(C=C1)C2=CC=CC=C2C3=CC(=CC(=C3)OC)OC  \n",
       "3       COC1=CC(=CC(=C1)C2=CC=CC=C2C3=CC=C(C=C3)O)OC  \n",
       "4    COC1=CC=C(C=C1)C2=CC(=CC=C2)C3=CC(=CC(=C3)OC)OC  "
      ]
     },
     "execution_count": 4,
     "metadata": {},
     "output_type": "execute_result"
    }
   ],
   "source": [
    "network[0:5]"
   ]
  },
  {
   "cell_type": "code",
   "execution_count": 10,
   "id": "d71ff528-2f55-42c1-a48e-2d06bf4c0875",
   "metadata": {
    "tags": []
   },
   "outputs": [
    {
     "name": "stdout",
     "output_type": "stream",
     "text": [
      "(288, 5)\n"
     ]
    }
   ],
   "source": [
    "index_ = [True if sum((network[\"shared_by\"] == i).astype(int)) > 4 else False for i in network[\"shared_by\"]]\n",
    "gt2 = network[index_]\n",
    "print(gt2.shape)"
   ]
  },
  {
   "cell_type": "code",
   "execution_count": 11,
   "id": "28756b44-0da8-44c3-8431-84f4a2faa278",
   "metadata": {
    "tags": []
   },
   "outputs": [],
   "source": [
    "gt2.to_csv(\"../data/one_graph/network_file_linkgt2.csv\", header = True)"
   ]
  },
  {
   "cell_type": "code",
   "execution_count": null,
   "id": "dbee7c56-7dc9-416c-a017-6baa6f06825e",
   "metadata": {},
   "outputs": [],
   "source": []
  }
 ],
 "metadata": {
  "kernelspec": {
   "display_name": "Python 3 (ipykernel)",
   "language": "python",
   "name": "python3"
  },
  "language_info": {
   "codemirror_mode": {
    "name": "ipython",
    "version": 3
   },
   "file_extension": ".py",
   "mimetype": "text/x-python",
   "name": "python",
   "nbconvert_exporter": "python",
   "pygments_lexer": "ipython3",
   "version": "3.9.12"
  }
 },
 "nbformat": 4,
 "nbformat_minor": 5
}
