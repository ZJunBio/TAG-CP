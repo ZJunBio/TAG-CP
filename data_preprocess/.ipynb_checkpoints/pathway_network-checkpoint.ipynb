{
 "cells": [
  {
   "cell_type": "code",
   "execution_count": 1,
   "id": "38f8358a-22d9-4651-8b31-57e4ab9f0808",
   "metadata": {},
   "outputs": [],
   "source": [
    "import pandas as pd\n",
    "import numpy as np"
   ]
  },
  {
   "cell_type": "code",
   "execution_count": 2,
   "id": "b1e06497-114e-40d5-a2a4-844d5de92639",
   "metadata": {},
   "outputs": [],
   "source": [
    "info = pd.read_csv(\"../data/screened_compounds_rel_8.4.csv\", header = 0)"
   ]
  },
  {
   "cell_type": "code",
   "execution_count": 3,
   "id": "e691df86-0d68-4e97-8971-87c65928917a",
   "metadata": {},
   "outputs": [
    {
     "data": {
      "text/plain": [
       "Index(['DRUG_ID', 'SCREENING_SITE', 'DRUG_NAME', 'SYNONYMS', 'TARGET',\n",
       "       'TARGET_PATHWAY'],\n",
       "      dtype='object')"
      ]
     },
     "execution_count": 3,
     "metadata": {},
     "output_type": "execute_result"
    }
   ],
   "source": [
    "info.columns"
   ]
  },
  {
   "cell_type": "code",
   "execution_count": 4,
   "id": "066b1b3f-0933-431c-b9cb-399426baa001",
   "metadata": {},
   "outputs": [
    {
     "data": {
      "text/html": [
       "<div>\n",
       "<style scoped>\n",
       "    .dataframe tbody tr th:only-of-type {\n",
       "        vertical-align: middle;\n",
       "    }\n",
       "\n",
       "    .dataframe tbody tr th {\n",
       "        vertical-align: top;\n",
       "    }\n",
       "\n",
       "    .dataframe thead th {\n",
       "        text-align: right;\n",
       "    }\n",
       "</style>\n",
       "<table border=\"1\" class=\"dataframe\">\n",
       "  <thead>\n",
       "    <tr style=\"text-align: right;\">\n",
       "      <th></th>\n",
       "      <th>DRUG_ID</th>\n",
       "      <th>SCREENING_SITE</th>\n",
       "      <th>DRUG_NAME</th>\n",
       "      <th>SYNONYMS</th>\n",
       "      <th>TARGET</th>\n",
       "      <th>TARGET_PATHWAY</th>\n",
       "    </tr>\n",
       "  </thead>\n",
       "  <tbody>\n",
       "    <tr>\n",
       "      <th>0</th>\n",
       "      <td>1</td>\n",
       "      <td>MGH</td>\n",
       "      <td>Erlotinib</td>\n",
       "      <td>Tarceva, RG-1415, CP-358774, OSI-774, Ro-50823...</td>\n",
       "      <td>EGFR</td>\n",
       "      <td>EGFR signaling</td>\n",
       "    </tr>\n",
       "    <tr>\n",
       "      <th>1</th>\n",
       "      <td>3</td>\n",
       "      <td>MGH</td>\n",
       "      <td>Rapamycin</td>\n",
       "      <td>AY-22989, Sirolimus, WY-090217, Torisel, Rapamune</td>\n",
       "      <td>MTORC1</td>\n",
       "      <td>PI3K/MTOR signaling</td>\n",
       "    </tr>\n",
       "    <tr>\n",
       "      <th>2</th>\n",
       "      <td>5</td>\n",
       "      <td>MGH</td>\n",
       "      <td>Sunitinib</td>\n",
       "      <td>Sutent, Sunitinib Malate, SU-11248</td>\n",
       "      <td>PDGFR, KIT, VEGFR, FLT3, RET, CSF1R</td>\n",
       "      <td>RTK signaling</td>\n",
       "    </tr>\n",
       "    <tr>\n",
       "      <th>3</th>\n",
       "      <td>6</td>\n",
       "      <td>MGH</td>\n",
       "      <td>PHA-665752</td>\n",
       "      <td>PHA665752, PHA 665752</td>\n",
       "      <td>MET</td>\n",
       "      <td>RTK signaling</td>\n",
       "    </tr>\n",
       "    <tr>\n",
       "      <th>4</th>\n",
       "      <td>9</td>\n",
       "      <td>MGH</td>\n",
       "      <td>MG-132</td>\n",
       "      <td>LLL cpd, MG 132, MG132</td>\n",
       "      <td>Proteasome, CAPN1</td>\n",
       "      <td>Protein stability and degradation</td>\n",
       "    </tr>\n",
       "  </tbody>\n",
       "</table>\n",
       "</div>"
      ],
      "text/plain": [
       "   DRUG_ID SCREENING_SITE   DRUG_NAME   \n",
       "0        1            MGH   Erlotinib  \\\n",
       "1        3            MGH   Rapamycin   \n",
       "2        5            MGH   Sunitinib   \n",
       "3        6            MGH  PHA-665752   \n",
       "4        9            MGH      MG-132   \n",
       "\n",
       "                                            SYNONYMS   \n",
       "0  Tarceva, RG-1415, CP-358774, OSI-774, Ro-50823...  \\\n",
       "1  AY-22989, Sirolimus, WY-090217, Torisel, Rapamune   \n",
       "2                 Sutent, Sunitinib Malate, SU-11248   \n",
       "3                              PHA665752, PHA 665752   \n",
       "4                             LLL cpd, MG 132, MG132   \n",
       "\n",
       "                                TARGET                     TARGET_PATHWAY  \n",
       "0                                 EGFR                     EGFR signaling  \n",
       "1                               MTORC1                PI3K/MTOR signaling  \n",
       "2  PDGFR, KIT, VEGFR, FLT3, RET, CSF1R                      RTK signaling  \n",
       "3                                  MET                      RTK signaling  \n",
       "4                    Proteasome, CAPN1  Protein stability and degradation  "
      ]
     },
     "execution_count": 4,
     "metadata": {},
     "output_type": "execute_result"
    }
   ],
   "source": [
    "info[0:5]"
   ]
  },
  {
   "cell_type": "code",
   "execution_count": 5,
   "id": "6062df70-549e-48a8-b849-eea8e0b7b050",
   "metadata": {},
   "outputs": [],
   "source": [
    "with open(\"../data/drugs_jaaks.txt\") as file:\n",
    "    drugs = [i.strip() for i in  file.readlines()]"
   ]
  },
  {
   "cell_type": "code",
   "execution_count": 6,
   "id": "2f3b3d68-7f14-4dc1-9a88-8c8260ce3ac5",
   "metadata": {},
   "outputs": [],
   "source": [
    "drug_targets = pd.DataFrame(columns = info.columns)\n",
    "for i in drugs:\n",
    "    drug_targets = pd.concat([drug_targets, info[info[\"DRUG_NAME\"] == i]])"
   ]
  },
  {
   "cell_type": "code",
   "execution_count": 7,
   "id": "640719e7-7cb0-4f28-97c2-a4fca1090ffe",
   "metadata": {},
   "outputs": [
    {
     "data": {
      "text/plain": [
       "(100, 6)"
      ]
     },
     "execution_count": 7,
     "metadata": {},
     "output_type": "execute_result"
    }
   ],
   "source": [
    "drug_targets.shape"
   ]
  },
  {
   "cell_type": "code",
   "execution_count": 8,
   "id": "4baa27cd-a9e4-4fd3-be43-46d9223dca6c",
   "metadata": {},
   "outputs": [
    {
     "data": {
      "text/plain": [
       "(63, 6)"
      ]
     },
     "execution_count": 8,
     "metadata": {},
     "output_type": "execute_result"
    }
   ],
   "source": [
    "drug_targets = drug_targets.drop_duplicates(subset = \"DRUG_NAME\")\n",
    "drug_targets.reset_index(drop = True)\n",
    "drug_targets.shape"
   ]
  },
  {
   "cell_type": "code",
   "execution_count": 9,
   "id": "acfe456e-d70d-4a56-a9a3-4273310022a0",
   "metadata": {},
   "outputs": [],
   "source": [
    "tar_coeff = np.zeros((len(drugs), len(drugs)))\n",
    "for i in range(len(drugs)):\n",
    "    tar_coeff[i,i] = 1"
   ]
  },
  {
   "cell_type": "code",
   "execution_count": 10,
   "id": "811a2327-7ec6-41fc-87c0-320e607c89cc",
   "metadata": {},
   "outputs": [
    {
     "data": {
      "text/plain": [
       "array([[1., 0., 0., ..., 0., 0., 0.],\n",
       "       [0., 1., 0., ..., 0., 0., 0.],\n",
       "       [0., 0., 1., ..., 0., 0., 0.],\n",
       "       ...,\n",
       "       [0., 0., 0., ..., 1., 0., 0.],\n",
       "       [0., 0., 0., ..., 0., 1., 0.],\n",
       "       [0., 0., 0., ..., 0., 0., 1.]])"
      ]
     },
     "execution_count": 10,
     "metadata": {},
     "output_type": "execute_result"
    }
   ],
   "source": [
    "tar_coeff"
   ]
  },
  {
   "cell_type": "code",
   "execution_count": 11,
   "id": "45bd314b-31c6-47cc-8e8c-78e2f210964c",
   "metadata": {},
   "outputs": [],
   "source": [
    "dt = {drug_targets['DRUG_NAME'][i]:drug_targets['TARGET_PATHWAY'][i] for i in drug_targets.index}"
   ]
  },
  {
   "cell_type": "code",
   "execution_count": 12,
   "id": "03d95388-9f1d-4c94-9d8a-6c8a54ff1f61",
   "metadata": {},
   "outputs": [
    {
     "data": {
      "text/plain": [
       "{'Venetoclax': 'Apoptosis regulation',\n",
       " 'Erlotinib': 'EGFR signaling',\n",
       " 'Vorinostat': 'Chromatin histone acetylation',\n",
       " 'Pictilisib': 'PI3K/MTOR signaling',\n",
       " 'Alpelisib': 'PI3K/MTOR signaling',\n",
       " 'Olaparib': 'Genome integrity',\n",
       " 'AZD4547': 'RTK signaling',\n",
       " 'Nilotinib': 'ABL signaling',\n",
       " 'AZD6482': 'PI3K/MTOR signaling',\n",
       " 'Sapitinib': 'EGFR signaling',\n",
       " 'Linsitinib': 'IGF1R signaling',\n",
       " 'Dactolisib': 'PI3K/MTOR signaling',\n",
       " 'Wee1 Inhibitor': 'Cell cycle',\n",
       " 'Dabrafenib': 'ERK MAPK signaling',\n",
       " 'Taselisib': 'PI3K/MTOR signaling',\n",
       " '5-Fluorouracil': 'Other',\n",
       " 'Bortezomib': 'Protein stability and degradation',\n",
       " 'LGK974': 'WNT signaling',\n",
       " 'JQ1': 'Chromatin other',\n",
       " 'AZD8055': 'PI3K/MTOR signaling',\n",
       " 'Crizotinib': 'RTK signaling',\n",
       " 'BMS-754807': 'RTK signaling',\n",
       " 'OSI-027': 'PI3K/MTOR signaling',\n",
       " 'Dasatinib': 'RTK signaling',\n",
       " 'PF-4708671': 'PI3K/MTOR signaling',\n",
       " 'Palbociclib': 'Cell cycle',\n",
       " 'Nutlin-3a (-)': 'p53 pathway',\n",
       " 'PD173074': 'RTK signaling',\n",
       " 'Trametinib': 'ERK MAPK signaling',\n",
       " 'KU-55933': 'Genome integrity',\n",
       " 'Camptothecin': 'DNA replication',\n",
       " 'Uprosertib': 'PI3K/MTOR signaling',\n",
       " 'Lapatinib': 'RTK signaling',\n",
       " 'Doramapimod': 'JNK and p38 signaling',\n",
       " 'Oxaliplatin': 'DNA replication',\n",
       " 'Luminespib': 'Protein stability and degradation',\n",
       " 'Temozolomide': 'DNA replication',\n",
       " 'SB505124': 'RTK signaling',\n",
       " 'Vinorelbine': 'Mitosis',\n",
       " 'RO-3306': 'Cell cycle',\n",
       " 'SB216763': 'WNT signaling',\n",
       " 'ZM447439': 'Mitosis',\n",
       " 'AZD7762': 'Cell cycle',\n",
       " 'Navitoclax': 'Apoptosis regulation',\n",
       " 'Entinostat': 'Chromatin histone acetylation',\n",
       " 'Irinotecan': 'DNA replication',\n",
       " 'MK-1775': 'Cell cycle',\n",
       " 'Paclitaxel': 'Mitosis',\n",
       " 'Gemcitabine': 'DNA replication',\n",
       " 'Tozasertib': 'Mitosis',\n",
       " 'BI-2536': 'Cell cycle',\n",
       " 'Afatinib': 'EGFR signaling',\n",
       " 'Ruxolitinib': 'Other, kinases',\n",
       " 'Cisplatin': 'DNA replication',\n",
       " 'NU7441': 'Genome integrity',\n",
       " 'Axitinib': 'RTK signaling',\n",
       " 'SCH772984': 'ERK MAPK signaling',\n",
       " 'Ribociclib': 'Cell cycle',\n",
       " 'GSK269962A': 'Cytoskeleton',\n",
       " 'MK-2206': 'PI3K/MTOR signaling',\n",
       " 'Sorafenib': 'RTK signaling',\n",
       " 'Alisertib': 'Mitosis',\n",
       " 'Docetaxel': 'Mitosis'}"
      ]
     },
     "execution_count": 12,
     "metadata": {},
     "output_type": "execute_result"
    }
   ],
   "source": [
    "dt"
   ]
  },
  {
   "cell_type": "code",
   "execution_count": 13,
   "id": "6edc2035-d7b1-419d-950c-ab71f949f99a",
   "metadata": {},
   "outputs": [
    {
     "data": {
      "text/plain": [
       "dict_keys(['Venetoclax', 'Erlotinib', 'Vorinostat', 'Pictilisib', 'Alpelisib', 'Olaparib', 'AZD4547', 'Nilotinib', 'AZD6482', 'Sapitinib', 'Linsitinib', 'Dactolisib', 'Wee1 Inhibitor', 'Dabrafenib', 'Taselisib', '5-Fluorouracil', 'Bortezomib', 'LGK974', 'JQ1', 'AZD8055', 'Crizotinib', 'BMS-754807', 'OSI-027', 'Dasatinib', 'PF-4708671', 'Palbociclib', 'Nutlin-3a (-)', 'PD173074', 'Trametinib', 'KU-55933', 'Camptothecin', 'Uprosertib', 'Lapatinib', 'Doramapimod', 'Oxaliplatin', 'Luminespib', 'Temozolomide', 'SB505124', 'Vinorelbine', 'RO-3306', 'SB216763', 'ZM447439', 'AZD7762', 'Navitoclax', 'Entinostat', 'Irinotecan', 'MK-1775', 'Paclitaxel', 'Gemcitabine', 'Tozasertib', 'BI-2536', 'Afatinib', 'Ruxolitinib', 'Cisplatin', 'NU7441', 'Axitinib', 'SCH772984', 'Ribociclib', 'GSK269962A', 'MK-2206', 'Sorafenib', 'Alisertib', 'Docetaxel'])"
      ]
     },
     "execution_count": 13,
     "metadata": {},
     "output_type": "execute_result"
    }
   ],
   "source": [
    "dt.keys()"
   ]
  },
  {
   "cell_type": "code",
   "execution_count": 14,
   "id": "12599713-faf9-461e-8fa1-7588bd742961",
   "metadata": {},
   "outputs": [],
   "source": [
    "for i, m in enumerate(dt.keys()):\n",
    "    for j, n in enumerate(dt.keys()):\n",
    "        if i != j:\n",
    "            if dt[m] == dt[n]:\n",
    "                number_intersetction = 1\n",
    "                tar_coeff[i,j] = number_intersetction\n",
    "                tar_coeff[j,i] = number_intersetction"
   ]
  },
  {
   "cell_type": "code",
   "execution_count": 15,
   "id": "b6f2f742-44a2-4fb4-bf8c-52f389982d26",
   "metadata": {},
   "outputs": [
    {
     "data": {
      "text/plain": [
       "{'Galunisertib'}"
      ]
     },
     "execution_count": 15,
     "metadata": {},
     "output_type": "execute_result"
    }
   ],
   "source": [
    "no_target = set(drugs) - set(dt.keys())\n",
    "no_target"
   ]
  },
  {
   "cell_type": "code",
   "execution_count": 16,
   "id": "f72246cc-a0dc-42d1-9a42-15d89a4607d4",
   "metadata": {},
   "outputs": [],
   "source": [
    "labels = list(dt.keys())\n",
    "labels.append(\"Galunisertib\")"
   ]
  },
  {
   "cell_type": "code",
   "execution_count": 17,
   "id": "1529f9e7-dc0b-470c-a333-9c7bcdbe7f92",
   "metadata": {},
   "outputs": [],
   "source": [
    "tar_codf = pd.DataFrame(data = tar_coeff, index = labels, columns = labels)"
   ]
  },
  {
   "cell_type": "code",
   "execution_count": 18,
   "id": "d38ebb6f-523a-4553-8032-e6654985ae62",
   "metadata": {},
   "outputs": [],
   "source": [
    "tar_codf.to_csv(\"../data/pathway_shared_jaaks.csv\", header = True, index = True)"
   ]
  },
  {
   "cell_type": "code",
   "execution_count": 19,
   "id": "bc387992-8250-4262-9e48-efcc08f1713d",
   "metadata": {},
   "outputs": [
    {
     "data": {
      "text/html": [
       "<div>\n",
       "<style scoped>\n",
       "    .dataframe tbody tr th:only-of-type {\n",
       "        vertical-align: middle;\n",
       "    }\n",
       "\n",
       "    .dataframe tbody tr th {\n",
       "        vertical-align: top;\n",
       "    }\n",
       "\n",
       "    .dataframe thead th {\n",
       "        text-align: right;\n",
       "    }\n",
       "</style>\n",
       "<table border=\"1\" class=\"dataframe\">\n",
       "  <thead>\n",
       "    <tr style=\"text-align: right;\">\n",
       "      <th></th>\n",
       "      <th>Venetoclax</th>\n",
       "      <th>Erlotinib</th>\n",
       "      <th>Vorinostat</th>\n",
       "      <th>Pictilisib</th>\n",
       "      <th>Alpelisib</th>\n",
       "      <th>Olaparib</th>\n",
       "      <th>AZD4547</th>\n",
       "      <th>Nilotinib</th>\n",
       "      <th>AZD6482</th>\n",
       "      <th>Sapitinib</th>\n",
       "    </tr>\n",
       "  </thead>\n",
       "  <tbody>\n",
       "    <tr>\n",
       "      <th>Venetoclax</th>\n",
       "      <td>1.0</td>\n",
       "      <td>0.0</td>\n",
       "      <td>0.0</td>\n",
       "      <td>0.0</td>\n",
       "      <td>0.0</td>\n",
       "      <td>0.0</td>\n",
       "      <td>0.0</td>\n",
       "      <td>0.0</td>\n",
       "      <td>0.0</td>\n",
       "      <td>0.0</td>\n",
       "    </tr>\n",
       "    <tr>\n",
       "      <th>Erlotinib</th>\n",
       "      <td>0.0</td>\n",
       "      <td>1.0</td>\n",
       "      <td>0.0</td>\n",
       "      <td>0.0</td>\n",
       "      <td>0.0</td>\n",
       "      <td>0.0</td>\n",
       "      <td>0.0</td>\n",
       "      <td>0.0</td>\n",
       "      <td>0.0</td>\n",
       "      <td>1.0</td>\n",
       "    </tr>\n",
       "    <tr>\n",
       "      <th>Vorinostat</th>\n",
       "      <td>0.0</td>\n",
       "      <td>0.0</td>\n",
       "      <td>1.0</td>\n",
       "      <td>0.0</td>\n",
       "      <td>0.0</td>\n",
       "      <td>0.0</td>\n",
       "      <td>0.0</td>\n",
       "      <td>0.0</td>\n",
       "      <td>0.0</td>\n",
       "      <td>0.0</td>\n",
       "    </tr>\n",
       "    <tr>\n",
       "      <th>Pictilisib</th>\n",
       "      <td>0.0</td>\n",
       "      <td>0.0</td>\n",
       "      <td>0.0</td>\n",
       "      <td>1.0</td>\n",
       "      <td>1.0</td>\n",
       "      <td>0.0</td>\n",
       "      <td>0.0</td>\n",
       "      <td>0.0</td>\n",
       "      <td>1.0</td>\n",
       "      <td>0.0</td>\n",
       "    </tr>\n",
       "    <tr>\n",
       "      <th>Alpelisib</th>\n",
       "      <td>0.0</td>\n",
       "      <td>0.0</td>\n",
       "      <td>0.0</td>\n",
       "      <td>1.0</td>\n",
       "      <td>1.0</td>\n",
       "      <td>0.0</td>\n",
       "      <td>0.0</td>\n",
       "      <td>0.0</td>\n",
       "      <td>1.0</td>\n",
       "      <td>0.0</td>\n",
       "    </tr>\n",
       "  </tbody>\n",
       "</table>\n",
       "</div>"
      ],
      "text/plain": [
       "            Venetoclax  Erlotinib  Vorinostat  Pictilisib  Alpelisib   \n",
       "Venetoclax         1.0        0.0         0.0         0.0        0.0  \\\n",
       "Erlotinib          0.0        1.0         0.0         0.0        0.0   \n",
       "Vorinostat         0.0        0.0         1.0         0.0        0.0   \n",
       "Pictilisib         0.0        0.0         0.0         1.0        1.0   \n",
       "Alpelisib          0.0        0.0         0.0         1.0        1.0   \n",
       "\n",
       "            Olaparib  AZD4547  Nilotinib  AZD6482  Sapitinib  \n",
       "Venetoclax       0.0      0.0        0.0      0.0        0.0  \n",
       "Erlotinib        0.0      0.0        0.0      0.0        1.0  \n",
       "Vorinostat       0.0      0.0        0.0      0.0        0.0  \n",
       "Pictilisib       0.0      0.0        0.0      1.0        0.0  \n",
       "Alpelisib        0.0      0.0        0.0      1.0        0.0  "
      ]
     },
     "execution_count": 19,
     "metadata": {},
     "output_type": "execute_result"
    }
   ],
   "source": [
    "tar_codf.iloc[0:5, 0:10]"
   ]
  },
  {
   "cell_type": "code",
   "execution_count": 20,
   "id": "f4a5e91b-dc43-4a33-a123-d26e34c12f38",
   "metadata": {},
   "outputs": [
    {
     "data": {
      "text/plain": [
       "(64, 64)"
      ]
     },
     "execution_count": 20,
     "metadata": {},
     "output_type": "execute_result"
    }
   ],
   "source": [
    "tar_codf.shape"
   ]
  },
  {
   "cell_type": "code",
   "execution_count": 22,
   "id": "8d243ea3-40ba-4df9-bd5f-0b25afcac134",
   "metadata": {},
   "outputs": [],
   "source": [
    "dt[\"Galunisertib\"] = \"other\"\n",
    "shared = []\n",
    "for i, s in enumerate(tar_codf.index):\n",
    "    for j in tar_codf.columns[i:]:\n",
    "        if tar_codf.loc[s, j] != 0:\n",
    "            shared.append(f'{s}\\t{j}\\t{tar_codf.loc[s,j]}\\t{dt[s]}')\n",
    "with open(\"../data/source_target_pathway.txt\", 'w') as file:\n",
    "    file.write(\"source\\ttarget\\tcoeff\\n\")\n",
    "    file.writelines([v+\"\\n\" for i,v in enumerate(shared) if i != len(shared)])"
   ]
  },
  {
   "cell_type": "code",
   "execution_count": 22,
   "id": "efccdf6f-2f49-4382-9d2d-9d022dc31d16",
   "metadata": {},
   "outputs": [],
   "source": [
    "shared = []\n",
    "for i, s in enumerate(tar_codf.index):\n",
    "    for j in tar_codf.columns[i:]:\n",
    "        if tar_codf.loc[s, j] != 0 and s != j:\n",
    "            shared.append(f'{s}\\t{j}\\t{tar_codf.loc[s,j]}\\t{dt[s]}')\n",
    "with open(\"../data/source_target_pathway0self.txt\", 'w') as file:\n",
    "    file.write(\"source\\ttarget\\tcoeff\\tpathway\\n\")\n",
    "    file.writelines([v+\"\\n\" for i,v in enumerate(shared) if i != len(shared)])"
   ]
  },
  {
   "cell_type": "code",
   "execution_count": 24,
   "id": "f00c502b-70ba-4296-8665-5d9d01c3f2a1",
   "metadata": {},
   "outputs": [
    {
     "data": {
      "text/plain": [
       "145"
      ]
     },
     "execution_count": 24,
     "metadata": {},
     "output_type": "execute_result"
    }
   ],
   "source": [
    "len(shared)"
   ]
  },
  {
   "cell_type": "code",
   "execution_count": null,
   "id": "6c581966-e7cc-4066-9975-a03d0c5c8b4b",
   "metadata": {},
   "outputs": [],
   "source": []
  }
 ],
 "metadata": {
  "kernelspec": {
   "display_name": "Python 3 (ipykernel)",
   "language": "python",
   "name": "python3"
  },
  "language_info": {
   "codemirror_mode": {
    "name": "ipython",
    "version": 3
   },
   "file_extension": ".py",
   "mimetype": "text/x-python",
   "name": "python",
   "nbconvert_exporter": "python",
   "pygments_lexer": "ipython3",
   "version": "3.9.12"
  }
 },
 "nbformat": 4,
 "nbformat_minor": 5
}
