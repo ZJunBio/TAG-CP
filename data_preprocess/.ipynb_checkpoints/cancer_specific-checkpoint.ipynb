{
 "cells": [
  {
   "cell_type": "code",
   "execution_count": 1,
   "id": "88aafb37-eb87-4927-97ec-65c53ee84449",
   "metadata": {
    "tags": []
   },
   "outputs": [],
   "source": [
    "import pandas as pd\n",
    "import numpy as np"
   ]
  },
  {
   "cell_type": "code",
   "execution_count": 2,
   "id": "86350df5-8251-428b-8892-28f3e5b7eb74",
   "metadata": {
    "tags": []
   },
   "outputs": [
    {
     "name": "stdout",
     "output_type": "stream",
     "text": [
      "(2993, 46)\n",
      "Index(['BARCODE', 'COMBI_ID', 'Tissue', 'CELL_LINE_NAME', 'SIDM', 'COSMIC_ID',\n",
      "       'ANCHOR_ID', 'ANCHOR_NAME', 'ANCHOR_TARGET', 'ANCHOR_PATHWAY',\n",
      "       'ANCHOR_DRUG_TYPE', 'ANCHOR_Clin_Rel', 'ANCHOR_CONC', 'LIBRARY_ID',\n",
      "       'LIBRARY_NAME', 'LIBRARY_TARGET', 'LIBRARY_PATHWAY',\n",
      "       'LIBRARY_DRUG_TYPE', 'LIBRARY_Clin_Rel', 'LIBRARY_CONC',\n",
      "       'ANCHOR_VIABILITY', 'LIBRARY_RMSE', 'LIBRARY_EMAX', 'LIBRARY_XMID',\n",
      "       'LIBRARY_XMID_uM', 'LIBRARY_AUC', 'LIBRARY_fAUC', 'SYNERGY_RMSE',\n",
      "       'SYNERGY_EXP_EMAX', 'SYNERGY_OBS_EMAX', 'SYNERGY_DELTA_EMAX',\n",
      "       'SYNERGY_XMID', 'SYNERGY_XMID_uM', 'SYNERGY_DELTA_XMID',\n",
      "       'SYNERGY_DELTA_XMID_uM', 'SYNERGY_EXP_AUC', 'SYNERGY_OBS_AUC',\n",
      "       'SYNERGY_EXP_fAUC', 'SYNERGY_OBS_fAUC', 'SYNERGY_DELTA_AUC',\n",
      "       'SYNERGY_DELTA_fAUC', 'Synergy', 'DAY1_NORM_MEAN', 'DAY1_NORM_SD',\n",
      "       'GROWTH_RATE', 'DOUBLING_TIME'],\n",
      "      dtype='object')\n"
     ]
    }
   ],
   "source": [
    "syn = pd.read_csv(\"../data/one_graph/synergy_pair_graph.csv\", header = 0)\n",
    "anta = pd.read_csv(\"../data/one_graph/anta_pair_graph.csv\", header = 0)\n",
    "print(syn.shape)\n",
    "print(syn.columns)"
   ]
  },
  {
   "cell_type": "code",
   "execution_count": 3,
   "id": "ee177733-96c0-434c-8b5c-79a4de0e0e49",
   "metadata": {
    "tags": []
   },
   "outputs": [
    {
     "data": {
      "text/plain": [
       "array(['Breast', 'Colon', 'Pancreas'], dtype=object)"
      ]
     },
     "execution_count": 3,
     "metadata": {},
     "output_type": "execute_result"
    }
   ],
   "source": [
    "pd.unique(syn[\"Tissue\"])"
   ]
  },
  {
   "cell_type": "code",
   "execution_count": 4,
   "id": "a6943a51-d190-48d9-b0b4-233c3679c3a5",
   "metadata": {
    "tags": []
   },
   "outputs": [
    {
     "name": "stdout",
     "output_type": "stream",
     "text": [
      "(1441, 46) (19883, 46)\n"
     ]
    }
   ],
   "source": [
    "breast_syn = syn[syn[\"Tissue\"] == 'Breast']\n",
    "breast_anta = anta[anta[\"Tissue\"] == 'Breast']\n",
    "print(breast_syn.shape, breast_anta.shape)"
   ]
  },
  {
   "cell_type": "code",
   "execution_count": 6,
   "id": "439a74d3-3be3-4cbf-a7bc-561b1f2988db",
   "metadata": {
    "tags": []
   },
   "outputs": [
    {
     "data": {
      "text/plain": [
       "(21324, 46)"
      ]
     },
     "execution_count": 6,
     "metadata": {},
     "output_type": "execute_result"
    }
   ],
   "source": [
    "breast_data = pd.concat([breast_syn, breast_anta], axis = 0)\n",
    "breast_data.shape"
   ]
  },
  {
   "cell_type": "code",
   "execution_count": 7,
   "id": "3aec5dc4-9c93-4bbe-9870-6998d92c8452",
   "metadata": {
    "tags": []
   },
   "outputs": [
    {
     "name": "stdout",
     "output_type": "stream",
     "text": [
      "(727, 46) (7332, 46)\n"
     ]
    }
   ],
   "source": [
    "colon_syn = syn[syn[\"Tissue\"] == 'Colon']\n",
    "colon_anta = anta[anta[\"Tissue\"] == 'Colon']\n",
    "print(colon_syn.shape, colon_anta.shape)"
   ]
  },
  {
   "cell_type": "code",
   "execution_count": 8,
   "id": "ca35d000-4397-49f1-804a-7ec36fc8fdb7",
   "metadata": {
    "tags": []
   },
   "outputs": [
    {
     "data": {
      "text/plain": [
       "(8059, 46)"
      ]
     },
     "execution_count": 8,
     "metadata": {},
     "output_type": "execute_result"
    }
   ],
   "source": [
    "colon_data = pd.concat([colon_syn, colon_anta], axis = 0)\n",
    "colon_data.shape"
   ]
  },
  {
   "cell_type": "code",
   "execution_count": 9,
   "id": "a7a3c798-f655-4dde-be4f-0f66f46942b8",
   "metadata": {
    "tags": []
   },
   "outputs": [
    {
     "name": "stdout",
     "output_type": "stream",
     "text": [
      "(825, 46) (6979, 46)\n"
     ]
    }
   ],
   "source": [
    "pancreas_syn = syn[syn[\"Tissue\"] == 'Pancreas']\n",
    "pancreas_anta = anta[anta[\"Tissue\"] == 'Pancreas']\n",
    "print(pancreas_syn.shape, pancreas_anta.shape)"
   ]
  },
  {
   "cell_type": "code",
   "execution_count": 10,
   "id": "e105c914-e254-4c7b-8b02-10f1ec9fbc65",
   "metadata": {
    "tags": []
   },
   "outputs": [
    {
     "data": {
      "text/plain": [
       "(7804, 46)"
      ]
     },
     "execution_count": 10,
     "metadata": {},
     "output_type": "execute_result"
    }
   ],
   "source": [
    "pancreas_data = pd.concat([pancreas_syn, pancreas_anta], axis = 0)\n",
    "pancreas_data.shape"
   ]
  },
  {
   "cell_type": "code",
   "execution_count": 11,
   "id": "678630af-e945-4ba2-919c-af4a3965864f",
   "metadata": {
    "tags": []
   },
   "outputs": [],
   "source": [
    "import matplotlib.pyplot as plt"
   ]
  },
  {
   "cell_type": "code",
   "execution_count": 12,
   "id": "d37d7322-f258-4c93-aec5-db0f598b5fcd",
   "metadata": {
    "tags": []
   },
   "outputs": [
    {
     "data": {
      "image/png": "[encoded data removed]",
      "text/plain": [
       "<Figure size 640x480 with 1 Axes>"
      ]
     },
     "metadata": {},
     "output_type": "display_data"
    }
   ],
   "source": [
    "x = [21324, 8059, 7804]\n",
    "y = [\"Breast\", \"Colon\", \"Pancreas\"]\n",
    "fig, ax = plt.subplots()\n",
    "\n",
    "def func(pct, allvals):\n",
    "    absolute = int(np.round(pct/100.*np.sum(allvals)))\n",
    "    return f\"{pct:.1f}%\\n({absolute:d} pairs)\"\n",
    "wedges, texts, autotexts = ax.pie(x, autopct=lambda pct: func(pct, x), textprops=dict(color=\"w\"))\n",
    "\n",
    "ax.legend(wedges, y,\n",
    "          title=\"Ingredients\",\n",
    "          loc=\"center left\",\n",
    "          bbox_to_anchor=(1, 0, 0.5, 1))\n",
    "\n",
    "plt.show()"
   ]
  },
  {
   "cell_type": "code",
   "execution_count": 13,
   "id": "431bc25c-73c1-4e62-8f0a-46a8cf5c8ade",
   "metadata": {
    "tags": []
   },
   "outputs": [],
   "source": [
    "breast_syn.reset_index(drop = True)\n",
    "breast_anta.reset_index(drop = True)\n",
    "breast_syn.to_csv(\"../data/one_graph/breast_syn_graph.csv\", header = True)\n",
    "breast_anta.to_csv(\"../data/one_graph/breast_anta_graph.csv\", header = True)"
   ]
  },
  {
   "cell_type": "code",
   "execution_count": 14,
   "id": "e37dd96e-5f4f-41cb-a310-8d7a9da5badf",
   "metadata": {
    "tags": []
   },
   "outputs": [],
   "source": [
    "colon_syn.reset_index(drop = True)\n",
    "colon_anta.reset_index(drop = True)\n",
    "colon_syn.to_csv(\"../data/one_graph/colon_syn_graph.csv\", header = True)\n",
    "colon_anta.to_csv(\"../data/one_graph/colon_anta_graph.csv\", header = True)"
   ]
  },
  {
   "cell_type": "code",
   "execution_count": 15,
   "id": "798c2674-70b5-4fca-8e54-9c95da841db9",
   "metadata": {
    "tags": []
   },
   "outputs": [],
   "source": [
    "pancreas_syn.reset_index(drop = True)\n",
    "pancreas_anta.reset_index(drop = True)\n",
    "pancreas_syn.to_csv(\"../data/one_graph/pancreas_syn_graph.csv\", header = True)\n",
    "pancreas_anta.to_csv(\"../data/one_graph/pancreas_anta_graph.csv\", header = True)"
   ]
  }
 ],
 "metadata": {
  "kernelspec": {
   "display_name": "Python 3 (ipykernel)",
   "language": "python",
   "name": "python3"
  },
  "language_info": {
   "codemirror_mode": {
    "name": "ipython",
    "version": 3
   },
   "file_extension": ".py",
   "mimetype": "text/x-python",
   "name": "python",
   "nbconvert_exporter": "python",
   "pygments_lexer": "ipython3",
   "version": "3.9.7"
  }
 },
 "nbformat": 4,
 "nbformat_minor": 5
}
