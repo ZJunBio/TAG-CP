{
 "cells": [
  {
   "cell_type": "code",
   "execution_count": 1,
   "id": "38f8358a-22d9-4651-8b31-57e4ab9f0808",
   "metadata": {},
   "outputs": [],
   "source": [
    "import pandas as pd\n",
    "import numpy as np"
   ]
  },
  {
   "cell_type": "code",
   "execution_count": 2,
   "id": "b1e06497-114e-40d5-a2a4-844d5de92639",
   "metadata": {},
   "outputs": [],
   "source": [
    "info = pd.read_csv(\"../data/screened_compounds_rel_8.4.csv\", header = 0)"
   ]
  },
  {
   "cell_type": "code",
   "execution_count": 3,
   "id": "e691df86-0d68-4e97-8971-87c65928917a",
   "metadata": {},
   "outputs": [
    {
     "data": {
      "text/plain": [
       "Index(['DRUG_ID', 'SCREENING_SITE', 'DRUG_NAME', 'SYNONYMS', 'TARGET',\n",
       "       'TARGET_PATHWAY'],\n",
       "      dtype='object')"
      ]
     },
     "execution_count": 3,
     "metadata": {},
     "output_type": "execute_result"
    }
   ],
   "source": [
    "info.columns"
   ]
  },
  {
   "cell_type": "code",
   "execution_count": 4,
   "id": "066b1b3f-0933-431c-b9cb-399426baa001",
   "metadata": {},
   "outputs": [
    {
     "data": {
      "text/html": [
       "<div>\n",
       "<style scoped>\n",
       "    .dataframe tbody tr th:only-of-type {\n",
       "        vertical-align: middle;\n",
       "    }\n",
       "\n",
       "    .dataframe tbody tr th {\n",
       "        vertical-align: top;\n",
       "    }\n",
       "\n",
       "    .dataframe thead th {\n",
       "        text-align: right;\n",
       "    }\n",
       "</style>\n",
       "<table border=\"1\" class=\"dataframe\">\n",
       "  <thead>\n",
       "    <tr style=\"text-align: right;\">\n",
       "      <th></th>\n",
       "      <th>DRUG_ID</th>\n",
       "      <th>SCREENING_SITE</th>\n",
       "      <th>DRUG_NAME</th>\n",
       "      <th>SYNONYMS</th>\n",
       "      <th>TARGET</th>\n",
       "      <th>TARGET_PATHWAY</th>\n",
       "    </tr>\n",
       "  </thead>\n",
       "  <tbody>\n",
       "    <tr>\n",
       "      <th>0</th>\n",
       "      <td>1</td>\n",
       "      <td>MGH</td>\n",
       "      <td>Erlotinib</td>\n",
       "      <td>Tarceva, RG-1415, CP-358774, OSI-774, Ro-50823...</td>\n",
       "      <td>EGFR</td>\n",
       "      <td>EGFR signaling</td>\n",
       "    </tr>\n",
       "    <tr>\n",
       "      <th>1</th>\n",
       "      <td>3</td>\n",
       "      <td>MGH</td>\n",
       "      <td>Rapamycin</td>\n",
       "      <td>AY-22989, Sirolimus, WY-090217, Torisel, Rapamune</td>\n",
       "      <td>MTORC1</td>\n",
       "      <td>PI3K/MTOR signaling</td>\n",
       "    </tr>\n",
       "    <tr>\n",
       "      <th>2</th>\n",
       "      <td>5</td>\n",
       "      <td>MGH</td>\n",
       "      <td>Sunitinib</td>\n",
       "      <td>Sutent, Sunitinib Malate, SU-11248</td>\n",
       "      <td>PDGFR, KIT, VEGFR, FLT3, RET, CSF1R</td>\n",
       "      <td>RTK signaling</td>\n",
       "    </tr>\n",
       "    <tr>\n",
       "      <th>3</th>\n",
       "      <td>6</td>\n",
       "      <td>MGH</td>\n",
       "      <td>PHA-665752</td>\n",
       "      <td>PHA665752, PHA 665752</td>\n",
       "      <td>MET</td>\n",
       "      <td>RTK signaling</td>\n",
       "    </tr>\n",
       "    <tr>\n",
       "      <th>4</th>\n",
       "      <td>9</td>\n",
       "      <td>MGH</td>\n",
       "      <td>MG-132</td>\n",
       "      <td>LLL cpd, MG 132, MG132</td>\n",
       "      <td>Proteasome, CAPN1</td>\n",
       "      <td>Protein stability and degradation</td>\n",
       "    </tr>\n",
       "  </tbody>\n",
       "</table>\n",
       "</div>"
      ],
      "text/plain": [
       "   DRUG_ID SCREENING_SITE   DRUG_NAME   \n",
       "0        1            MGH   Erlotinib  \\\n",
       "1        3            MGH   Rapamycin   \n",
       "2        5            MGH   Sunitinib   \n",
       "3        6            MGH  PHA-665752   \n",
       "4        9            MGH      MG-132   \n",
       "\n",
       "                                            SYNONYMS   \n",
       "0  Tarceva, RG-1415, CP-358774, OSI-774, Ro-50823...  \\\n",
       "1  AY-22989, Sirolimus, WY-090217, Torisel, Rapamune   \n",
       "2                 Sutent, Sunitinib Malate, SU-11248   \n",
       "3                              PHA665752, PHA 665752   \n",
       "4                             LLL cpd, MG 132, MG132   \n",
       "\n",
       "                                TARGET                     TARGET_PATHWAY  \n",
       "0                                 EGFR                     EGFR signaling  \n",
       "1                               MTORC1                PI3K/MTOR signaling  \n",
       "2  PDGFR, KIT, VEGFR, FLT3, RET, CSF1R                      RTK signaling  \n",
       "3                                  MET                      RTK signaling  \n",
       "4                    Proteasome, CAPN1  Protein stability and degradation  "
      ]
     },
     "execution_count": 4,
     "metadata": {},
     "output_type": "execute_result"
    }
   ],
   "source": [
    "info[0:5]"
   ]
  },
  {
   "cell_type": "code",
   "execution_count": 5,
   "id": "6062df70-549e-48a8-b849-eea8e0b7b050",
   "metadata": {},
   "outputs": [],
   "source": [
    "with open(\"../data/drugs_jaaks.txt\") as file:\n",
    "    drugs = [i.strip() for i in  file.readlines()]"
   ]
  },
  {
   "cell_type": "code",
   "execution_count": 6,
   "id": "2f3b3d68-7f14-4dc1-9a88-8c8260ce3ac5",
   "metadata": {},
   "outputs": [],
   "source": [
    "drug_targets = pd.DataFrame(columns = info.columns)\n",
    "for i in drugs:\n",
    "    drug_targets = pd.concat([drug_targets, info[info[\"DRUG_NAME\"] == i]])"
   ]
  },
  {
   "cell_type": "code",
   "execution_count": 7,
   "id": "640719e7-7cb0-4f28-97c2-a4fca1090ffe",
   "metadata": {},
   "outputs": [
    {
     "data": {
      "text/plain": [
       "(100, 6)"
      ]
     },
     "execution_count": 7,
     "metadata": {},
     "output_type": "execute_result"
    }
   ],
   "source": [
    "drug_targets.shape"
   ]
  },
  {
   "cell_type": "code",
   "execution_count": 12,
   "id": "4baa27cd-a9e4-4fd3-be43-46d9223dca6c",
   "metadata": {},
   "outputs": [
    {
     "data": {
      "text/plain": [
       "(63, 6)"
      ]
     },
     "execution_count": 12,
     "metadata": {},
     "output_type": "execute_result"
    }
   ],
   "source": [
    "drug_targets = drug_targets.drop_duplicates(subset = \"DRUG_NAME\")\n",
    "drug_targets.reset_index(drop = True)\n",
    "drug_targets.shape"
   ]
  },
  {
   "cell_type": "code",
   "execution_count": 13,
   "id": "acfe456e-d70d-4a56-a9a3-4273310022a0",
   "metadata": {},
   "outputs": [],
   "source": [
    "tar_coeff = np.zeros((len(drugs), len(drugs)))\n",
    "for i in range(len(drugs)):\n",
    "    tar_coeff[i,i] = 1"
   ]
  },
  {
   "cell_type": "code",
   "execution_count": 14,
   "id": "811a2327-7ec6-41fc-87c0-320e607c89cc",
   "metadata": {},
   "outputs": [
    {
     "data": {
      "text/plain": [
       "array([[1., 0., 0., ..., 0., 0., 0.],\n",
       "       [0., 1., 0., ..., 0., 0., 0.],\n",
       "       [0., 0., 1., ..., 0., 0., 0.],\n",
       "       ...,\n",
       "       [0., 0., 0., ..., 1., 0., 0.],\n",
       "       [0., 0., 0., ..., 0., 1., 0.],\n",
       "       [0., 0., 0., ..., 0., 0., 1.]])"
      ]
     },
     "execution_count": 14,
     "metadata": {},
     "output_type": "execute_result"
    }
   ],
   "source": [
    "tar_coeff"
   ]
  },
  {
   "cell_type": "code",
   "execution_count": 16,
   "id": "45bd314b-31c6-47cc-8e8c-78e2f210964c",
   "metadata": {},
   "outputs": [],
   "source": [
    "dt = {drug_targets['DRUG_NAME'][i]:drug_targets['TARGET'][i] for i in drug_targets.index}"
   ]
  },
  {
   "cell_type": "code",
   "execution_count": 17,
   "id": "03d95388-9f1d-4c94-9d8a-6c8a54ff1f61",
   "metadata": {},
   "outputs": [
    {
     "data": {
      "text/plain": [
       "{'Venetoclax': 'BCL2',\n",
       " 'Erlotinib': 'EGFR',\n",
       " 'Vorinostat': 'HDAC inhibitor Class I, IIa, IIb, IV',\n",
       " 'Pictilisib': 'PI3K (class 1)',\n",
       " 'Alpelisib': 'PI3Kalpha',\n",
       " 'Olaparib': 'PARP1, PARP2',\n",
       " 'AZD4547': 'FGRF1, FGFR2, FGFR3',\n",
       " 'Nilotinib': 'ABL',\n",
       " 'AZD6482': 'PI3Kbeta',\n",
       " 'Sapitinib': 'EGFR, ERBB2, ERBB3',\n",
       " 'Linsitinib': 'IGF1R',\n",
       " 'Dactolisib': 'PI3K (class 1), MTORC1, MTORC2',\n",
       " 'Wee1 Inhibitor': 'WEE1, CHEK1',\n",
       " 'Dabrafenib': 'BRAF',\n",
       " 'Taselisib': 'PI3K (beta sparing)',\n",
       " '5-Fluorouracil': 'Antimetabolite (DNA & RNA)',\n",
       " 'Bortezomib': 'Proteasome',\n",
       " 'LGK974': 'PORCN',\n",
       " 'JQ1': 'BRD2, BRD3, BRD4, BRDT',\n",
       " 'AZD8055': 'MTORC1, MTORC2',\n",
       " 'Crizotinib': 'MET, ALK, ROS1',\n",
       " 'BMS-754807': 'IGF1R, IR',\n",
       " 'OSI-027': 'MTORC1, MTORC2',\n",
       " 'Dasatinib': 'ABL, SRC, Ephrins, PDGFR, KIT',\n",
       " 'PF-4708671': 'S6K1',\n",
       " 'Palbociclib': 'CDK4, CDK6',\n",
       " 'Nutlin-3a (-)': 'MDM2',\n",
       " 'PD173074': 'FGFR1, FGFR2, FGFR3',\n",
       " 'Trametinib': 'MEK1, MEK2',\n",
       " 'KU-55933': 'ATM',\n",
       " 'Camptothecin': 'TOP1',\n",
       " 'Uprosertib': 'AKT1, AKT2, AKT3',\n",
       " 'Lapatinib': 'EGFR, ERBB2',\n",
       " 'Doramapimod': 'p38, JNK2',\n",
       " 'Oxaliplatin': 'DNA alkylating agent',\n",
       " 'Luminespib': 'HSP90',\n",
       " 'Temozolomide': 'DNA alkylating agent',\n",
       " 'SB505124': 'TGFBR1, ACVR1B, ACVR1C',\n",
       " 'Vinorelbine': 'Microtubule destabiliser',\n",
       " 'RO-3306': 'CDK1',\n",
       " 'SB216763': 'GSK3A, GSK3B',\n",
       " 'ZM447439': 'AURKA, AURKB',\n",
       " 'AZD7762': 'CHEK1, CHEK2',\n",
       " 'Navitoclax': 'BCL2, BCL-XL, BCL-W',\n",
       " 'Entinostat': 'HDAC1, HDAC3',\n",
       " 'Irinotecan': 'TOP1',\n",
       " 'MK-1775': 'WEE1, PLK1',\n",
       " 'Paclitaxel': 'Microtubule stabiliser',\n",
       " 'Gemcitabine': 'Pyrimidine antimetabolite',\n",
       " 'Tozasertib': 'AURKA, AURKB, AURKC, others',\n",
       " 'BI-2536': 'PLK1, PLK2, PLK3',\n",
       " 'Afatinib': 'EGFR, ERBB2',\n",
       " 'Ruxolitinib': 'JAK1, JAK2',\n",
       " 'Cisplatin': 'DNA crosslinker',\n",
       " 'NU7441': 'DNAPK',\n",
       " 'Axitinib': 'PDGFR, KIT, VEGFR',\n",
       " 'SCH772984': 'ERK1, ERK2',\n",
       " 'Ribociclib': 'CDK4, CDK6',\n",
       " 'GSK269962A': 'ROCK1, ROCK2',\n",
       " 'MK-2206': 'AKT1, AKT2',\n",
       " 'Sorafenib': 'PDGFR, KIT, VEGFR, RAF',\n",
       " 'Alisertib': 'AURKA',\n",
       " 'Docetaxel': 'Microtubule stabiliser'}"
      ]
     },
     "execution_count": 17,
     "metadata": {},
     "output_type": "execute_result"
    }
   ],
   "source": [
    "dt"
   ]
  },
  {
   "cell_type": "code",
   "execution_count": 18,
   "id": "6edc2035-d7b1-419d-950c-ab71f949f99a",
   "metadata": {},
   "outputs": [
    {
     "data": {
      "text/plain": [
       "dict_keys(['Venetoclax', 'Erlotinib', 'Vorinostat', 'Pictilisib', 'Alpelisib', 'Olaparib', 'AZD4547', 'Nilotinib', 'AZD6482', 'Sapitinib', 'Linsitinib', 'Dactolisib', 'Wee1 Inhibitor', 'Dabrafenib', 'Taselisib', '5-Fluorouracil', 'Bortezomib', 'LGK974', 'JQ1', 'AZD8055', 'Crizotinib', 'BMS-754807', 'OSI-027', 'Dasatinib', 'PF-4708671', 'Palbociclib', 'Nutlin-3a (-)', 'PD173074', 'Trametinib', 'KU-55933', 'Camptothecin', 'Uprosertib', 'Lapatinib', 'Doramapimod', 'Oxaliplatin', 'Luminespib', 'Temozolomide', 'SB505124', 'Vinorelbine', 'RO-3306', 'SB216763', 'ZM447439', 'AZD7762', 'Navitoclax', 'Entinostat', 'Irinotecan', 'MK-1775', 'Paclitaxel', 'Gemcitabine', 'Tozasertib', 'BI-2536', 'Afatinib', 'Ruxolitinib', 'Cisplatin', 'NU7441', 'Axitinib', 'SCH772984', 'Ribociclib', 'GSK269962A', 'MK-2206', 'Sorafenib', 'Alisertib', 'Docetaxel'])"
      ]
     },
     "execution_count": 18,
     "metadata": {},
     "output_type": "execute_result"
    }
   ],
   "source": [
    "dt.keys()"
   ]
  },
  {
   "cell_type": "code",
   "execution_count": 28,
   "id": "12599713-faf9-461e-8fa1-7588bd742961",
   "metadata": {},
   "outputs": [],
   "source": [
    "for i, m in enumerate(dt.keys()):\n",
    "    for j, n in enumerate(dt.keys()):\n",
    "        if i != j:\n",
    "            number_intersetction = len(set(dt[m].split(',')) & set(dt[n].split(',')))\n",
    "            tar_coeff[i,j] = number_intersetction\n",
    "            tar_coeff[j,i] = number_intersetction"
   ]
  },
  {
   "cell_type": "code",
   "execution_count": 29,
   "id": "b6f2f742-44a2-4fb4-bf8c-52f389982d26",
   "metadata": {},
   "outputs": [
    {
     "data": {
      "text/plain": [
       "{'Galunisertib'}"
      ]
     },
     "execution_count": 29,
     "metadata": {},
     "output_type": "execute_result"
    }
   ],
   "source": [
    "no_target = set(drugs) - set(dt.keys())\n",
    "no_target"
   ]
  },
  {
   "cell_type": "code",
   "execution_count": 45,
   "id": "f72246cc-a0dc-42d1-9a42-15d89a4607d4",
   "metadata": {},
   "outputs": [],
   "source": [
    "labels = list(dt.keys())\n",
    "labels.append(\"Galunisertib\")"
   ]
  },
  {
   "cell_type": "code",
   "execution_count": 46,
   "id": "1529f9e7-dc0b-470c-a333-9c7bcdbe7f92",
   "metadata": {},
   "outputs": [],
   "source": [
    "tar_codf = pd.DataFrame(data = tar_coeff, index = labels, columns = labels)"
   ]
  },
  {
   "cell_type": "code",
   "execution_count": 47,
   "id": "d38ebb6f-523a-4553-8032-e6654985ae62",
   "metadata": {},
   "outputs": [],
   "source": [
    "tar_codf.to_csv(\"../data/target_shared_jaaks.csv\", header = True, index = True)"
   ]
  },
  {
   "cell_type": "code",
   "execution_count": 48,
   "id": "bc387992-8250-4262-9e48-efcc08f1713d",
   "metadata": {},
   "outputs": [
    {
     "data": {
      "text/html": [
       "<div>\n",
       "<style scoped>\n",
       "    .dataframe tbody tr th:only-of-type {\n",
       "        vertical-align: middle;\n",
       "    }\n",
       "\n",
       "    .dataframe tbody tr th {\n",
       "        vertical-align: top;\n",
       "    }\n",
       "\n",
       "    .dataframe thead th {\n",
       "        text-align: right;\n",
       "    }\n",
       "</style>\n",
       "<table border=\"1\" class=\"dataframe\">\n",
       "  <thead>\n",
       "    <tr style=\"text-align: right;\">\n",
       "      <th></th>\n",
       "      <th>Venetoclax</th>\n",
       "      <th>Erlotinib</th>\n",
       "      <th>Vorinostat</th>\n",
       "      <th>Pictilisib</th>\n",
       "      <th>Alpelisib</th>\n",
       "      <th>Olaparib</th>\n",
       "      <th>AZD4547</th>\n",
       "      <th>Nilotinib</th>\n",
       "      <th>AZD6482</th>\n",
       "      <th>Sapitinib</th>\n",
       "      <th>...</th>\n",
       "      <th>NU7441</th>\n",
       "      <th>Axitinib</th>\n",
       "      <th>SCH772984</th>\n",
       "      <th>Ribociclib</th>\n",
       "      <th>GSK269962A</th>\n",
       "      <th>MK-2206</th>\n",
       "      <th>Sorafenib</th>\n",
       "      <th>Alisertib</th>\n",
       "      <th>Docetaxel</th>\n",
       "      <th>Galunisertib</th>\n",
       "    </tr>\n",
       "  </thead>\n",
       "  <tbody>\n",
       "    <tr>\n",
       "      <th>Venetoclax</th>\n",
       "      <td>1.0</td>\n",
       "      <td>0.0</td>\n",
       "      <td>0.0</td>\n",
       "      <td>0.0</td>\n",
       "      <td>0.0</td>\n",
       "      <td>0.0</td>\n",
       "      <td>0.0</td>\n",
       "      <td>0.0</td>\n",
       "      <td>0.0</td>\n",
       "      <td>0.0</td>\n",
       "      <td>...</td>\n",
       "      <td>0.0</td>\n",
       "      <td>0.0</td>\n",
       "      <td>0.0</td>\n",
       "      <td>0.0</td>\n",
       "      <td>0.0</td>\n",
       "      <td>0.0</td>\n",
       "      <td>0.0</td>\n",
       "      <td>0.0</td>\n",
       "      <td>0.0</td>\n",
       "      <td>0.0</td>\n",
       "    </tr>\n",
       "    <tr>\n",
       "      <th>Erlotinib</th>\n",
       "      <td>0.0</td>\n",
       "      <td>1.0</td>\n",
       "      <td>0.0</td>\n",
       "      <td>0.0</td>\n",
       "      <td>0.0</td>\n",
       "      <td>0.0</td>\n",
       "      <td>0.0</td>\n",
       "      <td>0.0</td>\n",
       "      <td>0.0</td>\n",
       "      <td>1.0</td>\n",
       "      <td>...</td>\n",
       "      <td>0.0</td>\n",
       "      <td>0.0</td>\n",
       "      <td>0.0</td>\n",
       "      <td>0.0</td>\n",
       "      <td>0.0</td>\n",
       "      <td>0.0</td>\n",
       "      <td>0.0</td>\n",
       "      <td>0.0</td>\n",
       "      <td>0.0</td>\n",
       "      <td>0.0</td>\n",
       "    </tr>\n",
       "    <tr>\n",
       "      <th>Vorinostat</th>\n",
       "      <td>0.0</td>\n",
       "      <td>0.0</td>\n",
       "      <td>1.0</td>\n",
       "      <td>0.0</td>\n",
       "      <td>0.0</td>\n",
       "      <td>0.0</td>\n",
       "      <td>0.0</td>\n",
       "      <td>0.0</td>\n",
       "      <td>0.0</td>\n",
       "      <td>0.0</td>\n",
       "      <td>...</td>\n",
       "      <td>0.0</td>\n",
       "      <td>0.0</td>\n",
       "      <td>0.0</td>\n",
       "      <td>0.0</td>\n",
       "      <td>0.0</td>\n",
       "      <td>0.0</td>\n",
       "      <td>0.0</td>\n",
       "      <td>0.0</td>\n",
       "      <td>0.0</td>\n",
       "      <td>0.0</td>\n",
       "    </tr>\n",
       "    <tr>\n",
       "      <th>Pictilisib</th>\n",
       "      <td>0.0</td>\n",
       "      <td>0.0</td>\n",
       "      <td>0.0</td>\n",
       "      <td>1.0</td>\n",
       "      <td>0.0</td>\n",
       "      <td>0.0</td>\n",
       "      <td>0.0</td>\n",
       "      <td>0.0</td>\n",
       "      <td>0.0</td>\n",
       "      <td>0.0</td>\n",
       "      <td>...</td>\n",
       "      <td>0.0</td>\n",
       "      <td>0.0</td>\n",
       "      <td>0.0</td>\n",
       "      <td>0.0</td>\n",
       "      <td>0.0</td>\n",
       "      <td>0.0</td>\n",
       "      <td>0.0</td>\n",
       "      <td>0.0</td>\n",
       "      <td>0.0</td>\n",
       "      <td>0.0</td>\n",
       "    </tr>\n",
       "    <tr>\n",
       "      <th>Alpelisib</th>\n",
       "      <td>0.0</td>\n",
       "      <td>0.0</td>\n",
       "      <td>0.0</td>\n",
       "      <td>0.0</td>\n",
       "      <td>1.0</td>\n",
       "      <td>0.0</td>\n",
       "      <td>0.0</td>\n",
       "      <td>0.0</td>\n",
       "      <td>0.0</td>\n",
       "      <td>0.0</td>\n",
       "      <td>...</td>\n",
       "      <td>0.0</td>\n",
       "      <td>0.0</td>\n",
       "      <td>0.0</td>\n",
       "      <td>0.0</td>\n",
       "      <td>0.0</td>\n",
       "      <td>0.0</td>\n",
       "      <td>0.0</td>\n",
       "      <td>0.0</td>\n",
       "      <td>0.0</td>\n",
       "      <td>0.0</td>\n",
       "    </tr>\n",
       "    <tr>\n",
       "      <th>...</th>\n",
       "      <td>...</td>\n",
       "      <td>...</td>\n",
       "      <td>...</td>\n",
       "      <td>...</td>\n",
       "      <td>...</td>\n",
       "      <td>...</td>\n",
       "      <td>...</td>\n",
       "      <td>...</td>\n",
       "      <td>...</td>\n",
       "      <td>...</td>\n",
       "      <td>...</td>\n",
       "      <td>...</td>\n",
       "      <td>...</td>\n",
       "      <td>...</td>\n",
       "      <td>...</td>\n",
       "      <td>...</td>\n",
       "      <td>...</td>\n",
       "      <td>...</td>\n",
       "      <td>...</td>\n",
       "      <td>...</td>\n",
       "      <td>...</td>\n",
       "    </tr>\n",
       "    <tr>\n",
       "      <th>MK-2206</th>\n",
       "      <td>0.0</td>\n",
       "      <td>0.0</td>\n",
       "      <td>0.0</td>\n",
       "      <td>0.0</td>\n",
       "      <td>0.0</td>\n",
       "      <td>0.0</td>\n",
       "      <td>0.0</td>\n",
       "      <td>0.0</td>\n",
       "      <td>0.0</td>\n",
       "      <td>0.0</td>\n",
       "      <td>...</td>\n",
       "      <td>0.0</td>\n",
       "      <td>0.0</td>\n",
       "      <td>0.0</td>\n",
       "      <td>0.0</td>\n",
       "      <td>0.0</td>\n",
       "      <td>1.0</td>\n",
       "      <td>0.0</td>\n",
       "      <td>0.0</td>\n",
       "      <td>0.0</td>\n",
       "      <td>0.0</td>\n",
       "    </tr>\n",
       "    <tr>\n",
       "      <th>Sorafenib</th>\n",
       "      <td>0.0</td>\n",
       "      <td>0.0</td>\n",
       "      <td>0.0</td>\n",
       "      <td>0.0</td>\n",
       "      <td>0.0</td>\n",
       "      <td>0.0</td>\n",
       "      <td>0.0</td>\n",
       "      <td>0.0</td>\n",
       "      <td>0.0</td>\n",
       "      <td>0.0</td>\n",
       "      <td>...</td>\n",
       "      <td>0.0</td>\n",
       "      <td>3.0</td>\n",
       "      <td>0.0</td>\n",
       "      <td>0.0</td>\n",
       "      <td>0.0</td>\n",
       "      <td>0.0</td>\n",
       "      <td>1.0</td>\n",
       "      <td>0.0</td>\n",
       "      <td>0.0</td>\n",
       "      <td>0.0</td>\n",
       "    </tr>\n",
       "    <tr>\n",
       "      <th>Alisertib</th>\n",
       "      <td>0.0</td>\n",
       "      <td>0.0</td>\n",
       "      <td>0.0</td>\n",
       "      <td>0.0</td>\n",
       "      <td>0.0</td>\n",
       "      <td>0.0</td>\n",
       "      <td>0.0</td>\n",
       "      <td>0.0</td>\n",
       "      <td>0.0</td>\n",
       "      <td>0.0</td>\n",
       "      <td>...</td>\n",
       "      <td>0.0</td>\n",
       "      <td>0.0</td>\n",
       "      <td>0.0</td>\n",
       "      <td>0.0</td>\n",
       "      <td>0.0</td>\n",
       "      <td>0.0</td>\n",
       "      <td>0.0</td>\n",
       "      <td>1.0</td>\n",
       "      <td>0.0</td>\n",
       "      <td>0.0</td>\n",
       "    </tr>\n",
       "    <tr>\n",
       "      <th>Docetaxel</th>\n",
       "      <td>0.0</td>\n",
       "      <td>0.0</td>\n",
       "      <td>0.0</td>\n",
       "      <td>0.0</td>\n",
       "      <td>0.0</td>\n",
       "      <td>0.0</td>\n",
       "      <td>0.0</td>\n",
       "      <td>0.0</td>\n",
       "      <td>0.0</td>\n",
       "      <td>0.0</td>\n",
       "      <td>...</td>\n",
       "      <td>0.0</td>\n",
       "      <td>0.0</td>\n",
       "      <td>0.0</td>\n",
       "      <td>0.0</td>\n",
       "      <td>0.0</td>\n",
       "      <td>0.0</td>\n",
       "      <td>0.0</td>\n",
       "      <td>0.0</td>\n",
       "      <td>1.0</td>\n",
       "      <td>0.0</td>\n",
       "    </tr>\n",
       "    <tr>\n",
       "      <th>Galunisertib</th>\n",
       "      <td>0.0</td>\n",
       "      <td>0.0</td>\n",
       "      <td>0.0</td>\n",
       "      <td>0.0</td>\n",
       "      <td>0.0</td>\n",
       "      <td>0.0</td>\n",
       "      <td>0.0</td>\n",
       "      <td>0.0</td>\n",
       "      <td>0.0</td>\n",
       "      <td>0.0</td>\n",
       "      <td>...</td>\n",
       "      <td>0.0</td>\n",
       "      <td>0.0</td>\n",
       "      <td>0.0</td>\n",
       "      <td>0.0</td>\n",
       "      <td>0.0</td>\n",
       "      <td>0.0</td>\n",
       "      <td>0.0</td>\n",
       "      <td>0.0</td>\n",
       "      <td>0.0</td>\n",
       "      <td>1.0</td>\n",
       "    </tr>\n",
       "  </tbody>\n",
       "</table>\n",
       "<p>64 rows × 64 columns</p>\n",
       "</div>"
      ],
      "text/plain": [
       "              Venetoclax  Erlotinib  Vorinostat  Pictilisib  Alpelisib   \n",
       "Venetoclax           1.0        0.0         0.0         0.0        0.0  \\\n",
       "Erlotinib            0.0        1.0         0.0         0.0        0.0   \n",
       "Vorinostat           0.0        0.0         1.0         0.0        0.0   \n",
       "Pictilisib           0.0        0.0         0.0         1.0        0.0   \n",
       "Alpelisib            0.0        0.0         0.0         0.0        1.0   \n",
       "...                  ...        ...         ...         ...        ...   \n",
       "MK-2206              0.0        0.0         0.0         0.0        0.0   \n",
       "Sorafenib            0.0        0.0         0.0         0.0        0.0   \n",
       "Alisertib            0.0        0.0         0.0         0.0        0.0   \n",
       "Docetaxel            0.0        0.0         0.0         0.0        0.0   \n",
       "Galunisertib         0.0        0.0         0.0         0.0        0.0   \n",
       "\n",
       "              Olaparib  AZD4547  Nilotinib  AZD6482  Sapitinib  ...  NU7441   \n",
       "Venetoclax         0.0      0.0        0.0      0.0        0.0  ...     0.0  \\\n",
       "Erlotinib          0.0      0.0        0.0      0.0        1.0  ...     0.0   \n",
       "Vorinostat         0.0      0.0        0.0      0.0        0.0  ...     0.0   \n",
       "Pictilisib         0.0      0.0        0.0      0.0        0.0  ...     0.0   \n",
       "Alpelisib          0.0      0.0        0.0      0.0        0.0  ...     0.0   \n",
       "...                ...      ...        ...      ...        ...  ...     ...   \n",
       "MK-2206            0.0      0.0        0.0      0.0        0.0  ...     0.0   \n",
       "Sorafenib          0.0      0.0        0.0      0.0        0.0  ...     0.0   \n",
       "Alisertib          0.0      0.0        0.0      0.0        0.0  ...     0.0   \n",
       "Docetaxel          0.0      0.0        0.0      0.0        0.0  ...     0.0   \n",
       "Galunisertib       0.0      0.0        0.0      0.0        0.0  ...     0.0   \n",
       "\n",
       "              Axitinib  SCH772984  Ribociclib  GSK269962A  MK-2206  Sorafenib   \n",
       "Venetoclax         0.0        0.0         0.0         0.0      0.0        0.0  \\\n",
       "Erlotinib          0.0        0.0         0.0         0.0      0.0        0.0   \n",
       "Vorinostat         0.0        0.0         0.0         0.0      0.0        0.0   \n",
       "Pictilisib         0.0        0.0         0.0         0.0      0.0        0.0   \n",
       "Alpelisib          0.0        0.0         0.0         0.0      0.0        0.0   \n",
       "...                ...        ...         ...         ...      ...        ...   \n",
       "MK-2206            0.0        0.0         0.0         0.0      1.0        0.0   \n",
       "Sorafenib          3.0        0.0         0.0         0.0      0.0        1.0   \n",
       "Alisertib          0.0        0.0         0.0         0.0      0.0        0.0   \n",
       "Docetaxel          0.0        0.0         0.0         0.0      0.0        0.0   \n",
       "Galunisertib       0.0        0.0         0.0         0.0      0.0        0.0   \n",
       "\n",
       "              Alisertib  Docetaxel  Galunisertib  \n",
       "Venetoclax          0.0        0.0           0.0  \n",
       "Erlotinib           0.0        0.0           0.0  \n",
       "Vorinostat          0.0        0.0           0.0  \n",
       "Pictilisib          0.0        0.0           0.0  \n",
       "Alpelisib           0.0        0.0           0.0  \n",
       "...                 ...        ...           ...  \n",
       "MK-2206             0.0        0.0           0.0  \n",
       "Sorafenib           0.0        0.0           0.0  \n",
       "Alisertib           1.0        0.0           0.0  \n",
       "Docetaxel           0.0        1.0           0.0  \n",
       "Galunisertib        0.0        0.0           1.0  \n",
       "\n",
       "[64 rows x 64 columns]"
      ]
     },
     "execution_count": 48,
     "metadata": {},
     "output_type": "execute_result"
    }
   ],
   "source": [
    "tar_codf"
   ]
  },
  {
   "cell_type": "code",
   "execution_count": 49,
   "id": "f4a5e91b-dc43-4a33-a123-d26e34c12f38",
   "metadata": {},
   "outputs": [
    {
     "data": {
      "text/plain": [
       "(64, 64)"
      ]
     },
     "execution_count": 49,
     "metadata": {},
     "output_type": "execute_result"
    }
   ],
   "source": [
    "tar_codf.shape"
   ]
  },
  {
   "cell_type": "code",
   "execution_count": 58,
   "id": "8d243ea3-40ba-4df9-bd5f-0b25afcac134",
   "metadata": {},
   "outputs": [],
   "source": [
    "shared = []\n",
    "for i, s in enumerate(tar_codf.index):\n",
    "    for j in tar_codf.columns[i:]:\n",
    "        if tar_codf.loc[s, j] != 0:\n",
    "            shared.append(f'{s}\\t{j}\\t{tar_codf.loc[s,j]}')\n",
    "with open(\"../data/source_target_co.txt\", 'w') as file:\n",
    "    file.write(\"source\\ttarget\\tcoeff\\n\")\n",
    "    file.writelines([v+\"\\n\" for i,v in enumerate(shared) if i != len(shared)])"
   ]
  },
  {
   "cell_type": "code",
   "execution_count": 59,
   "id": "efccdf6f-2f49-4382-9d2d-9d022dc31d16",
   "metadata": {},
   "outputs": [],
   "source": [
    "shared = []\n",
    "for i, s in enumerate(tar_codf.index):\n",
    "    for j in tar_codf.columns[i:]:\n",
    "        if tar_codf.loc[s, j] != 0 and s != j:\n",
    "            shared.append(f'{s}\\t{j}\\t{tar_codf.loc[s,j]}')\n",
    "with open(\"../data/source_target_co0self.txt\", 'w') as file:\n",
    "    file.write(\"source\\ttarget\\tcoeff\\n\")\n",
    "    file.writelines([v+\"\\n\" for i,v in enumerate(shared) if i != len(shared)])"
   ]
  },
  {
   "cell_type": "code",
   "execution_count": null,
   "id": "f00c502b-70ba-4296-8665-5d9d01c3f2a1",
   "metadata": {},
   "outputs": [],
   "source": []
  }
 ],
 "metadata": {
  "kernelspec": {
   "display_name": "Python 3 (ipykernel)",
   "language": "python",
   "name": "python3"
  },
  "language_info": {
   "codemirror_mode": {
    "name": "ipython",
    "version": 3
   },
   "file_extension": ".py",
   "mimetype": "text/x-python",
   "name": "python",
   "nbconvert_exporter": "python",
   "pygments_lexer": "ipython3",
   "version": "3.9.12"
  }
 },
 "nbformat": 4,
 "nbformat_minor": 5
}
