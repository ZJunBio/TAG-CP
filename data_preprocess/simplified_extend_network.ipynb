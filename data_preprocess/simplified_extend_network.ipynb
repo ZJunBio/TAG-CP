{
 "cells": [
  {
   "cell_type": "code",
   "execution_count": 1,
   "id": "c50bc954-c334-458b-b727-e786260ba4e7",
   "metadata": {},
   "outputs": [],
   "source": [
    "import numpy as np\n",
    "import pandas as pd\n"
   ]
  },
  {
   "cell_type": "code",
   "execution_count": 2,
   "id": "3dc4d2e0-26de-451c-a0f2-1d72f6829f5f",
   "metadata": {},
   "outputs": [],
   "source": [
    "#6 single drug-drug-inhibitor clusters.\n",
    "network_file = pd.read_csv(\"../data/one_graph/TTD_drugs_sharing_targets.csv\", header = 0)\n",
    "network_file = network_file.iloc[:,2:8]"
   ]
  },
  {
   "cell_type": "code",
   "execution_count": 3,
   "id": "66d996b8-6cdb-42a5-9881-bd222982b254",
   "metadata": {},
   "outputs": [
    {
     "data": {
      "text/plain": [
       "Index(['drug_name', 'targets', 'shared_by', 'shared_by_cid',\n",
       "       'shared_by_smiles'],\n",
       "      dtype='object')"
      ]
     },
     "execution_count": 3,
     "metadata": {},
     "output_type": "execute_result"
    }
   ],
   "source": [
    "network_file.columns"
   ]
  },
  {
   "cell_type": "code",
   "execution_count": 4,
   "id": "0f5bdcbd-1783-4b04-9bd1-44e8176b13e5",
   "metadata": {},
   "outputs": [
    {
     "name": "stdout",
     "output_type": "stream",
     "text": [
      "6 ['D02KKA', 'D0ZW4W', 'D05ROI', 'D05LEO', 'D05BYA', 'D0SH3I']\n"
     ]
    }
   ],
   "source": [
    "#single cluster have no intersections with other clusters.\n",
    "cluster = {}\n",
    "for d in pd.unique(network_file[\"drug_name\"]):\n",
    "    temp_ = network_file[network_file[\"drug_name\"] == d]\n",
    "    same_inhi_drug = temp_[\"shared_by\"].to_list()\n",
    "    #same_inhi_drug.append(d)\n",
    "    cluster[d] = same_inhi_drug\n",
    "disjoint = []\n",
    "for k, v in cluster.items():\n",
    "    marker = [0]\n",
    "    for m, n in cluster.items():\n",
    "        if k != m:\n",
    "            if not set(v).isdisjoint(set(n)):\n",
    "                marker.append(1)\n",
    "    if not any(marker):\n",
    "        disjoint.append(k)\n",
    "print(len(disjoint), disjoint)"
   ]
  },
  {
   "cell_type": "code",
   "execution_count": 5,
   "id": "36b06667-8cba-4b2b-b305-e4621a451622",
   "metadata": {},
   "outputs": [
    {
     "name": "stdout",
     "output_type": "stream",
     "text": [
      "47\n",
      "2078\n"
     ]
    }
   ],
   "source": [
    "for i in disjoint:\n",
    "    network_file = network_file[network_file[\"drug_name\"] != i]\n",
    "network_file.reset_index(drop = True, inplace = True)\n",
    "print(len(pd.unique(network_file[\"drug_name\"])))\n",
    "print(len(pd.unique(network_file[\"shared_by\"])))"
   ]
  },
  {
   "cell_type": "code",
   "execution_count": 10,
   "id": "e681158c-9a56-4092-b029-9f74f15b3d20",
   "metadata": {},
   "outputs": [
    {
     "data": {
      "text/plain": [
       "(4553, 5)"
      ]
     },
     "execution_count": 10,
     "metadata": {},
     "output_type": "execute_result"
    }
   ],
   "source": [
    "network_file.shape\n",
    "#network_file[network_file[\"shared_by_smiles\"] != 'zero'].shape"
   ]
  },
  {
   "cell_type": "code",
   "execution_count": 11,
   "id": "ffbc6dce-a9ca-4898-aca0-dbf8a46b79b0",
   "metadata": {},
   "outputs": [],
   "source": [
    "temp = network_file[network_file[\"shared_by_smiles\"] != \"zero\"]\n",
    "temp.to_csv(\"../data/one_graph/temp_network_1.csv\", header = True, index = False)"
   ]
  },
  {
   "cell_type": "code",
   "execution_count": null,
   "id": "a9301f01-a6aa-45e1-90e4-138f0ed0463d",
   "metadata": {},
   "outputs": [],
   "source": [
    "####Follow steps base on mapping smiles of TTD smiles mapping data."
   ]
  },
  {
   "cell_type": "code",
   "execution_count": 2,
   "id": "6d1eb1bc-118c-4505-9429-a35f6914531f",
   "metadata": {},
   "outputs": [],
   "source": [
    "network_file = pd.read_csv(\"../data/one_graph/network_file_2.csv\", header = 0)"
   ]
  },
  {
   "cell_type": "code",
   "execution_count": 3,
   "id": "f258d5ba-85b8-4da0-ba3f-6888826d0bd0",
   "metadata": {},
   "outputs": [
    {
     "data": {
      "text/plain": [
       "Index(['drug_name', 'targets', 'shared_by', 'shared_by_cid',\n",
       "       'shared_by_smiles'],\n",
       "      dtype='object')"
      ]
     },
     "execution_count": 3,
     "metadata": {},
     "output_type": "execute_result"
    }
   ],
   "source": [
    "network_file.columns"
   ]
  },
  {
   "cell_type": "code",
   "execution_count": 4,
   "id": "3611c34f-c84f-49b0-9f5a-da40dfc36400",
   "metadata": {},
   "outputs": [
    {
     "data": {
      "text/plain": [
       "1524"
      ]
     },
     "execution_count": 4,
     "metadata": {},
     "output_type": "execute_result"
    }
   ],
   "source": [
    "len(pd.unique(network_file[\"shared_by\"]))"
   ]
  },
  {
   "cell_type": "code",
   "execution_count": 5,
   "id": "9f7ccb09-8f7c-4eac-9de8-c082bb31a479",
   "metadata": {},
   "outputs": [
    {
     "data": {
      "text/plain": [
       "1237"
      ]
     },
     "execution_count": 5,
     "metadata": {},
     "output_type": "execute_result"
    }
   ],
   "source": [
    "temp_ = pd.read_csv(\"../data/one_graph/temp_network_1.csv\", header = 0)\n",
    "len(pd.unique(temp_[\"shared_by\"]))"
   ]
  },
  {
   "cell_type": "code",
   "execution_count": 10,
   "id": "06a8f8bf-837b-48e9-8ee9-52add350d458",
   "metadata": {},
   "outputs": [],
   "source": [
    "#small clusters\n",
    "ls = [\"D03UVS\", \"D0Y3ME\", \"D0U5HU\", \"D0C8EU\", \"D07HOB\", \"D09YDM\"]"
   ]
  },
  {
   "cell_type": "code",
   "execution_count": 11,
   "id": "e157eea1-d052-4262-ab53-5342caf1cf46",
   "metadata": {},
   "outputs": [
    {
     "name": "stdout",
     "output_type": "stream",
     "text": [
      "41\n",
      "1364\n"
     ]
    }
   ],
   "source": [
    "for i in ls:\n",
    "    network_file = network_file[network_file[\"drug_name\"] != i]\n",
    "network_file.reset_index(drop = True, inplace = True)\n",
    "print(len(pd.unique(network_file[\"drug_name\"])))\n",
    "print(len(pd.unique(network_file[\"shared_by\"])))"
   ]
  },
  {
   "cell_type": "code",
   "execution_count": 12,
   "id": "1393464a-4be7-4478-a03a-ad03c0e3cb5f",
   "metadata": {},
   "outputs": [],
   "source": [
    "network_file.to_csv(\"../data/one_graph/network_file_2.csv\", header = True, index = False)"
   ]
  },
  {
   "cell_type": "code",
   "execution_count": 13,
   "id": "c0146972-5e1f-430a-9a00-55b1e9dc0881",
   "metadata": {},
   "outputs": [
    {
     "name": "stdout",
     "output_type": "stream",
     "text": [
      "41\n",
      "1109\n"
     ]
    }
   ],
   "source": [
    "for i in ls:\n",
    "    temp_ = temp_[temp_[\"drug_name\"] != i]\n",
    "temp_.reset_index(drop = True, inplace = True)\n",
    "print(len(pd.unique(temp_[\"drug_name\"])))\n",
    "print(len(pd.unique(temp_[\"shared_by\"])))\n",
    "#temp_ = pd.read_csv(\"../data/one_graph/network_file1.csv\", header = 0)"
   ]
  },
  {
   "cell_type": "code",
   "execution_count": 15,
   "id": "a1e695a2-1611-4f07-8f1a-0c1a4bbc44d3",
   "metadata": {},
   "outputs": [
    {
     "data": {
      "text/html": [
       "<div>\n",
       "<style scoped>\n",
       "    .dataframe tbody tr th:only-of-type {\n",
       "        vertical-align: middle;\n",
       "    }\n",
       "\n",
       "    .dataframe tbody tr th {\n",
       "        vertical-align: top;\n",
       "    }\n",
       "\n",
       "    .dataframe thead th {\n",
       "        text-align: right;\n",
       "    }\n",
       "</style>\n",
       "<table border=\"1\" class=\"dataframe\">\n",
       "  <thead>\n",
       "    <tr style=\"text-align: right;\">\n",
       "      <th></th>\n",
       "      <th>drug_name</th>\n",
       "      <th>targets</th>\n",
       "      <th>shared_by</th>\n",
       "      <th>shared_by_cid</th>\n",
       "      <th>shared_by_smiles</th>\n",
       "    </tr>\n",
       "  </thead>\n",
       "  <tbody>\n",
       "    <tr>\n",
       "      <th>1227</th>\n",
       "      <td>D05CDF</td>\n",
       "      <td>T31406</td>\n",
       "      <td>D05CDF</td>\n",
       "      <td>156422</td>\n",
       "      <td>CC1=CC=C(C=C1)N2C(=CC(=N2)C(C)(C)C)NC(=O)NC3=C...</td>\n",
       "    </tr>\n",
       "    <tr>\n",
       "      <th>1228</th>\n",
       "      <td>D05CDF</td>\n",
       "      <td>T31406</td>\n",
       "      <td>D03EHM</td>\n",
       "      <td>24905142</td>\n",
       "      <td>C1CCC(C1)N2C3=NC=NC(=C3C(=N2)C4=CN=C5C(=C4)C=C...</td>\n",
       "    </tr>\n",
       "    <tr>\n",
       "      <th>1229</th>\n",
       "      <td>D05CDF</td>\n",
       "      <td>T31406</td>\n",
       "      <td>D08RZB</td>\n",
       "      <td>11153014</td>\n",
       "      <td>CC1=C(C(=CC=C1)Cl)NC(=O)C2=CN=C(S2)NC3=NC(=NC(...</td>\n",
       "    </tr>\n",
       "    <tr>\n",
       "      <th>1230</th>\n",
       "      <td>D05CDF</td>\n",
       "      <td>T31406</td>\n",
       "      <td>D07PDQ</td>\n",
       "      <td>45109868</td>\n",
       "      <td>CC1=CC=C(C=C1)N2C(=CC(=N2)C(C)(C)C)NC(=O)NC3=C...</td>\n",
       "    </tr>\n",
       "    <tr>\n",
       "      <th>1231</th>\n",
       "      <td>D05CDF</td>\n",
       "      <td>T31406</td>\n",
       "      <td>D0D5PL</td>\n",
       "      <td>71577234</td>\n",
       "      <td>C1COCCN1CC2=CC(=CC=C2)C3=CC4=NC=CC(=C4S3)NC5=C...</td>\n",
       "    </tr>\n",
       "    <tr>\n",
       "      <th>1232</th>\n",
       "      <td>D05CDF</td>\n",
       "      <td>T31406</td>\n",
       "      <td>D07FAF</td>\n",
       "      <td>53344793</td>\n",
       "      <td>C=CCOC1=CC2=C(C=C1)C=C(C=C2)C3=NN(C4=NC=NC(=C3...</td>\n",
       "    </tr>\n",
       "    <tr>\n",
       "      <th>1233</th>\n",
       "      <td>D05CDF</td>\n",
       "      <td>T31406</td>\n",
       "      <td>D04XHJ</td>\n",
       "      <td>46398830</td>\n",
       "      <td>C1CNCCC1CN2C3=NC=NC(=C3C(=N2)CC4=CC=CC5=CC=CC=...</td>\n",
       "    </tr>\n",
       "    <tr>\n",
       "      <th>1234</th>\n",
       "      <td>D05CDF</td>\n",
       "      <td>T31406</td>\n",
       "      <td>D0Y9PK</td>\n",
       "      <td>53346432</td>\n",
       "      <td>CCOC1=CC2=C(C=C1)C=C(C=C2)C3=NN(C4=NC=NC(=C34)...</td>\n",
       "    </tr>\n",
       "    <tr>\n",
       "      <th>1235</th>\n",
       "      <td>D05CDF</td>\n",
       "      <td>T31406</td>\n",
       "      <td>D0H0SM</td>\n",
       "      <td>71547929</td>\n",
       "      <td>CC1=CC=C(C=C1)N2C(=CC(=N2)C(C)(C)C)NC(=O)NC3=C...</td>\n",
       "    </tr>\n",
       "    <tr>\n",
       "      <th>1236</th>\n",
       "      <td>D05CDF</td>\n",
       "      <td>T31406</td>\n",
       "      <td>D0Y4TK</td>\n",
       "      <td>46218331</td>\n",
       "      <td>CC1=CC=C(C=C1)N2C(=CC(=N2)C(C)(C)C)NC(=O)NC3=C...</td>\n",
       "    </tr>\n",
       "    <tr>\n",
       "      <th>1237</th>\n",
       "      <td>D05CDF</td>\n",
       "      <td>T31406</td>\n",
       "      <td>D0B7VP</td>\n",
       "      <td>46198319</td>\n",
       "      <td>CC1=CC=C(C=C1)N2C(=CC(=N2)C(C)(C)C)NC(=O)NC3=C...</td>\n",
       "    </tr>\n",
       "  </tbody>\n",
       "</table>\n",
       "</div>"
      ],
      "text/plain": [
       "     drug_name targets shared_by shared_by_cid   \n",
       "1227    D05CDF  T31406    D05CDF        156422  \\\n",
       "1228    D05CDF  T31406    D03EHM      24905142   \n",
       "1229    D05CDF  T31406    D08RZB      11153014   \n",
       "1230    D05CDF  T31406    D07PDQ      45109868   \n",
       "1231    D05CDF  T31406    D0D5PL      71577234   \n",
       "1232    D05CDF  T31406    D07FAF      53344793   \n",
       "1233    D05CDF  T31406    D04XHJ      46398830   \n",
       "1234    D05CDF  T31406    D0Y9PK      53346432   \n",
       "1235    D05CDF  T31406    D0H0SM      71547929   \n",
       "1236    D05CDF  T31406    D0Y4TK      46218331   \n",
       "1237    D05CDF  T31406    D0B7VP      46198319   \n",
       "\n",
       "                                       shared_by_smiles  \n",
       "1227  CC1=CC=C(C=C1)N2C(=CC(=N2)C(C)(C)C)NC(=O)NC3=C...  \n",
       "1228  C1CCC(C1)N2C3=NC=NC(=C3C(=N2)C4=CN=C5C(=C4)C=C...  \n",
       "1229  CC1=C(C(=CC=C1)Cl)NC(=O)C2=CN=C(S2)NC3=NC(=NC(...  \n",
       "1230  CC1=CC=C(C=C1)N2C(=CC(=N2)C(C)(C)C)NC(=O)NC3=C...  \n",
       "1231  C1COCCN1CC2=CC(=CC=C2)C3=CC4=NC=CC(=C4S3)NC5=C...  \n",
       "1232  C=CCOC1=CC2=C(C=C1)C=C(C=C2)C3=NN(C4=NC=NC(=C3...  \n",
       "1233  C1CNCCC1CN2C3=NC=NC(=C3C(=N2)CC4=CC=CC5=CC=CC=...  \n",
       "1234  CCOC1=CC2=C(C=C1)C=C(C=C2)C3=NN(C4=NC=NC(=C34)...  \n",
       "1235  CC1=CC=C(C=C1)N2C(=CC(=N2)C(C)(C)C)NC(=O)NC3=C...  \n",
       "1236  CC1=CC=C(C=C1)N2C(=CC(=N2)C(C)(C)C)NC(=O)NC3=C...  \n",
       "1237  CC1=CC=C(C=C1)N2C(=CC(=N2)C(C)(C)C)NC(=O)NC3=C...  "
      ]
     },
     "execution_count": 15,
     "metadata": {},
     "output_type": "execute_result"
    }
   ],
   "source": [
    "network_file[network_file[\"drug_name\"] == \"D05CDF\"]"
   ]
  },
  {
   "cell_type": "code",
   "execution_count": 16,
   "id": "713f26c0-8dbc-4ee5-b8f9-302d3d3877a2",
   "metadata": {},
   "outputs": [
    {
     "name": "stdout",
     "output_type": "stream",
     "text": [
      "1351\n"
     ]
    }
   ],
   "source": [
    "for d in pd.unique(network_file[\"drug_name\"]):\n",
    "    bool_1 = (network_file[\"drug_name\"] == d)\n",
    "    bool_3 = (network_file[\"shared_by\"] == d)\n",
    "    bool_ = np.logical_not(np.logical_and(bool_1, bool_3))\n",
    "    network_file = network_file[bool_]\n",
    "print(len(pd.unique(network_file[\"shared_by\"])))"
   ]
  },
  {
   "cell_type": "code",
   "execution_count": 2,
   "id": "aa4c8d07-7bfe-4d43-b097-adb5155de783",
   "metadata": {},
   "outputs": [],
   "source": [
    "#In next analysis, we observed that \"D03UKJ\" and \"D0S5WP\" are combinations without smiles.\n",
    "network_file = pd.read_csv(\"../data/one_graph/network_file_0self.csv\", header = 0)\n",
    "network_file = network_file[network_file[\"shared_by\"] != \"D03UKJ\"]\n",
    "network_file = network_file[network_file[\"shared_by\"] != \"D0S5WP\"]\n",
    "network_file.reset_index(drop = True, inplace = True)"
   ]
  },
  {
   "cell_type": "code",
   "execution_count": 3,
   "id": "8c84f7b7-4901-42ba-8ae1-a8697757a8c1",
   "metadata": {},
   "outputs": [
    {
     "name": "stdout",
     "output_type": "stream",
     "text": [
      "1349\n"
     ]
    }
   ],
   "source": [
    "print(len(pd.unique(network_file[\"shared_by\"])))"
   ]
  },
  {
   "cell_type": "code",
   "execution_count": 5,
   "id": "4df6edf0-7722-45a9-9a92-445445ea7f42",
   "metadata": {},
   "outputs": [],
   "source": [
    "network_file.to_csv(\"../data/one_graph/network_file_0self.csv\", header = True, index = False)"
   ]
  },
  {
   "cell_type": "code",
   "execution_count": null,
   "id": "05892434-b171-46ae-a8a8-2bc651c857e5",
   "metadata": {},
   "outputs": [],
   "source": []
  }
 ],
 "metadata": {
  "kernelspec": {
   "display_name": "Python 3 (ipykernel)",
   "language": "python",
   "name": "python3"
  },
  "language_info": {
   "codemirror_mode": {
    "name": "ipython",
    "version": 3
   },
   "file_extension": ".py",
   "mimetype": "text/x-python",
   "name": "python",
   "nbconvert_exporter": "python",
   "pygments_lexer": "ipython3",
   "version": "3.9.7"
  }
 },
 "nbformat": 4,
 "nbformat_minor": 5
}
