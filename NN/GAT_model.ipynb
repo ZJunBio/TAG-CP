{
 "cells": [
  {
   "cell_type": "code",
   "execution_count": null,
   "id": "6d3e796f-95d8-465e-aab1-ce968f999d3d",
   "metadata": {},
   "outputs": [],
   "source": [
    "'''\n",
    "Low-dimensional embedding learning of compounds.\n",
    "'''"
   ]
  },
  {
   "cell_type": "code",
   "execution_count": 1,
   "id": "c3857ed1-41a0-458e-814c-94a4d5ad7560",
   "metadata": {},
   "outputs": [
    {
     "name": "stderr",
     "output_type": "stream",
     "text": [
      "/home/zhangjun/.local/lib/python3.9/site-packages/tqdm/auto.py:21: TqdmWarning: IProgress not found. Please update jupyter and ipywidgets. See https://ipywidgets.readthedocs.io/en/stable/user_install.html\n",
      "  from .autonotebook import tqdm as notebook_tqdm\n"
     ]
    }
   ],
   "source": [
    "from sklearn.metrics import accuracy_score\n",
    "import torch.nn.functional as F\n",
    "from torch_geometric.nn import GATConv\n",
    "from torch_geometric.nn import summary\n",
    "from torch.nn import Linear\n",
    "import sys\n",
    "sys.path.append(\"../data_preprocess/\")\n",
    "from dataset_copy_optimize_label import *\n",
    "from utils import train_acc, val_acc, EarlyStopping\n",
    "args = (\"../data/one_graph/network_file_0self.csv\", \"../data/jaaks_druginfo_ttid.csv\")    \n",
    "data = process_data(args) "
   ]
  },
  {
   "cell_type": "markdown",
   "id": "5386cd3b-a6b3-470b-bcb6-fff2491dc58a",
   "metadata": {
    "tags": []
   },
   "source": [
    "Create Network\n",
    "--------------"
   ]
  },
  {
   "cell_type": "code",
   "execution_count": 2,
   "id": "97cd8995-ae7d-447b-9333-9b75106a1077",
   "metadata": {},
   "outputs": [],
   "source": [
    "att_dim = 256     #output dimension of first convolutional layer of each input sample\n",
    "att_dim2 = 128    #output dimension of second convolutional layer of each input sample\n",
    "att_dim3 = 64     #output dimension of third convolutional layer of each input sample\n",
    "lin_dim = 64      #output dimension of first linear layer of each input sample\n",
    "lin_dim2 = 42 m   #output dimension of second linear layer of each input sample\n",
    "input_dim = data.num_node_features\n",
    "output_dim = data.y.shape[1]\n",
    "setup_seed(2023)"
   ]
  },
  {
   "cell_type": "code",
   "execution_count": 3,
   "id": "a0d7b621-6d2c-4e26-9e4f-c3ffb4f11149",
   "metadata": {},
   "outputs": [],
   "source": [
    "#Define the Graph Attention Network model.\n",
    "class GAT(torch.nn.Module):\n",
    "    def __init__(self, input_dim, output_dim, att_dim, att_dim2, att_dim3, lin_dim):\n",
    "        '''\n",
    "        input_dim: the initial size/dimendion of each input sample\n",
    "        output_dim: the final size/dimension of each input sample\n",
    "        '''\n",
    "        super().__init__()\n",
    "        #the model including 3 convolutional layers and two linear transformation layers.\n",
    "        self.conv1 = GATConv(in_channels = input_dim, out_channels = att_dim)\n",
    "        self.conv2 = GATConv(in_channels = att_dim, out_channels = att_dim2)\n",
    "        self.conv3 = GATConv(in_channels = att_dim2, out_channels = att_dim3)\n",
    "        self.linear1 = Linear(att_dim3, lin_dim)\n",
    "        self.linear2 = Linear(lin_dim, output_dim)\n",
    "        \n",
    "\n",
    "    def forward(self, data):\n",
    "        x, edge_index = data.x, data.edge_index\n",
    "\n",
    "        x = self.conv1(x, edge_index)\n",
    "        x = F.relu(x)\n",
    "        #x = F.dropout(x, training=self.training)\n",
    "        x = self.conv2(x, edge_index)\n",
    "        x = F.relu(x)\n",
    "        x = self.conv3(x, edge_index)\n",
    "        x_out = F.relu(x)\n",
    "        x = self.linear1(x_out)\n",
    "        x = F.relu(x)\n",
    "        x = self.linear2(x)\n",
    "        out = torch.sigmoid(x)\n",
    "        \n",
    "\n",
    "        return x_out, out"
   ]
  },
  {
   "cell_type": "markdown",
   "id": "ae6e74ea-6f96-4b06-aadf-9bab7726784f",
   "metadata": {
    "tags": []
   },
   "source": [
    "Instantiate model\n",
    "-----------------"
   ]
  },
  {
   "cell_type": "code",
   "execution_count": 4,
   "id": "f60aaec8-2924-43f8-9938-ff4a637ad82b",
   "metadata": {},
   "outputs": [
    {
     "name": "stdout",
     "output_type": "stream",
     "text": [
      "+-------------------+------------------------+------------------------+----------+\n",
      "| Layer             | Input Shape            | Output Shape           | #Param   |\n",
      "|-------------------+------------------------+------------------------+----------|\n",
      "| GAT               | [1362, 1362]           | [1362, 64], [1362, 42] | 91,946   |\n",
      "| ├─(conv1)GATConv  | [1362, 167], [2, 5576] | [1362, 256]            | 43,520   |\n",
      "| ├─(conv2)GATConv  | [1362, 256], [2, 5576] | [1362, 128]            | 33,152   |\n",
      "| ├─(conv3)GATConv  | [1362, 128], [2, 5576] | [1362, 64]             | 8,384    |\n",
      "| ├─(linear1)Linear | [1362, 64]             | [1362, 64]             | 4,160    |\n",
      "| ├─(linear2)Linear | [1362, 64]             | [1362, 42]             | 2,730    |\n",
      "+-------------------+------------------------+------------------------+----------+\n"
     ]
    }
   ],
   "source": [
    "device = torch.device('cuda' if torch.cuda.is_available() else 'cpu')\n",
    "model = GAT(input_dim, output_dim, att_dim, att_dim2, att_dim3, lin_dim).to(device)\n",
    "data = data.to(device)\n",
    "optimizer = torch.optim.SGD(model.parameters(), lr=0.5, momentum=0.9)\n",
    "print(summary(model, data))"
   ]
  },
  {
   "cell_type": "markdown",
   "id": "2cb5a11c-5fb2-48f5-9727-1bf2341d1e89",
   "metadata": {
    "tags": []
   },
   "source": [
    "Train model\n",
    "-----------"
   ]
  },
  {
   "cell_type": "code",
   "execution_count": 5,
   "id": "ab43858e-13c7-4ca9-bae4-ef332bd5b502",
   "metadata": {},
   "outputs": [],
   "source": [
    "ES = EarlyStopping(\"../models/crl_GAT_3l600epoch_es_SGD_withreturn.pt\", patience = 20)"
   ]
  },
  {
   "cell_type": "code",
   "execution_count": 6,
   "id": "c5c49713-a8bd-46ed-9cff-e633e00c3251",
   "metadata": {
    "scrolled": true,
    "tags": []
   },
   "outputs": [
    {
     "name": "stdout",
     "output_type": "stream",
     "text": [
      "Loss:0.694097, train Acc:0.018365, Val Loss:0.687164, Val Acc: 0.132353\n",
      "INFO: Early stopping counter 1 of 20\n",
      "INFO: Early stopping counter 2 of 20\n",
      "INFO: Early stopping counter 3 of 20\n",
      "INFO: Early stopping counter 4 of 20\n",
      "INFO: Early stopping counter 5 of 20\n",
      "INFO: Early stopping counter 6 of 20\n",
      "INFO: Early stopping counter 7 of 20\n",
      "INFO: Early stopping counter 8 of 20\n",
      "INFO: Early stopping counter 9 of 20\n",
      "INFO: Early stopping counter 10 of 20\n",
      "INFO: Early stopping counter 11 of 20\n",
      "Loss:0.152118, train Acc:0.024793, Val Loss:0.168517, Val Acc: 0.007353\n",
      "INFO: Early stopping counter 12 of 20\n",
      "INFO: Early stopping counter 13 of 20\n",
      "INFO: Early stopping counter 14 of 20\n",
      "INFO: Early stopping counter 15 of 20\n",
      "INFO: Early stopping counter 1 of 20\n",
      "INFO: Early stopping counter 2 of 20\n",
      "INFO: Early stopping counter 3 of 20\n",
      "INFO: Early stopping counter 1 of 20\n",
      "INFO: Early stopping counter 2 of 20\n",
      "INFO: Early stopping counter 3 of 20\n",
      "INFO: Early stopping counter 4 of 20\n",
      "INFO: Early stopping counter 1 of 20\n",
      "INFO: Early stopping counter 2 of 20\n",
      "INFO: Early stopping counter 3 of 20\n",
      "Loss:0.122255, train Acc:0.157943, Val Loss:0.117033, Val Acc: 0.154412\n",
      "INFO: Early stopping counter 4 of 20\n",
      "INFO: Early stopping counter 1 of 20\n",
      "INFO: Early stopping counter 2 of 20\n",
      "INFO: Early stopping counter 3 of 20\n",
      "INFO: Early stopping counter 4 of 20\n",
      "INFO: Early stopping counter 5 of 20\n",
      "INFO: Early stopping counter 1 of 20\n",
      "INFO: Early stopping counter 2 of 20\n",
      "INFO: Early stopping counter 3 of 20\n",
      "INFO: Early stopping counter 1 of 20\n",
      "INFO: Early stopping counter 2 of 20\n",
      "INFO: Early stopping counter 3 of 20\n",
      "INFO: Early stopping counter 4 of 20\n",
      "Loss:0.117711, train Acc:0.157943, Val Loss:0.116026, Val Acc: 0.154412\n",
      "Loss:0.114394, train Acc:0.157943, Val Loss:0.111768, Val Acc: 0.154412\n",
      "Loss:0.105002, train Acc:0.235078, Val Loss:0.102314, Val Acc: 0.213235\n",
      "Loss:0.100488, train Acc:0.310376, Val Loss:0.097298, Val Acc: 0.323529\n",
      "Loss:0.095034, train Acc:0.351699, Val Loss:0.090729, Val Acc: 0.397059\n",
      "Loss:0.087432, train Acc:0.378329, Val Loss:0.083105, Val Acc: 0.419118\n",
      "Loss:0.080520, train Acc:0.426079, Val Loss:0.077259, Val Acc: 0.433824\n",
      "Loss:0.073301, train Acc:0.559229, Val Loss:0.070887, Val Acc: 0.544118\n",
      "Loss:0.064895, train Acc:0.569330, Val Loss:0.063156, Val Acc: 0.536765\n",
      "Loss:0.057042, train Acc:0.628099, Val Loss:0.054693, Val Acc: 0.602941\n",
      "Loss:0.051093, train Acc:0.664830, Val Loss:0.048769, Val Acc: 0.647059\n",
      "Loss:0.046409, train Acc:0.707071, Val Loss:0.044534, Val Acc: 0.683824\n",
      "Loss:0.042041, train Acc:0.734619, Val Loss:0.040655, Val Acc: 0.720588\n",
      "Loss:0.037819, train Acc:0.784206, Val Loss:0.036682, Val Acc: 0.801471\n",
      "Loss:0.033822, train Acc:0.817264, Val Loss:0.032616, Val Acc: 0.801471\n",
      "Loss:0.030486, train Acc:0.829201, Val Loss:0.029017, Val Acc: 0.830882\n",
      "INFO: Early stopping counter 1 of 20\n",
      "INFO: Early stopping counter 1 of 20\n",
      "Loss:0.027667, train Acc:0.854913, Val Loss:0.026715, Val Acc: 0.860294\n",
      "INFO: Early stopping counter 1 of 20\n",
      "INFO: Early stopping counter 1 of 20\n",
      "INFO: Early stopping counter 2 of 20\n",
      "INFO: Early stopping counter 3 of 20\n",
      "INFO: Early stopping counter 4 of 20\n",
      "INFO: Early stopping counter 5 of 20\n",
      "INFO: Early stopping counter 6 of 20\n",
      "INFO: Early stopping counter 7 of 20\n",
      "INFO: Early stopping counter 8 of 20\n",
      "INFO: Early stopping counter 9 of 20\n",
      "INFO: Early stopping counter 10 of 20\n",
      "INFO: Early stopping counter 11 of 20\n",
      "INFO: Early stopping counter 12 of 20\n",
      "INFO: Early stopping counter 13 of 20\n",
      "INFO: Early stopping counter 14 of 20\n",
      "Loss:0.031575, train Acc:0.843893, Val Loss:0.027355, Val Acc: 0.801471\n",
      "INFO: Early stopping counter 15 of 20\n",
      "INFO: Early stopping counter 16 of 20\n",
      "INFO: Early stopping counter 17 of 20\n",
      "INFO: Early stopping counter 18 of 20\n",
      "INFO: Early stopping counter 1 of 20\n",
      "INFO: Early stopping counter 2 of 20\n",
      "INFO: Early stopping counter 3 of 20\n",
      "INFO: Early stopping counter 4 of 20\n",
      "INFO: Early stopping counter 5 of 20\n",
      "INFO: Early stopping counter 1 of 20\n",
      "INFO: Early stopping counter 1 of 20\n",
      "INFO: Early stopping counter 2 of 20\n",
      "INFO: Early stopping counter 1 of 20\n",
      "INFO: Early stopping counter 1 of 20\n",
      "INFO: Early stopping counter 2 of 20\n",
      "Loss:0.025300, train Acc:0.863177, Val Loss:0.023737, Val Acc: 0.875000\n",
      "INFO: Early stopping counter 1 of 20\n",
      "INFO: Early stopping counter 1 of 20\n",
      "INFO: Early stopping counter 1 of 20\n",
      "INFO: Early stopping counter 1 of 20\n",
      "INFO: Early stopping counter 1 of 20\n",
      "INFO: Early stopping counter 1 of 20\n",
      "Loss:0.023352, train Acc:0.880624, Val Loss:0.022537, Val Acc: 0.889706\n",
      "INFO: Early stopping counter 1 of 20\n",
      "INFO: Early stopping counter 1 of 20\n",
      "INFO: Early stopping counter 1 of 20\n",
      "Loss:0.021944, train Acc:0.884298, Val Loss:0.021993, Val Acc: 0.882353\n",
      "Loss:0.020759, train Acc:0.886134, Val Loss:0.021188, Val Acc: 0.875000\n",
      "Loss:0.019792, train Acc:0.896235, Val Loss:0.020458, Val Acc: 0.882353\n",
      "Loss:0.018812, train Acc:0.906336, Val Loss:0.019809, Val Acc: 0.897059\n",
      "Loss:0.018003, train Acc:0.909091, Val Loss:0.019741, Val Acc: 0.875000\n",
      "INFO: Early stopping counter 1 of 20\n",
      "INFO: Early stopping counter 2 of 20\n",
      "INFO: Early stopping counter 3 of 20\n",
      "INFO: Early stopping counter 1 of 20\n",
      "INFO: Early stopping counter 1 of 20\n",
      "Loss:0.017225, train Acc:0.909091, Val Loss:0.019024, Val Acc: 0.897059\n",
      "INFO: Early stopping counter 1 of 20\n",
      "INFO: Early stopping counter 2 of 20\n",
      "INFO: Early stopping counter 3 of 20\n",
      "INFO: Early stopping counter 1 of 20\n",
      "INFO: Early stopping counter 1 of 20\n",
      "INFO: Early stopping counter 1 of 20\n",
      "Loss:0.016453, train Acc:0.914601, Val Loss:0.018680, Val Acc: 0.897059\n",
      "INFO: Early stopping counter 1 of 20\n",
      "INFO: Early stopping counter 2 of 20\n",
      "INFO: Early stopping counter 3 of 20\n",
      "INFO: Early stopping counter 4 of 20\n",
      "INFO: Early stopping counter 5 of 20\n",
      "INFO: Early stopping counter 6 of 20\n",
      "INFO: Early stopping counter 7 of 20\n",
      "INFO: Early stopping counter 1 of 20\n",
      "INFO: Early stopping counter 2 of 20\n",
      "INFO: Early stopping counter 3 of 20\n",
      "INFO: Early stopping counter 4 of 20\n",
      "INFO: Early stopping counter 5 of 20\n",
      "INFO: Early stopping counter 6 of 20\n",
      "INFO: Early stopping counter 1 of 20\n"
     ]
    }
   ],
   "source": [
    "loss_ = []\n",
    "train_ = []\n",
    "acc_ = []\n",
    "val_l = []\n",
    "model.train()\n",
    "for epoch in range(600):\n",
    "    \n",
    "    optimizer.zero_grad()\n",
    "    _, out = model(data)\n",
    "    loss = F.binary_cross_entropy(out[data.train_idx], data.y[data.train_idx])\n",
    "    loss.backward()\n",
    "    optimizer.step()\n",
    "    train_a = train_acc(out, data)\n",
    "    val, val_loss = val_acc(model, data)\n",
    "    loss_.append(loss)\n",
    "    train_.append(train_a)\n",
    "    acc_.append(val)\n",
    "    val_l.append(val_loss)\n",
    "    if epoch % 20 == 0:\n",
    "        print(f'Loss:{loss:.6f}, train Acc:{train_a:.6f}, Val Loss:{val_loss:.6f}, Val Acc: {val:.6f}')\n",
    "    ES(loss)\n",
    "    if ES.earlystop:\n",
    "        torch.save(model, ES.save_path)\n",
    "        break"
   ]
  },
  {
   "cell_type": "markdown",
   "id": "872a5e33-06b7-4128-8de1-40589195c7ce",
   "metadata": {
    "tags": []
   },
   "source": [
    "Evaluate accuracy\n",
    "-----------------"
   ]
  },
  {
   "cell_type": "code",
   "execution_count": 7,
   "id": "cb5e4b8d-bdbd-4dbc-b65d-45c76ef64a43",
   "metadata": {},
   "outputs": [
    {
     "name": "stdout",
     "output_type": "stream",
     "text": [
      "<class 'list'> <class 'list'> <class 'list'> <class 'list'>\n"
     ]
    }
   ],
   "source": [
    "print(type(loss_), type(train_), type(acc_), type(val_l))"
   ]
  },
  {
   "cell_type": "code",
   "execution_count": 8,
   "id": "200d6af6-d68f-46da-ade7-83bddc5a93d7",
   "metadata": {},
   "outputs": [],
   "source": [
    "loss_ = [i.detach().numpy() for i in loss_]\n",
    "val_l = [i.detach().numpy() for i in val_l]"
   ]
  },
  {
   "cell_type": "code",
   "execution_count": 9,
   "id": "5e37cc49-ab37-40d0-9469-91f7b265863b",
   "metadata": {},
   "outputs": [
    {
     "data": {
      "image/png": "[encoded data removed]",
      "text/plain": [
       "<Figure size 640x480 with 1 Axes>"
      ]
     },
     "metadata": {},
     "output_type": "display_data"
    }
   ],
   "source": [
    "import matplotlib as mpl\n",
    "import matplotlib.pyplot as plt\n",
    "\n",
    "fig, ax  = plt.subplots()\n",
    "ax.plot(list(range(len(loss_))), loss_, label=\"train loss\")\n",
    "ax.plot(list(range(len(train_))),train_, label=\"train accuracy\")\n",
    "ax.plot(list(range(len(val_l))), val_l, label=\"validation loss\")\n",
    "ax.plot(list(range(len(acc_))), acc_, label=\"validation accuracy\")\n",
    "\n",
    "ax.set_xlabel(\"Epochs\")\n",
    "ax.set_ylabel(\"Loss and Accuracy\")\n",
    "ax.legend()\n",
    "plt.savefig(\"../figures/crl_GAT_3l600epoch_es_SGD_withreturn.pdf\")\n",
    "plt.show()"
   ]
  },
  {
   "cell_type": "code",
   "execution_count": 10,
   "id": "52295828-d4e1-4b17-8760-6d8c6f73de23",
   "metadata": {},
   "outputs": [],
   "source": [
    "model.eval()\n",
    "_, pred = model(data)\n",
    "pred_label = np.zeros(data.y[data.test_mask].size())\n",
    "pred = pred[data.test_mask].detach().numpy()\n",
    "for i, v in enumerate(data.y[data.test_mask].detach().numpy()):\n",
    "    sum_ = int(v.sum())\n",
    "    if sum_ == 1:\n",
    "        l = np.argsort(pred[i])[-1]\n",
    "        pred_label[i, l] = 1\n",
    "    else:\n",
    "        l = np.argsort(pred[i])[-sum_:]\n",
    "        pred_label[i, l] = 1\n",
    "acc = accuracy_score(pred_label, data.y[data.test_mask].detach().numpy())"
   ]
  },
  {
   "cell_type": "code",
   "execution_count": 17,
   "id": "e9391dd8-7b19-4e88-869e-14916acca332",
   "metadata": {},
   "outputs": [
    {
     "data": {
      "text/plain": [
       "torch.Size([1362, 64])"
      ]
     },
     "execution_count": 17,
     "metadata": {},
     "output_type": "execute_result"
    }
   ],
   "source": [
    "_.shape"
   ]
  },
  {
   "cell_type": "code",
   "execution_count": 19,
   "id": "829e5a17-1730-4203-a21a-3e7501c4af68",
   "metadata": {},
   "outputs": [],
   "source": [
    "#SAVE TENSOR AS NUMPY FORMAT.\n",
    "arr = _.detach().numpy()\n",
    "np.save(\"../data/one_graph/repr_nodes_1362.npy\", arr)"
   ]
  },
  {
   "cell_type": "code",
   "execution_count": 11,
   "id": "39b68b18-1d41-4614-a809-4a7d1440093f",
   "metadata": {},
   "outputs": [
    {
     "name": "stdout",
     "output_type": "stream",
     "text": [
      "Accuracy: 0.8978102189781022\n"
     ]
    }
   ],
   "source": [
    "print(f'Accuracy: {acc}')"
   ]
  }
 ],
 "metadata": {
  "kernelspec": {
   "display_name": "Python 3 (ipykernel)",
   "language": "python",
   "name": "python3"
  },
  "language_info": {
   "codemirror_mode": {
    "name": "ipython",
    "version": 3
   },
   "file_extension": ".py",
   "mimetype": "text/x-python",
   "name": "python",
   "nbconvert_exporter": "python",
   "pygments_lexer": "ipython3",
   "version": "3.9.12"
  }
 },
 "nbformat": 4,
 "nbformat_minor": 5
}
