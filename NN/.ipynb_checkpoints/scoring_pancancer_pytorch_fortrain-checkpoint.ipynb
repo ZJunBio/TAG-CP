{
 "cells": [
  {
   "cell_type": "code",
   "execution_count": 1,
   "id": "8bd78847-f79c-4df7-96f4-d15925f7bb37",
   "metadata": {
    "tags": []
   },
   "outputs": [],
   "source": [
    "import torch\n",
    "from torch import nn\n",
    "import torch.nn.functional as F\n",
    "from sklearn import metrics, preprocessing\n",
    "import pandas as pd\n",
    "import numpy as np\n",
    "import utils_rf"
   ]
  },
  {
   "cell_type": "code",
   "execution_count": 2,
   "id": "4e2d256c-f581-4b76-8ac7-0c46832f1b56",
   "metadata": {
    "tags": []
   },
   "outputs": [],
   "source": [
    "# Define model\n",
    "class DNN(nn.Module):\n",
    "    def __init__(self, params):\n",
    "        super().__init__()\n",
    "        self.linear1 = nn.Linear(params.dim1, params.dim2)\n",
    "        self.bn1 = nn.BatchNorm1d(params.dim2)\n",
    "        self.linear2 = nn.Linear(params.dim2, params.dim3)\n",
    "        self.bn2 = nn.BatchNorm1d(params.dim3)\n",
    "        self.linear3 = nn.Linear(params.dim3, params.dim5)\n",
    "        self.bn3 = nn.BatchNorm1d(params.dim5)\n",
    "        self.linear4 = nn.Linear(params.dim5, params.dim6)\n",
    "        self.bn4 = nn.BatchNorm1d(params.dim6)\n",
    "        self.linear5 = nn.Linear(params.dim6, 1)\n",
    "    def forward(self, x):\n",
    "        x = self.linear1(x)\n",
    "        x = self.bn1(x)\n",
    "        x = F.relu(x)\n",
    "        x = self.linear2(x)\n",
    "        x = self.bn2(x)\n",
    "        x = F.relu(x)\n",
    "        x = self.linear3(x)\n",
    "        x = self.bn3(x)\n",
    "        x = F.relu(x)\n",
    "        x = self.linear4(x)\n",
    "        x = self.bn4(x)\n",
    "        x = F.relu(x)\n",
    "        x = self.linear5(x)\n",
    "        x = torch.sigmoid(x)\n",
    "        return x"
   ]
  },
  {
   "cell_type": "code",
   "execution_count": 3,
   "id": "7992e930-9977-4b5f-aa48-8507303a59bc",
   "metadata": {
    "tags": []
   },
   "outputs": [
    {
     "name": "stdout",
     "output_type": "stream",
     "text": [
      "(29748, 1)\n",
      "Shape of prediction: (29748,)\n",
      "[0.2088386  0.5383126  0.36996752 0.5412351 ]\n",
      "(29748, 1)\n",
      "Shape of prediction: (29748,)\n",
      "[0.368382   0.39628738 0.39628738 0.39628738]\n",
      "(29748, 1)\n",
      "Shape of prediction: (29748,)\n",
      "[0.44821352 0.59125596 0.8542522  0.5427725 ]\n",
      "(29748, 1)\n",
      "Shape of prediction: (29748,)\n",
      "[0.27385315 0.39155966 0.40906507 0.39003605]\n",
      "(29748, 1)\n",
      "Shape of prediction: (29748,)\n",
      "[0.46731064 0.45350474 0.57022107 0.4200658 ]\n",
      "(29749, 1)\n",
      "Shape of prediction: (29749,)\n",
      "[0.411645   0.411645   0.411645   0.36553657]\n",
      "(29749, 1)\n",
      "Shape of prediction: (29749,)\n",
      "[0.2932678  0.7975335  0.11824229 0.6556641 ]\n",
      "(29749, 1)\n",
      "Shape of prediction: (29749,)\n",
      "[0.19057205 0.7205927  0.861785   0.23386937]\n",
      "(29749, 1)\n",
      "Shape of prediction: (29749,)\n",
      "[0.46338424 0.7424124  0.5252438  0.4893403 ]\n"
     ]
    }
   ],
   "source": [
    "record = pd.DataFrame({'seeds':[], 'aupr':[], 'auc':[], 'precision':[], 'recall': [], 'thresh':[]})\n",
    "seeds = list(range(9))\n",
    "for i, seeding in enumerate(seeds):\n",
    "    \n",
    "    test = preprocessing.normalize(np.load(\"../data/temp/traindata_in\" + str(i) + \"_fold.npy\", allow_pickle=True))\n",
    "    test = torch.tensor(test)\n",
    "    test_lab = np.load(\"../data/temp/trainlab_in\" + str(i) + \"_fold.npy\", allow_pickle=True)\n",
    "    \n",
    "    model = torch.load(\"../models/DNN/pytorch_es\" + str(i) + \".pt\")\n",
    "    model.eval()\n",
    "    y_pred = model(test)\n",
    "    y_pred = y_pred.detach().numpy()\n",
    "    print(y_pred.shape)\n",
    "    y_pred = y_pred.reshape((y_pred.shape[0],))\n",
    "    print(\"Shape of prediction:\", y_pred.shape)\n",
    "    print(y_pred[0:4])\n",
    "    \n",
    "    precision, recall, thresholds = metrics.precision_recall_curve(test_lab, y_pred)\n",
    "    fpr, tpr, thresholds_r = metrics.roc_curve(test_lab, y_pred)\n",
    "    pr = np.array([precision, recall]).T\n",
    "    fp = np.array([fpr, tpr]).T\n",
    "    utils_rf.mat2csv(pr, [\"precision\", \"recall\"], \"../temp/pr_dnnwc\"+str(seeding)+\"train_pytorch.csv\")\n",
    "    utils_rf.mat2csv(fp, [\"fpr\", \"tpr\"], \"../temp/fp_dnnwc\"+str(seeding)+\"train_pytorch.csv\")\n",
    "    f1_score, threshold_b, precision_b, recall_b = utils_rf.f1_score_best(precision, recall, thresholds) \n",
    "    \n",
    "    auc_score = metrics.auc(fpr, tpr)\n",
    "    aupr = metrics.auc(recall, precision)\n",
    "    #preserved precision and recall are recording under best f1 score\n",
    "    record = pd.concat([record, pd.DataFrame([[seeding, aupr, auc_score, precision_b, recall_b, threshold_b]], \n",
    "                                             columns= ['seeds', 'aupr', 'auc', 'precision', 'recall', 'thresh'])])\n"
   ]
  },
  {
   "cell_type": "code",
   "execution_count": 4,
   "id": "7464dd55-a595-4c3b-93a7-d381958ec6b6",
   "metadata": {
    "tags": []
   },
   "outputs": [
    {
     "data": {
      "text/html": [
       "<div>\n",
       "<style scoped>\n",
       "    .dataframe tbody tr th:only-of-type {\n",
       "        vertical-align: middle;\n",
       "    }\n",
       "\n",
       "    .dataframe tbody tr th {\n",
       "        vertical-align: top;\n",
       "    }\n",
       "\n",
       "    .dataframe thead th {\n",
       "        text-align: right;\n",
       "    }\n",
       "</style>\n",
       "<table border=\"1\" class=\"dataframe\">\n",
       "  <thead>\n",
       "    <tr style=\"text-align: right;\">\n",
       "      <th></th>\n",
       "      <th>seeds</th>\n",
       "      <th>aupr</th>\n",
       "      <th>auc</th>\n",
       "      <th>precision</th>\n",
       "      <th>recall</th>\n",
       "      <th>thresh</th>\n",
       "    </tr>\n",
       "  </thead>\n",
       "  <tbody>\n",
       "    <tr>\n",
       "      <th>0</th>\n",
       "      <td>0.0</td>\n",
       "      <td>0.773472</td>\n",
       "      <td>0.975070</td>\n",
       "      <td>0.639209</td>\n",
       "      <td>0.810698</td>\n",
       "      <td>0.279273</td>\n",
       "    </tr>\n",
       "    <tr>\n",
       "      <th>0</th>\n",
       "      <td>1.0</td>\n",
       "      <td>0.736195</td>\n",
       "      <td>0.973257</td>\n",
       "      <td>0.599589</td>\n",
       "      <td>0.854158</td>\n",
       "      <td>0.271033</td>\n",
       "    </tr>\n",
       "    <tr>\n",
       "      <th>0</th>\n",
       "      <td>2.0</td>\n",
       "      <td>0.771548</td>\n",
       "      <td>0.975691</td>\n",
       "      <td>0.654278</td>\n",
       "      <td>0.779449</td>\n",
       "      <td>0.325529</td>\n",
       "    </tr>\n",
       "    <tr>\n",
       "      <th>0</th>\n",
       "      <td>3.0</td>\n",
       "      <td>0.672594</td>\n",
       "      <td>0.969786</td>\n",
       "      <td>0.596195</td>\n",
       "      <td>0.824561</td>\n",
       "      <td>0.221726</td>\n",
       "    </tr>\n",
       "    <tr>\n",
       "      <th>0</th>\n",
       "      <td>4.0</td>\n",
       "      <td>0.775216</td>\n",
       "      <td>0.976888</td>\n",
       "      <td>0.643350</td>\n",
       "      <td>0.818296</td>\n",
       "      <td>0.289988</td>\n",
       "    </tr>\n",
       "    <tr>\n",
       "      <th>0</th>\n",
       "      <td>5.0</td>\n",
       "      <td>0.733803</td>\n",
       "      <td>0.973426</td>\n",
       "      <td>0.603443</td>\n",
       "      <td>0.863826</td>\n",
       "      <td>0.260680</td>\n",
       "    </tr>\n",
       "    <tr>\n",
       "      <th>0</th>\n",
       "      <td>6.0</td>\n",
       "      <td>0.793615</td>\n",
       "      <td>0.976659</td>\n",
       "      <td>0.660819</td>\n",
       "      <td>0.802423</td>\n",
       "      <td>0.336017</td>\n",
       "    </tr>\n",
       "    <tr>\n",
       "      <th>0</th>\n",
       "      <td>7.0</td>\n",
       "      <td>0.764009</td>\n",
       "      <td>0.972579</td>\n",
       "      <td>0.614567</td>\n",
       "      <td>0.796575</td>\n",
       "      <td>0.303105</td>\n",
       "    </tr>\n",
       "    <tr>\n",
       "      <th>0</th>\n",
       "      <td>8.0</td>\n",
       "      <td>0.742346</td>\n",
       "      <td>0.975899</td>\n",
       "      <td>0.635313</td>\n",
       "      <td>0.826650</td>\n",
       "      <td>0.296473</td>\n",
       "    </tr>\n",
       "  </tbody>\n",
       "</table>\n",
       "</div>"
      ],
      "text/plain": [
       "   seeds      aupr       auc  precision    recall    thresh\n",
       "0    0.0  0.773472  0.975070   0.639209  0.810698  0.279273\n",
       "0    1.0  0.736195  0.973257   0.599589  0.854158  0.271033\n",
       "0    2.0  0.771548  0.975691   0.654278  0.779449  0.325529\n",
       "0    3.0  0.672594  0.969786   0.596195  0.824561  0.221726\n",
       "0    4.0  0.775216  0.976888   0.643350  0.818296  0.289988\n",
       "0    5.0  0.733803  0.973426   0.603443  0.863826  0.260680\n",
       "0    6.0  0.793615  0.976659   0.660819  0.802423  0.336017\n",
       "0    7.0  0.764009  0.972579   0.614567  0.796575  0.303105\n",
       "0    8.0  0.742346  0.975899   0.635313  0.826650  0.296473"
      ]
     },
     "execution_count": 4,
     "metadata": {},
     "output_type": "execute_result"
    }
   ],
   "source": [
    "record"
   ]
  },
  {
   "cell_type": "code",
   "execution_count": 5,
   "id": "3b2dbb31-08ba-4023-92bd-ccff9fd52e95",
   "metadata": {
    "tags": []
   },
   "outputs": [],
   "source": [
    "record = record.reset_index(drop=True)\n",
    "record.to_csv(\"../temp/repeats10dnnwc_train_pytorch.csv\", header = True, index =  True)"
   ]
  },
  {
   "cell_type": "code",
   "execution_count": 6,
   "id": "414f4074-f7d7-4af7-8087-2f3e3540a508",
   "metadata": {
    "tags": []
   },
   "outputs": [
    {
     "name": "stdout",
     "output_type": "stream",
     "text": [
      "mean of aupr is 0.7514219799724441 with standard deviation 0.033722020443229035\n",
      "mean of auc is 0.9743617272383638 with standard deviation 0.0021730673208629615\n",
      "mean of precision is 0.6274180014650104 with standard deviation 0.023049528095691052\n",
      "mean of recall is 0.8196261420138078 with standard deviation 0.02526047816381605\n"
     ]
    }
   ],
   "source": [
    "print(\"mean of aupr is {} with standard deviation {}\".format(np.mean(record['aupr']), np.std(record['aupr'])))\n",
    "print(\"mean of auc is {} with standard deviation {}\".format(np.mean(record['auc']), np.std(record['auc'])))\n",
    "print(\"mean of precision is {} with standard deviation {}\".format(np.mean(record['precision']), np.std(record['precision'])))\n",
    "print(\"mean of recall is {} with standard deviation {}\".format(np.mean(record['recall']), np.std(record['recall'])))"
   ]
  }
 ],
 "metadata": {
  "kernelspec": {
   "display_name": "Python 3 (ipykernel)",
   "language": "python",
   "name": "python3"
  },
  "language_info": {
   "codemirror_mode": {
    "name": "ipython",
    "version": 3
   },
   "file_extension": ".py",
   "mimetype": "text/x-python",
   "name": "python",
   "nbconvert_exporter": "python",
   "pygments_lexer": "ipython3",
   "version": "3.9.12"
  }
 },
 "nbformat": 4,
 "nbformat_minor": 5
}
