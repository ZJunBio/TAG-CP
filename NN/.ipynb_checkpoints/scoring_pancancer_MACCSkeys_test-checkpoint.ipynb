{
 "cells": [
  {
   "cell_type": "code",
   "execution_count": 1,
   "id": "8bd78847-f79c-4df7-96f4-d15925f7bb37",
   "metadata": {},
   "outputs": [],
   "source": [
    "import torch\n",
    "from torch import nn\n",
    "import torch.nn.functional as F\n",
    "from sklearn import metrics, preprocessing\n",
    "import pandas as pd\n",
    "import numpy as np\n",
    "import utils_rf"
   ]
  },
  {
   "cell_type": "code",
   "execution_count": 2,
   "id": "2ee0dd2a-0d10-4cde-a7c4-0c598b800ce3",
   "metadata": {
    "tags": []
   },
   "outputs": [],
   "source": [
    "# Define model\n",
    "class DNN(nn.Module):\n",
    "    def __init__(self, params):\n",
    "        super().__init__()\n",
    "        self.linear1 = nn.Linear(params.dim1, params.dim2)\n",
    "        self.bn1 = nn.BatchNorm1d(params.dim2)\n",
    "        self.linear2 = nn.Linear(params.dim2, params.dim3)\n",
    "        self.bn2 = nn.BatchNorm1d(params.dim3)\n",
    "        self.linear3 = nn.Linear(params.dim3, params.dim5)\n",
    "        self.bn3 = nn.BatchNorm1d(params.dim5)\n",
    "        self.linear4 = nn.Linear(params.dim5, params.dim6)\n",
    "        self.bn4 = nn.BatchNorm1d(params.dim6)\n",
    "        self.linear5 = nn.Linear(params.dim6, 1)\n",
    "    def forward(self, x):\n",
    "        x = self.linear1(x)\n",
    "        x = self.bn1(x)\n",
    "        x = F.relu(x)\n",
    "        x = self.linear2(x)\n",
    "        x = self.bn2(x)\n",
    "        x = F.relu(x)\n",
    "        x = self.linear3(x)\n",
    "        x = self.bn3(x)\n",
    "        x = F.relu(x)\n",
    "        x = self.linear4(x)\n",
    "        x = self.bn4(x)\n",
    "        x = F.relu(x)\n",
    "        x = self.linear5(x)\n",
    "        x = torch.sigmoid(x)\n",
    "        return x"
   ]
  },
  {
   "cell_type": "code",
   "execution_count": 3,
   "id": "7992e930-9977-4b5f-aa48-8507303a59bc",
   "metadata": {},
   "outputs": [
    {
     "name": "stdout",
     "output_type": "stream",
     "text": [
      "Shape of prediction: (3720,)\n",
      "[0.38875866 0.6716575  0.36915243 0.0903445 ]\n",
      "Shape of prediction: (3720,)\n",
      "[0.3689341  0.62515503 0.38538298 0.07314398]\n",
      "Shape of prediction: (3720,)\n",
      "[0.3630861  0.57690144 0.38504177 0.09673954]\n",
      "Shape of prediction: (3720,)\n",
      "[0.41130167 0.71128964 0.34486625 0.14596987]\n"
     ]
    },
    {
     "name": "stderr",
     "output_type": "stream",
     "text": [
      "D:\\python_work\\Interpretation_DDC\\NN\\utils_rf.py:150: RuntimeWarning: invalid value encountered in divide\n",
      "  f1_score = np.divide((2 * np.multiply(precision, recall)),  (precision + recall))\n",
      "D:\\python_work\\Interpretation_DDC\\NN\\utils_rf.py:150: RuntimeWarning: invalid value encountered in divide\n",
      "  f1_score = np.divide((2 * np.multiply(precision, recall)),  (precision + recall))\n"
     ]
    },
    {
     "name": "stdout",
     "output_type": "stream",
     "text": [
      "Shape of prediction: (3720,)\n",
      "[0.37649176 0.6601124  0.33646938 0.07419517]\n",
      "Shape of prediction: (3720,)\n",
      "[0.30586568 0.6654436  0.471935   0.05157419]\n",
      "Shape of prediction: (3720,)\n",
      "[0.4162195  0.73904115 0.3906235  0.08018388]\n",
      "Shape of prediction: (3720,)\n",
      "[0.39383757 0.6329161  0.26851955 0.12061046]\n",
      "Shape of prediction: (3720,)\n",
      "[0.35631555 0.67240375 0.4009962  0.09491933]\n"
     ]
    },
    {
     "name": "stderr",
     "output_type": "stream",
     "text": [
      "D:\\python_work\\Interpretation_DDC\\NN\\utils_rf.py:150: RuntimeWarning: invalid value encountered in divide\n",
      "  f1_score = np.divide((2 * np.multiply(precision, recall)),  (precision + recall))\n"
     ]
    }
   ],
   "source": [
    "test = preprocessing.normalize(np.load(\"../data/datasets/MACCSKeys/test_tensor_csigma005_macc.npy\", allow_pickle=True))\n",
    "test = torch.tensor(test)\n",
    "test_lab = np.load(\"../data/datasets/MACCSKeys/test_label_csima005_macc.npy\", allow_pickle=True)\n",
    "record = pd.DataFrame({'seeds':[], 'aupr':[], 'auc':[], 'precision':[], 'recall': [], 'thresh':[]})\n",
    "seeds = list(range(9))\n",
    "for i, seeding in enumerate(seeds):\n",
    "    \n",
    "    model = torch.load(\"../models/DNN/MACCSKeys/pytorch_es\" + str(i) + \"_macc.pt\")\n",
    "    model.eval()\n",
    "    y_pred = model(test)\n",
    "    y_pred = y_pred.detach().numpy()\n",
    "    y_pred = y_pred.reshape((y_pred.shape[0],))\n",
    "    print(\"Shape of prediction:\", y_pred.shape)\n",
    "    print(y_pred[0:4])\n",
    "    \n",
    "    precision, recall, thresholds = metrics.precision_recall_curve(test_lab, y_pred)\n",
    "    fpr, tpr, thresholds_r = metrics.roc_curve(test_lab, y_pred)\n",
    "    pr = np.array([precision, recall]).T\n",
    "    fp = np.array([fpr, tpr]).T\n",
    "    utils_rf.mat2csv(pr, [\"precision\", \"recall\"], \"../temp/MACCSKeys/pr_dnnwc\"+str(seeding)+\"macc_pytorch_test.csv\")\n",
    "    utils_rf.mat2csv(fp, [\"fpr\", \"tpr\"], \"../temp/MACCSKeys/fp_dnnwc\"+str(seeding)+\"macc_pytorch_test.csv\")\n",
    "    f1_score, threshold_b, precision_b, recall_b = utils_rf.f1_score_best(precision, recall, thresholds) \n",
    "    \n",
    "    auc_score = metrics.auc(fpr, tpr)\n",
    "    aupr = metrics.auc(recall, precision)\n",
    "    #preserved precision and recall are recording under best f1 score\n",
    "    record = pd.concat([record, pd.DataFrame([[seeding, aupr, auc_score, precision_b, recall_b, threshold_b]], \n",
    "                                             columns= ['seeds', 'aupr', 'auc', 'precision', 'recall', 'thresh'])])\n"
   ]
  },
  {
   "cell_type": "code",
   "execution_count": 4,
   "id": "7464dd55-a595-4c3b-93a7-d381958ec6b6",
   "metadata": {},
   "outputs": [
    {
     "data": {
      "text/html": [
       "<div>\n",
       "<style scoped>\n",
       "    .dataframe tbody tr th:only-of-type {\n",
       "        vertical-align: middle;\n",
       "    }\n",
       "\n",
       "    .dataframe tbody tr th {\n",
       "        vertical-align: top;\n",
       "    }\n",
       "\n",
       "    .dataframe thead th {\n",
       "        text-align: right;\n",
       "    }\n",
       "</style>\n",
       "<table border=\"1\" class=\"dataframe\">\n",
       "  <thead>\n",
       "    <tr style=\"text-align: right;\">\n",
       "      <th></th>\n",
       "      <th>seeds</th>\n",
       "      <th>aupr</th>\n",
       "      <th>auc</th>\n",
       "      <th>precision</th>\n",
       "      <th>recall</th>\n",
       "      <th>thresh</th>\n",
       "    </tr>\n",
       "  </thead>\n",
       "  <tbody>\n",
       "    <tr>\n",
       "      <th>0</th>\n",
       "      <td>0.0</td>\n",
       "      <td>0.320235</td>\n",
       "      <td>0.809869</td>\n",
       "      <td>0.000000</td>\n",
       "      <td>0.000000</td>\n",
       "      <td>0.679846</td>\n",
       "    </tr>\n",
       "    <tr>\n",
       "      <th>0</th>\n",
       "      <td>1.0</td>\n",
       "      <td>0.306248</td>\n",
       "      <td>0.807054</td>\n",
       "      <td>0.000000</td>\n",
       "      <td>0.000000</td>\n",
       "      <td>0.637720</td>\n",
       "    </tr>\n",
       "    <tr>\n",
       "      <th>0</th>\n",
       "      <td>2.0</td>\n",
       "      <td>0.322512</td>\n",
       "      <td>0.839256</td>\n",
       "      <td>0.312016</td>\n",
       "      <td>0.536667</td>\n",
       "      <td>0.186752</td>\n",
       "    </tr>\n",
       "    <tr>\n",
       "      <th>0</th>\n",
       "      <td>3.0</td>\n",
       "      <td>0.328937</td>\n",
       "      <td>0.826422</td>\n",
       "      <td>0.331839</td>\n",
       "      <td>0.493333</td>\n",
       "      <td>0.199513</td>\n",
       "    </tr>\n",
       "    <tr>\n",
       "      <th>0</th>\n",
       "      <td>4.0</td>\n",
       "      <td>0.318862</td>\n",
       "      <td>0.811139</td>\n",
       "      <td>0.299603</td>\n",
       "      <td>0.503333</td>\n",
       "      <td>0.184234</td>\n",
       "    </tr>\n",
       "    <tr>\n",
       "      <th>0</th>\n",
       "      <td>5.0</td>\n",
       "      <td>0.317753</td>\n",
       "      <td>0.814419</td>\n",
       "      <td>0.381703</td>\n",
       "      <td>0.403333</td>\n",
       "      <td>0.232793</td>\n",
       "    </tr>\n",
       "    <tr>\n",
       "      <th>0</th>\n",
       "      <td>6.0</td>\n",
       "      <td>0.324702</td>\n",
       "      <td>0.823862</td>\n",
       "      <td>0.000000</td>\n",
       "      <td>0.000000</td>\n",
       "      <td>0.743416</td>\n",
       "    </tr>\n",
       "    <tr>\n",
       "      <th>0</th>\n",
       "      <td>7.0</td>\n",
       "      <td>0.314185</td>\n",
       "      <td>0.811292</td>\n",
       "      <td>0.308793</td>\n",
       "      <td>0.503333</td>\n",
       "      <td>0.187284</td>\n",
       "    </tr>\n",
       "    <tr>\n",
       "      <th>0</th>\n",
       "      <td>8.0</td>\n",
       "      <td>0.313534</td>\n",
       "      <td>0.813817</td>\n",
       "      <td>0.323185</td>\n",
       "      <td>0.460000</td>\n",
       "      <td>0.198474</td>\n",
       "    </tr>\n",
       "  </tbody>\n",
       "</table>\n",
       "</div>"
      ],
      "text/plain": [
       "   seeds      aupr       auc  precision    recall    thresh\n",
       "0    0.0  0.320235  0.809869   0.000000  0.000000  0.679846\n",
       "0    1.0  0.306248  0.807054   0.000000  0.000000  0.637720\n",
       "0    2.0  0.322512  0.839256   0.312016  0.536667  0.186752\n",
       "0    3.0  0.328937  0.826422   0.331839  0.493333  0.199513\n",
       "0    4.0  0.318862  0.811139   0.299603  0.503333  0.184234\n",
       "0    5.0  0.317753  0.814419   0.381703  0.403333  0.232793\n",
       "0    6.0  0.324702  0.823862   0.000000  0.000000  0.743416\n",
       "0    7.0  0.314185  0.811292   0.308793  0.503333  0.187284\n",
       "0    8.0  0.313534  0.813817   0.323185  0.460000  0.198474"
      ]
     },
     "execution_count": 4,
     "metadata": {},
     "output_type": "execute_result"
    }
   ],
   "source": [
    "record"
   ]
  },
  {
   "cell_type": "code",
   "execution_count": 5,
   "id": "3b2dbb31-08ba-4023-92bd-ccff9fd52e95",
   "metadata": {},
   "outputs": [],
   "source": [
    "record = record.reset_index(drop=True)\n",
    "record.to_csv(\"../temp/MACCSKeys/repeats10dnnwc_macc_pytorch_test.csv\", header = True, index =  True)"
   ]
  },
  {
   "cell_type": "code",
   "execution_count": 6,
   "id": "414f4074-f7d7-4af7-8087-2f3e3540a508",
   "metadata": {},
   "outputs": [
    {
     "name": "stdout",
     "output_type": "stream",
     "text": [
      "mean of aupr is 0.31855196516699164 with standard deviation 0.006329582615447696\n",
      "mean of auc is 0.8174587935889106 with standard deviation 0.009791045998397557\n",
      "mean of precision is 0.21745990903060364 with standard deviation 0.15532501806195484\n",
      "mean of recall is 0.3222222222222222 with standard deviation 0.23043705120466462\n"
     ]
    }
   ],
   "source": [
    "print(\"mean of aupr is {} with standard deviation {}\".format(np.mean(record['aupr']), np.std(record['aupr'])))\n",
    "print(\"mean of auc is {} with standard deviation {}\".format(np.mean(record['auc']), np.std(record['auc'])))\n",
    "print(\"mean of precision is {} with standard deviation {}\".format(np.mean(record['precision']), np.std(record['precision'])))\n",
    "print(\"mean of recall is {} with standard deviation {}\".format(np.mean(record['recall']), np.std(record['recall'])))"
   ]
  }
 ],
 "metadata": {
  "kernelspec": {
   "display_name": "Python 3 (ipykernel)",
   "language": "python",
   "name": "python3"
  },
  "language_info": {
   "codemirror_mode": {
    "name": "ipython",
    "version": 3
   },
   "file_extension": ".py",
   "mimetype": "text/x-python",
   "name": "python",
   "nbconvert_exporter": "python",
   "pygments_lexer": "ipython3",
   "version": "3.9.12"
  }
 },
 "nbformat": 4,
 "nbformat_minor": 5
}
