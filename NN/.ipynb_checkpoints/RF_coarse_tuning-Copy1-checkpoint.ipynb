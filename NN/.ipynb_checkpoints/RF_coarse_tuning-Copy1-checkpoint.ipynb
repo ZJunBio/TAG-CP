{
 "cells": [
  {
   "cell_type": "code",
   "execution_count": 1,
   "id": "6cd9c0de-0447-4f6c-8303-20b1aa976ea6",
   "metadata": {
    "tags": []
   },
   "outputs": [],
   "source": [
    "from sklearn.ensemble import RandomForestClassifier\n",
    "from sklearn.metrics import precision_recall_curve, roc_curve, auc, f1_score\n",
    "from sklearn.model_selection import cross_validate, StratifiedKFold\n",
    "from sklearn.model_selection import GridSearchCV\n",
    "import random\n",
    "import time\n",
    "import numpy as np\n",
    "import pandas as pd"
   ]
  },
  {
   "cell_type": "code",
   "execution_count": 2,
   "id": "f1d9b373-17ae-4a2e-b556-11170992ca62",
   "metadata": {},
   "outputs": [],
   "source": [
    "train = np.load(\"../data/datasets/train_tensor.npy\", allow_pickle=True)\n",
    "val = np.load(\"../data/datasets/val_tensor.npy\", allow_pickle=True)\n",
    "train_lab = np.load(\"../data/datasets/train_label.npy\", allow_pickle=True)\n",
    "val_lab = np.load(\"../data/datasets/val_label.npy\", allow_pickle=True)"
   ]
  },
  {
   "cell_type": "code",
   "execution_count": 3,
   "id": "e25a48a9-d351-4502-9ee1-f46a70ab4ec3",
   "metadata": {},
   "outputs": [
    {
     "name": "stdout",
     "output_type": "stream",
     "text": [
      "(29749, 841) \t (29749,)\n"
     ]
    }
   ],
   "source": [
    "print(train.shape, \"\\t\", train_lab.shape)"
   ]
  },
  {
   "cell_type": "code",
   "execution_count": 4,
   "id": "713d62ee-adbd-43c1-a369-7fc3ec6f3ab7",
   "metadata": {},
   "outputs": [
    {
     "name": "stdout",
     "output_type": "stream",
     "text": [
      "Training completed with 0 minutes!\n"
     ]
    }
   ],
   "source": [
    "rf = RandomForestClassifier(n_estimators = 250, max_depth = 32, min_samples_split = 4, random_state = 2022,oob_score = True, \n",
    "                            min_samples_leaf = 4, max_features = 0.1, class_weight = {0:1, 1:10}, n_jobs = 12)\n",
    "t1 = time.time()\n",
    "\n",
    "rf.fit(train, train_lab)\n",
    "\n",
    "t2 = time.time()\n",
    "print(\"Training completed with {} minutes!\".format(int((t2-t1)/60)))"
   ]
  },
  {
   "cell_type": "code",
   "execution_count": 5,
   "id": "14ea6a8c-233e-4050-a257-f8b9f3516cdb",
   "metadata": {
    "tags": []
   },
   "outputs": [
    {
     "data": {
      "text/plain": [
       "0.9045682207805305"
      ]
     },
     "execution_count": 5,
     "metadata": {},
     "output_type": "execute_result"
    }
   ],
   "source": [
    "rf.oob_score_"
   ]
  },
  {
   "cell_type": "code",
   "execution_count": 6,
   "id": "e05d735f-9b63-43f7-b27d-0e2014c4b542",
   "metadata": {
    "tags": []
   },
   "outputs": [],
   "source": [
    "y_pred = rf.predict_proba(val)\n",
    "y_pred = y_pred[:,1]\n",
    "precision, recall, thresh1 = precision_recall_curve(val_lab, y_pred)\n",
    "fpr, tpr, thresh2 = roc_curve(val_lab, y_pred)"
   ]
  },
  {
   "cell_type": "code",
   "execution_count": 7,
   "id": "2ebd2794-91fd-4bb5-bb0e-b308503ad7df",
   "metadata": {
    "tags": []
   },
   "outputs": [],
   "source": [
    "aupr = auc(recall, precision)\n",
    "auc_score = auc(fpr, tpr)"
   ]
  },
  {
   "cell_type": "code",
   "execution_count": 8,
   "id": "6b2a3ff0-6f6a-41d7-ad06-2628a5b4d81f",
   "metadata": {},
   "outputs": [
    {
     "name": "stdout",
     "output_type": "stream",
     "text": [
      "0.7555670137026709 0.9597101970984494\n"
     ]
    }
   ],
   "source": [
    "print(aupr, auc_score)"
   ]
  },
  {
   "cell_type": "code",
   "execution_count": 9,
   "id": "a40b7cf0-78ab-4cd4-a954-4546cb8d195a",
   "metadata": {
    "tags": []
   },
   "outputs": [
    {
     "data": {
      "text/plain": [
       "['../models/RF/withclassweight2_rf.joblib']"
      ]
     },
     "execution_count": 9,
     "metadata": {},
     "output_type": "execute_result"
    }
   ],
   "source": [
    "from joblib import dump, load\n",
    "dump(rf, \"../models/RF/withclassweight2_rf.joblib\")"
   ]
  }
 ],
 "metadata": {
  "kernelspec": {
   "display_name": "Python 3 (ipykernel)",
   "language": "python",
   "name": "python3"
  },
  "language_info": {
   "codemirror_mode": {
    "name": "ipython",
    "version": 3
   },
   "file_extension": ".py",
   "mimetype": "text/x-python",
   "name": "python",
   "nbconvert_exporter": "python",
   "pygments_lexer": "ipython3",
   "version": "3.9.12"
  }
 },
 "nbformat": 4,
 "nbformat_minor": 5
}
