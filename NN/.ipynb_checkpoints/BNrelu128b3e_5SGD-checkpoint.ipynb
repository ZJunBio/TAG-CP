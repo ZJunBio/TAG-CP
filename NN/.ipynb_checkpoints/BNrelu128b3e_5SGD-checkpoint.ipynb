{
 "cells": [
  {
   "cell_type": "code",
   "execution_count": 1,
   "id": "b8dbf87e-bc17-4a9f-9998-c19b0eaad93e",
   "metadata": {},
   "outputs": [],
   "source": [
    "#SGD(learning_rate = 0.01), 1000epochs, batch_size = 128, mom = 0.7"
   ]
  },
  {
   "cell_type": "code",
   "execution_count": 2,
   "id": "7ac2080a-d3c4-45c6-969e-3abf885e78aa",
   "metadata": {
    "tags": []
   },
   "outputs": [],
   "source": [
    "import pandas as pd\n",
    "import numpy as np\n",
    "from sklearn import preprocessing\n",
    "import tensorflow as tf"
   ]
  },
  {
   "cell_type": "code",
   "execution_count": 3,
   "id": "a3948f03-ee62-4edb-b2bf-fe7f88b7450c",
   "metadata": {
    "tags": []
   },
   "outputs": [],
   "source": [
    "tf.random.set_seed(2022)"
   ]
  },
  {
   "cell_type": "code",
   "execution_count": 4,
   "id": "d85c16fc-0153-4bc8-88f5-9feb0593c0c5",
   "metadata": {
    "tags": []
   },
   "outputs": [],
   "source": [
    "train = preprocessing.normalize(np.load(\"../data/datasets/train_tensor_csigma005.npy\", allow_pickle=True), norm = 'max', axis = 1)\n",
    "valid = preprocessing.normalize(np.load(\"../data/datasets/val_tensor_csigma005.npy\", allow_pickle=True), norm = 'max', axis = 1)\n",
    "test = preprocessing.normalize(np.load(\"../data/datasets/test_tensor_csigma005.npy\", allow_pickle=True), norm = 'max', axis = 1)\n",
    "train_lab = np.load(\"../data/datasets/train_label_csima005.npy\", allow_pickle=True)\n",
    "valid_lab = np.load(\"../data/datasets/val_label_csima005.npy\", allow_pickle=True)\n",
    "test_lab = np.load(\"../data/datasets/test_label_csima005.npy\", allow_pickle=True)"
   ]
  },
  {
   "cell_type": "code",
   "execution_count": 5,
   "id": "cacbe1c9-25ec-4a44-84ec-fd0571b86168",
   "metadata": {
    "tags": []
   },
   "outputs": [
    {
     "name": "stdout",
     "output_type": "stream",
     "text": [
      "(29749, 841) (3718, 841) (3720, 841)\n",
      "(29749,) (3718,) (3720,)\n"
     ]
    }
   ],
   "source": [
    "print(train.shape, valid.shape, test.shape)\n",
    "print(train_lab.shape, valid_lab.shape, test_lab.shape)"
   ]
  },
  {
   "cell_type": "code",
   "execution_count": 6,
   "id": "cca3f568-11b2-4dc3-9671-cb85d4345f67",
   "metadata": {
    "tags": []
   },
   "outputs": [],
   "source": [
    "tlen = train.shape[0]\n",
    "vlen = valid.shape[0] "
   ]
  },
  {
   "cell_type": "code",
   "execution_count": 7,
   "id": "90c7f63a-622c-4415-a0cf-515fcf7c1c28",
   "metadata": {
    "tags": []
   },
   "outputs": [],
   "source": [
    "class Config:\n",
    "    def __init__(self, samples = train.shape[0]):\n",
    "        self.L1 = 1024\n",
    "        self.L2 = 512\n",
    "        self.L3 = 256\n",
    "        self.L4 = 128\n",
    "        self.L5 = 64\n",
    "        self.L6 = 10\n",
    "        self.outl = 1\n",
    "        self.act = \"relu\"\n",
    "        self.outact = \"sigmoid\"\n",
    "        self.batch_size = 128 # can not used in model.fit() when input is a tenforflow dataset\n",
    "        self.validation_batch_size  = 256 #Only used in dataset.batch()\n",
    "        self.epochs = 500\n",
    "        self.validation_split = 0.2 # this parameter not surported for tf.data.Dataset\n",
    "        self.steps_per = 100\n",
    "config = Config()"
   ]
  },
  {
   "cell_type": "code",
   "execution_count": 8,
   "id": "74ef42b5-6201-4a19-a7a6-a16afbe2d60c",
   "metadata": {
    "tags": []
   },
   "outputs": [],
   "source": [
    "train = tf.data.Dataset.from_tensor_slices((train, train_lab))\n",
    "train = train.shuffle(tlen, seed = 2022)\n",
    "train = train.batch(config.batch_size)\n",
    "train = train.repeat(1000)"
   ]
  },
  {
   "cell_type": "code",
   "execution_count": 9,
   "id": "2f56c933-ac0b-480a-a66a-55185534455c",
   "metadata": {
    "tags": []
   },
   "outputs": [],
   "source": [
    "valid = tf.data.Dataset.from_tensor_slices((valid, valid_lab))\n",
    "valid = valid.shuffle(vlen, seed = 2022)\n",
    "valid = valid.batch(config.batch_size)\n",
    "valid = valid.repeat(1000)"
   ]
  },
  {
   "cell_type": "code",
   "execution_count": 10,
   "id": "c0c0a8b4-1f30-40e1-9781-f8311b3bfeca",
   "metadata": {
    "tags": []
   },
   "outputs": [],
   "source": [
    "model = tf.keras.models.Sequential()\n",
    "model.add(tf.keras.Input(shape=(841,)))\n",
    "model.add(tf.keras.layers.Dense(config.L2))\n",
    "model.add(tf.keras.layers.BatchNormalization())\n",
    "model.add(tf.keras.layers.ReLU())\n",
    "#model.add(tf.keras.layers.BatchNormalization())\n",
    "#model.add(tf.keras.layers.Dropout(0.3))\n",
    "model.add(tf.keras.layers.Dense(config.L3))\n",
    "model.add(tf.keras.layers.BatchNormalization())\n",
    "model.add(tf.keras.layers.ReLU())\n",
    "#model.add(tf.keras.layers.BatchNormalization())\n",
    "#model.add(tf.keras.layers.Dropout(0.2))\n",
    "model.add(tf.keras.layers.Dense(config.L5))\n",
    "model.add(tf.keras.layers.BatchNormalization())\n",
    "model.add(tf.keras.layers.ReLU())\n",
    "#model.add(tf.keras.layers.Dropout(0.1))\n",
    "model.add(tf.keras.layers.Dense(config.L6))\n",
    "model.add(tf.keras.layers.BatchNormalization())\n",
    "model.add(tf.keras.layers.ReLU())\n",
    "model.add(tf.keras.layers.Dense(config.outl, activation = config.outact))"
   ]
  },
  {
   "cell_type": "code",
   "execution_count": 11,
   "id": "38077790-55ca-40bb-8f38-5d6b47969c59",
   "metadata": {
    "tags": []
   },
   "outputs": [],
   "source": [
    "model.compile(optimizer = tf.keras.optimizers.SGD(learning_rate = 0.001), \n",
    "              loss=tf.keras.losses.BinaryCrossentropy(from_logits = False), metrics=[tf.keras.metrics.AUC()])"
   ]
  },
  {
   "cell_type": "code",
   "execution_count": 12,
   "id": "06f440ae-20e9-4b76-9336-c02aeef47866",
   "metadata": {
    "tags": []
   },
   "outputs": [
    {
     "name": "stdout",
     "output_type": "stream",
     "text": [
      "Model: \"sequential\"\n",
      "_________________________________________________________________\n",
      " Layer (type)                Output Shape              Param #   \n",
      "=================================================================\n",
      " dense (Dense)               (None, 512)               431104    \n",
      "                                                                 \n",
      " batch_normalization (BatchN  (None, 512)              2048      \n",
      " ormalization)                                                   \n",
      "                                                                 \n",
      " re_lu (ReLU)                (None, 512)               0         \n",
      "                                                                 \n",
      " dense_1 (Dense)             (None, 256)               131328    \n",
      "                                                                 \n",
      " batch_normalization_1 (Batc  (None, 256)              1024      \n",
      " hNormalization)                                                 \n",
      "                                                                 \n",
      " re_lu_1 (ReLU)              (None, 256)               0         \n",
      "                                                                 \n",
      " dense_2 (Dense)             (None, 64)                16448     \n",
      "                                                                 \n",
      " batch_normalization_2 (Batc  (None, 64)               256       \n",
      " hNormalization)                                                 \n",
      "                                                                 \n",
      " re_lu_2 (ReLU)              (None, 64)                0         \n",
      "                                                                 \n",
      " dense_3 (Dense)             (None, 10)                650       \n",
      "                                                                 \n",
      " batch_normalization_3 (Batc  (None, 10)               40        \n",
      " hNormalization)                                                 \n",
      "                                                                 \n",
      " re_lu_3 (ReLU)              (None, 10)                0         \n",
      "                                                                 \n",
      " dense_4 (Dense)             (None, 1)                 11        \n",
      "                                                                 \n",
      "=================================================================\n",
      "Total params: 582,909\n",
      "Trainable params: 581,225\n",
      "Non-trainable params: 1,684\n",
      "_________________________________________________________________\n"
     ]
    }
   ],
   "source": [
    "model.summary()"
   ]
  },
  {
   "cell_type": "code",
   "execution_count": 13,
   "id": "b2218b09-1c04-4969-9574-a902986a0d2f",
   "metadata": {
    "scrolled": true,
    "tags": []
   },
   "outputs": [
    {
     "name": "stdout",
     "output_type": "stream",
     "text": [
      "Epoch 1/500\n",
      "100/100 [==============================] - 2s 15ms/step - loss: 0.8733 - auc: 0.4542 - val_loss: 0.4314 - val_auc: 0.4486\n",
      "Epoch 2/500\n",
      "100/100 [==============================] - 1s 13ms/step - loss: 0.7740 - auc: 0.5195 - val_loss: 0.5281 - val_auc: 0.5156\n",
      "Epoch 3/500\n",
      "100/100 [==============================] - 1s 14ms/step - loss: 0.7020 - auc: 0.5488 - val_loss: 0.8349 - val_auc: 0.4585\n",
      "Epoch 4/500\n",
      "100/100 [==============================] - 1s 13ms/step - loss: 0.6475 - auc: 0.5561 - val_loss: 0.9134 - val_auc: 0.5315\n",
      "Epoch 5/500\n",
      "100/100 [==============================] - 1s 14ms/step - loss: 0.6027 - auc: 0.5778 - val_loss: 0.7540 - val_auc: 0.5465\n",
      "Epoch 6/500\n",
      "100/100 [==============================] - 1s 13ms/step - loss: 0.5630 - auc: 0.5961 - val_loss: 0.6771 - val_auc: 0.5003\n",
      "Epoch 7/500\n",
      "100/100 [==============================] - 1s 14ms/step - loss: 0.5350 - auc: 0.5830 - val_loss: 0.6881 - val_auc: 0.4723\n",
      "Epoch 8/500\n",
      "100/100 [==============================] - 1s 13ms/step - loss: 0.5063 - auc: 0.5962 - val_loss: 0.4950 - val_auc: 0.5030\n",
      "Epoch 9/500\n",
      "100/100 [==============================] - 1s 13ms/step - loss: 0.4826 - auc: 0.6154 - val_loss: 0.4256 - val_auc: 0.5015\n",
      "Epoch 10/500\n",
      "100/100 [==============================] - 1s 14ms/step - loss: 0.4633 - auc: 0.6133 - val_loss: 0.4582 - val_auc: 0.5164\n",
      "Epoch 11/500\n",
      "100/100 [==============================] - 1s 13ms/step - loss: 0.4460 - auc: 0.5985 - val_loss: 0.3685 - val_auc: 0.5196\n",
      "Epoch 12/500\n",
      "100/100 [==============================] - 1s 14ms/step - loss: 0.4267 - auc: 0.6391 - val_loss: 0.3569 - val_auc: 0.5127\n",
      "Epoch 13/500\n",
      "100/100 [==============================] - 1s 13ms/step - loss: 0.4148 - auc: 0.6198 - val_loss: 0.3279 - val_auc: 0.5424\n",
      "Epoch 14/500\n",
      "100/100 [==============================] - 1s 14ms/step - loss: 0.4004 - auc: 0.6302 - val_loss: 0.4482 - val_auc: 0.5177\n",
      "Epoch 15/500\n",
      "100/100 [==============================] - 1s 14ms/step - loss: 0.3890 - auc: 0.6452 - val_loss: 0.4558 - val_auc: 0.5277\n",
      "Epoch 16/500\n",
      "100/100 [==============================] - 1s 14ms/step - loss: 0.3813 - auc: 0.6417 - val_loss: 0.3894 - val_auc: 0.5113\n",
      "Epoch 17/500\n",
      "100/100 [==============================] - 1s 15ms/step - loss: 0.3662 - auc: 0.6516 - val_loss: 0.3566 - val_auc: 0.5420\n",
      "Epoch 18/500\n",
      "100/100 [==============================] - 1s 14ms/step - loss: 0.3607 - auc: 0.6606 - val_loss: 0.3100 - val_auc: 0.5767\n",
      "Epoch 19/500\n",
      "100/100 [==============================] - 1s 15ms/step - loss: 0.3544 - auc: 0.6581 - val_loss: 0.3406 - val_auc: 0.5677\n",
      "Epoch 20/500\n",
      "100/100 [==============================] - 1s 14ms/step - loss: 0.3481 - auc: 0.6579 - val_loss: 0.3542 - val_auc: 0.5931\n",
      "Epoch 21/500\n",
      "100/100 [==============================] - 1s 14ms/step - loss: 0.3353 - auc: 0.6722 - val_loss: 0.3043 - val_auc: 0.5709\n",
      "Epoch 22/500\n",
      "100/100 [==============================] - 1s 14ms/step - loss: 0.3292 - auc: 0.6771 - val_loss: 0.3551 - val_auc: 0.5770\n",
      "Epoch 23/500\n",
      "100/100 [==============================] - 1s 14ms/step - loss: 0.3283 - auc: 0.6871 - val_loss: 0.4079 - val_auc: 0.6289\n",
      "Epoch 24/500\n",
      "100/100 [==============================] - 1s 15ms/step - loss: 0.3244 - auc: 0.6808 - val_loss: 0.3194 - val_auc: 0.6520\n",
      "Epoch 25/500\n",
      "100/100 [==============================] - 1s 14ms/step - loss: 0.3147 - auc: 0.6922 - val_loss: 0.3623 - val_auc: 0.6583\n",
      "Epoch 26/500\n",
      "100/100 [==============================] - 1s 15ms/step - loss: 0.3121 - auc: 0.6993 - val_loss: 0.2999 - val_auc: 0.6528\n",
      "Epoch 27/500\n",
      "100/100 [==============================] - 1s 14ms/step - loss: 0.3088 - auc: 0.6957 - val_loss: 0.3030 - val_auc: 0.6383\n",
      "Epoch 28/500\n",
      "100/100 [==============================] - 1s 15ms/step - loss: 0.2988 - auc: 0.7111 - val_loss: 0.3782 - val_auc: 0.6771\n",
      "Epoch 29/500\n",
      "100/100 [==============================] - 1s 14ms/step - loss: 0.3037 - auc: 0.7055 - val_loss: 0.3843 - val_auc: 0.6969\n",
      "Epoch 30/500\n",
      "100/100 [==============================] - 1s 14ms/step - loss: 0.2940 - auc: 0.7112 - val_loss: 0.2853 - val_auc: 0.6510\n",
      "Epoch 31/500\n",
      "100/100 [==============================] - 1s 15ms/step - loss: 0.2950 - auc: 0.7185 - val_loss: 0.3059 - val_auc: 0.6823\n",
      "Epoch 32/500\n",
      "100/100 [==============================] - 1s 14ms/step - loss: 0.2917 - auc: 0.7263 - val_loss: 0.2971 - val_auc: 0.6941\n",
      "Epoch 33/500\n",
      "100/100 [==============================] - 1s 15ms/step - loss: 0.2825 - auc: 0.7201 - val_loss: 0.3051 - val_auc: 0.7052\n",
      "Epoch 34/500\n",
      "100/100 [==============================] - 1s 14ms/step - loss: 0.2848 - auc: 0.7332 - val_loss: 0.2892 - val_auc: 0.6989\n",
      "Epoch 35/500\n",
      "100/100 [==============================] - 1s 15ms/step - loss: 0.2846 - auc: 0.7278 - val_loss: 0.2947 - val_auc: 0.6976\n",
      "Epoch 36/500\n",
      "100/100 [==============================] - 1s 14ms/step - loss: 0.2800 - auc: 0.7202 - val_loss: 0.3117 - val_auc: 0.6995\n",
      "Epoch 37/500\n",
      "100/100 [==============================] - 1s 14ms/step - loss: 0.2798 - auc: 0.7357 - val_loss: 0.2808 - val_auc: 0.7188\n",
      "Epoch 38/500\n",
      "100/100 [==============================] - 1s 15ms/step - loss: 0.2757 - auc: 0.7534 - val_loss: 0.2801 - val_auc: 0.6931\n",
      "Epoch 39/500\n",
      "100/100 [==============================] - 1s 14ms/step - loss: 0.2730 - auc: 0.7311 - val_loss: 0.3001 - val_auc: 0.7367\n",
      "Epoch 40/500\n",
      "100/100 [==============================] - 1s 15ms/step - loss: 0.2729 - auc: 0.7371 - val_loss: 0.2891 - val_auc: 0.7374\n",
      "Epoch 41/500\n",
      "100/100 [==============================] - 1s 14ms/step - loss: 0.2690 - auc: 0.7512 - val_loss: 0.2752 - val_auc: 0.6999\n",
      "Epoch 42/500\n",
      "100/100 [==============================] - 1s 15ms/step - loss: 0.2728 - auc: 0.7484 - val_loss: 0.3098 - val_auc: 0.7288\n",
      "Epoch 43/500\n",
      "100/100 [==============================] - 1s 14ms/step - loss: 0.2684 - auc: 0.7521 - val_loss: 0.3037 - val_auc: 0.7222\n",
      "Epoch 44/500\n",
      "100/100 [==============================] - 1s 14ms/step - loss: 0.2630 - auc: 0.7451 - val_loss: 0.2737 - val_auc: 0.6751\n",
      "Epoch 45/500\n",
      "100/100 [==============================] - 1s 15ms/step - loss: 0.2667 - auc: 0.7493 - val_loss: 0.2712 - val_auc: 0.6875\n",
      "Epoch 46/500\n",
      "100/100 [==============================] - 1s 14ms/step - loss: 0.2631 - auc: 0.7633 - val_loss: 0.2973 - val_auc: 0.7166\n",
      "Epoch 47/500\n",
      "100/100 [==============================] - 1s 15ms/step - loss: 0.2613 - auc: 0.7502 - val_loss: 0.2973 - val_auc: 0.7205\n",
      "Epoch 48/500\n",
      "100/100 [==============================] - 1s 14ms/step - loss: 0.2633 - auc: 0.7565 - val_loss: 0.2724 - val_auc: 0.6660\n",
      "Epoch 49/500\n",
      "100/100 [==============================] - 1s 15ms/step - loss: 0.2592 - auc: 0.7609 - val_loss: 0.2759 - val_auc: 0.7526\n",
      "Epoch 50/500\n",
      "100/100 [==============================] - 1s 14ms/step - loss: 0.2597 - auc: 0.7684 - val_loss: 0.2569 - val_auc: 0.7207\n",
      "Epoch 51/500\n",
      "100/100 [==============================] - 1s 14ms/step - loss: 0.2557 - auc: 0.7598 - val_loss: 0.3006 - val_auc: 0.7316\n",
      "Epoch 52/500\n",
      "100/100 [==============================] - 1s 15ms/step - loss: 0.2547 - auc: 0.7639 - val_loss: 0.3009 - val_auc: 0.7237\n",
      "Epoch 53/500\n",
      "100/100 [==============================] - 1s 14ms/step - loss: 0.2544 - auc: 0.7672 - val_loss: 0.2817 - val_auc: 0.7158\n",
      "Epoch 54/500\n",
      "100/100 [==============================] - 2s 15ms/step - loss: 0.2599 - auc: 0.7609 - val_loss: 0.2622 - val_auc: 0.7327\n",
      "Epoch 55/500\n",
      "100/100 [==============================] - 1s 14ms/step - loss: 0.2578 - auc: 0.7760 - val_loss: 0.2649 - val_auc: 0.7300\n",
      "Epoch 56/500\n",
      "100/100 [==============================] - 1s 15ms/step - loss: 0.2463 - auc: 0.7777 - val_loss: 0.2580 - val_auc: 0.7550\n",
      "Epoch 57/500\n",
      "100/100 [==============================] - 1s 14ms/step - loss: 0.2528 - auc: 0.7821 - val_loss: 0.2692 - val_auc: 0.7383\n",
      "Epoch 58/500\n",
      "100/100 [==============================] - 1s 14ms/step - loss: 0.2537 - auc: 0.7682 - val_loss: 0.2690 - val_auc: 0.7134\n",
      "Epoch 59/500\n",
      "100/100 [==============================] - 1s 15ms/step - loss: 0.2422 - auc: 0.7872 - val_loss: 0.2714 - val_auc: 0.7526\n",
      "Epoch 60/500\n",
      "100/100 [==============================] - 1s 14ms/step - loss: 0.2509 - auc: 0.7745 - val_loss: 0.2607 - val_auc: 0.7498\n",
      "Epoch 61/500\n",
      "100/100 [==============================] - 2s 15ms/step - loss: 0.2540 - auc: 0.7832 - val_loss: 0.3233 - val_auc: 0.7377\n",
      "Epoch 62/500\n",
      "100/100 [==============================] - 1s 14ms/step - loss: 0.2426 - auc: 0.7906 - val_loss: 0.2667 - val_auc: 0.7411\n",
      "Epoch 63/500\n",
      "100/100 [==============================] - 1s 15ms/step - loss: 0.2546 - auc: 0.7631 - val_loss: 0.2571 - val_auc: 0.7208\n",
      "Epoch 64/500\n",
      "100/100 [==============================] - 1s 14ms/step - loss: 0.2474 - auc: 0.7855 - val_loss: 0.2519 - val_auc: 0.7535\n",
      "Epoch 65/500\n",
      "100/100 [==============================] - 1s 14ms/step - loss: 0.2440 - auc: 0.7849 - val_loss: 0.2600 - val_auc: 0.7533\n",
      "Epoch 66/500\n",
      "100/100 [==============================] - 1s 15ms/step - loss: 0.2456 - auc: 0.7983 - val_loss: 0.2629 - val_auc: 0.7646\n",
      "Epoch 67/500\n",
      "100/100 [==============================] - 1s 14ms/step - loss: 0.2430 - auc: 0.7786 - val_loss: 0.2710 - val_auc: 0.7645\n",
      "Epoch 68/500\n",
      "100/100 [==============================] - 1s 15ms/step - loss: 0.2477 - auc: 0.7857 - val_loss: 0.2548 - val_auc: 0.7386\n",
      "Epoch 69/500\n",
      "100/100 [==============================] - 1s 14ms/step - loss: 0.2478 - auc: 0.7846 - val_loss: 0.2544 - val_auc: 0.7428\n",
      "Epoch 70/500\n",
      "100/100 [==============================] - 2s 15ms/step - loss: 0.2415 - auc: 0.7921 - val_loss: 0.2512 - val_auc: 0.7455\n",
      "Epoch 71/500\n",
      "100/100 [==============================] - 1s 14ms/step - loss: 0.2438 - auc: 0.7933 - val_loss: 0.2498 - val_auc: 0.7603\n",
      "Epoch 72/500\n",
      "100/100 [==============================] - 1s 14ms/step - loss: 0.2415 - auc: 0.7827 - val_loss: 0.2635 - val_auc: 0.7457\n",
      "Epoch 73/500\n",
      "100/100 [==============================] - 1s 15ms/step - loss: 0.2431 - auc: 0.7907 - val_loss: 0.2534 - val_auc: 0.7649\n",
      "Epoch 74/500\n",
      "100/100 [==============================] - 1s 14ms/step - loss: 0.2385 - auc: 0.7976 - val_loss: 0.2469 - val_auc: 0.7612\n",
      "Epoch 75/500\n",
      "100/100 [==============================] - 2s 15ms/step - loss: 0.2413 - auc: 0.7936 - val_loss: 0.2574 - val_auc: 0.7530\n",
      "Epoch 76/500\n",
      "100/100 [==============================] - 1s 14ms/step - loss: 0.2385 - auc: 0.7992 - val_loss: 0.2483 - val_auc: 0.7625\n",
      "Epoch 77/500\n",
      "100/100 [==============================] - 1s 15ms/step - loss: 0.2428 - auc: 0.8025 - val_loss: 0.2734 - val_auc: 0.6895\n",
      "Epoch 78/500\n",
      "100/100 [==============================] - 1s 14ms/step - loss: 0.2351 - auc: 0.8015 - val_loss: 0.2499 - val_auc: 0.7649\n",
      "Epoch 79/500\n",
      "100/100 [==============================] - 1s 14ms/step - loss: 0.2420 - auc: 0.7977 - val_loss: 0.2423 - val_auc: 0.7861\n",
      "Epoch 80/500\n",
      "100/100 [==============================] - 2s 15ms/step - loss: 0.2383 - auc: 0.8020 - val_loss: 0.2877 - val_auc: 0.7321\n",
      "Epoch 81/500\n",
      "100/100 [==============================] - 1s 14ms/step - loss: 0.2354 - auc: 0.8108 - val_loss: 0.2503 - val_auc: 0.7647\n",
      "Epoch 82/500\n",
      "100/100 [==============================] - 1s 15ms/step - loss: 0.2410 - auc: 0.7987 - val_loss: 0.2492 - val_auc: 0.7467\n",
      "Epoch 83/500\n",
      "100/100 [==============================] - 1s 14ms/step - loss: 0.2380 - auc: 0.8055 - val_loss: 0.2641 - val_auc: 0.7602\n",
      "Epoch 84/500\n",
      "100/100 [==============================] - 1s 15ms/step - loss: 0.2360 - auc: 0.8058 - val_loss: 0.2465 - val_auc: 0.7571\n",
      "Epoch 85/500\n",
      "100/100 [==============================] - 1s 15ms/step - loss: 0.2350 - auc: 0.8088 - val_loss: 0.2653 - val_auc: 0.7416\n",
      "Epoch 86/500\n",
      "100/100 [==============================] - 1s 14ms/step - loss: 0.2354 - auc: 0.8029 - val_loss: 0.2675 - val_auc: 0.7861\n",
      "Epoch 87/500\n",
      "100/100 [==============================] - 2s 15ms/step - loss: 0.2341 - auc: 0.8100 - val_loss: 0.2469 - val_auc: 0.7593\n",
      "Epoch 88/500\n",
      "100/100 [==============================] - 1s 14ms/step - loss: 0.2350 - auc: 0.8052 - val_loss: 0.2433 - val_auc: 0.7730\n",
      "Epoch 89/500\n",
      "100/100 [==============================] - 1s 15ms/step - loss: 0.2345 - auc: 0.8120 - val_loss: 0.2664 - val_auc: 0.7598\n",
      "Epoch 90/500\n",
      "100/100 [==============================] - 1s 14ms/step - loss: 0.2338 - auc: 0.8142 - val_loss: 0.2570 - val_auc: 0.7465\n",
      "Epoch 91/500\n",
      "100/100 [==============================] - 1s 15ms/step - loss: 0.2311 - auc: 0.8113 - val_loss: 0.2569 - val_auc: 0.7541\n",
      "Epoch 92/500\n",
      "100/100 [==============================] - 1s 14ms/step - loss: 0.2318 - auc: 0.8095 - val_loss: 0.2582 - val_auc: 0.7803\n",
      "Epoch 93/500\n",
      "100/100 [==============================] - 1s 14ms/step - loss: 0.2357 - auc: 0.8089 - val_loss: 0.2401 - val_auc: 0.7852\n",
      "Epoch 94/500\n",
      "100/100 [==============================] - 1s 15ms/step - loss: 0.2305 - auc: 0.8223 - val_loss: 0.2878 - val_auc: 0.7582\n",
      "Epoch 95/500\n",
      "100/100 [==============================] - 1s 14ms/step - loss: 0.2336 - auc: 0.8161 - val_loss: 0.2827 - val_auc: 0.6811\n",
      "Epoch 96/500\n",
      "100/100 [==============================] - 1s 15ms/step - loss: 0.2358 - auc: 0.8146 - val_loss: 0.2446 - val_auc: 0.7835\n",
      "Epoch 97/500\n",
      "100/100 [==============================] - 1s 14ms/step - loss: 0.2282 - auc: 0.8144 - val_loss: 0.2441 - val_auc: 0.7887\n",
      "Epoch 98/500\n",
      "100/100 [==============================] - 2s 15ms/step - loss: 0.2285 - auc: 0.8188 - val_loss: 0.2523 - val_auc: 0.7632\n",
      "Epoch 99/500\n",
      "100/100 [==============================] - 1s 14ms/step - loss: 0.2320 - auc: 0.8198 - val_loss: 0.2512 - val_auc: 0.7447\n",
      "Epoch 100/500\n",
      "100/100 [==============================] - 1s 14ms/step - loss: 0.2257 - auc: 0.8192 - val_loss: 0.2879 - val_auc: 0.7523\n",
      "Epoch 101/500\n",
      "100/100 [==============================] - 1s 15ms/step - loss: 0.2316 - auc: 0.8193 - val_loss: 0.3138 - val_auc: 0.7792\n",
      "Epoch 102/500\n",
      "100/100 [==============================] - 1s 14ms/step - loss: 0.2275 - auc: 0.8263 - val_loss: 0.2522 - val_auc: 0.7479\n",
      "Epoch 103/500\n",
      "100/100 [==============================] - 1s 15ms/step - loss: 0.2271 - auc: 0.8263 - val_loss: 0.2497 - val_auc: 0.7610\n",
      "Epoch 104/500\n",
      "100/100 [==============================] - 1s 14ms/step - loss: 0.2325 - auc: 0.8224 - val_loss: 0.3057 - val_auc: 0.7549\n",
      "Epoch 105/500\n",
      "100/100 [==============================] - 2s 16ms/step - loss: 0.2302 - auc: 0.8112 - val_loss: 0.2692 - val_auc: 0.7521\n",
      "Epoch 106/500\n",
      "100/100 [==============================] - 1s 14ms/step - loss: 0.2251 - auc: 0.8372 - val_loss: 0.2416 - val_auc: 0.7922\n",
      "Epoch 107/500\n",
      "100/100 [==============================] - 1s 14ms/step - loss: 0.2294 - auc: 0.8157 - val_loss: 0.2429 - val_auc: 0.7931\n",
      "Epoch 108/500\n",
      "100/100 [==============================] - 1s 15ms/step - loss: 0.2261 - auc: 0.8282 - val_loss: 0.2353 - val_auc: 0.8054\n",
      "Epoch 109/500\n",
      "100/100 [==============================] - 1s 14ms/step - loss: 0.2220 - auc: 0.8280 - val_loss: 0.2816 - val_auc: 0.7745\n",
      "Epoch 110/500\n",
      "100/100 [==============================] - 1s 15ms/step - loss: 0.2249 - auc: 0.8294 - val_loss: 0.2606 - val_auc: 0.7825\n",
      "Epoch 111/500\n",
      "100/100 [==============================] - 1s 14ms/step - loss: 0.2229 - auc: 0.8378 - val_loss: 0.2474 - val_auc: 0.7693\n",
      "Epoch 112/500\n",
      "100/100 [==============================] - 1s 15ms/step - loss: 0.2336 - auc: 0.8157 - val_loss: 0.2491 - val_auc: 0.7556\n",
      "Epoch 113/500\n",
      "100/100 [==============================] - 1s 14ms/step - loss: 0.2261 - auc: 0.8232 - val_loss: 0.2498 - val_auc: 0.7498\n",
      "Epoch 114/500\n",
      "100/100 [==============================] - 1s 14ms/step - loss: 0.2252 - auc: 0.8355 - val_loss: 0.2373 - val_auc: 0.8079\n",
      "Epoch 115/500\n",
      "100/100 [==============================] - 1s 15ms/step - loss: 0.2197 - auc: 0.8345 - val_loss: 0.2771 - val_auc: 0.7258\n",
      "Epoch 116/500\n",
      "100/100 [==============================] - 1s 14ms/step - loss: 0.2287 - auc: 0.8353 - val_loss: 0.2790 - val_auc: 0.7731\n",
      "Epoch 117/500\n",
      "100/100 [==============================] - 1s 15ms/step - loss: 0.2207 - auc: 0.8340 - val_loss: 0.2617 - val_auc: 0.7473\n",
      "Epoch 118/500\n",
      "100/100 [==============================] - 1s 14ms/step - loss: 0.2249 - auc: 0.8250 - val_loss: 0.2527 - val_auc: 0.7440\n",
      "Epoch 119/500\n",
      "100/100 [==============================] - 1s 15ms/step - loss: 0.2253 - auc: 0.8352 - val_loss: 0.2492 - val_auc: 0.7601\n",
      "Epoch 120/500\n",
      "100/100 [==============================] - 1s 14ms/step - loss: 0.2217 - auc: 0.8359 - val_loss: 0.2461 - val_auc: 0.7929\n",
      "Epoch 121/500\n",
      "100/100 [==============================] - 1s 14ms/step - loss: 0.2219 - auc: 0.8290 - val_loss: 0.2564 - val_auc: 0.7851\n",
      "Epoch 122/500\n",
      "100/100 [==============================] - 2s 15ms/step - loss: 0.2231 - auc: 0.8413 - val_loss: 0.2383 - val_auc: 0.7959\n",
      "Epoch 123/500\n",
      "100/100 [==============================] - 1s 14ms/step - loss: 0.2253 - auc: 0.8344 - val_loss: 0.2441 - val_auc: 0.7744\n",
      "Epoch 124/500\n",
      "100/100 [==============================] - 1s 15ms/step - loss: 0.2166 - auc: 0.8395 - val_loss: 0.3261 - val_auc: 0.7092\n",
      "Epoch 125/500\n",
      "100/100 [==============================] - 1s 14ms/step - loss: 0.2239 - auc: 0.8422 - val_loss: 0.2478 - val_auc: 0.7657\n",
      "Epoch 126/500\n",
      "100/100 [==============================] - 2s 15ms/step - loss: 0.2169 - auc: 0.8433 - val_loss: 0.2785 - val_auc: 0.8037\n"
     ]
    }
   ],
   "source": [
    "callback = tf.keras.callbacks.EarlyStopping(monitor='val_loss', mode = 'min', patience=18)\n",
    "history = model.fit(train, epochs=config.epochs,validation_data = valid, validation_batch_size = config.batch_size,\n",
    "                    validation_steps = 200,validation_freq = 1,steps_per_epoch=config.steps_per, callbacks = [callback])\n",
    "#                    class_weight = {0:1, 1:10})"
   ]
  },
  {
   "cell_type": "code",
   "execution_count": 14,
   "id": "2dc4b63d-4332-4da0-a5d3-121cf8fc239e",
   "metadata": {
    "tags": []
   },
   "outputs": [
    {
     "name": "stdout",
     "output_type": "stream",
     "text": [
      "30/30 [==============================] - 0s 3ms/step - loss: 0.2848 - auc: 0.7729\n"
     ]
    },
    {
     "data": {
      "text/plain": [
       "[0.28479042649269104, 0.7729396224021912]"
      ]
     },
     "execution_count": 14,
     "metadata": {},
     "output_type": "execute_result"
    }
   ],
   "source": [
    "model.evaluate(test, test_lab, batch_size = config.batch_size)"
   ]
  },
  {
   "cell_type": "code",
   "execution_count": 25,
   "id": "3897900f-acef-47c7-9c84-5fd9045d4149",
   "metadata": {},
   "outputs": [],
   "source": [
    "model.save(\"../models/BNrelu128be_3SGDes18.h5\")"
   ]
  },
  {
   "cell_type": "code",
   "execution_count": 16,
   "id": "84e51002-57b0-4316-adc8-f6df21582894",
   "metadata": {
    "tags": []
   },
   "outputs": [],
   "source": [
    "loss = history.history['loss']\n",
    "auc = history.history['auc']\n",
    "val_loss = history.history['val_loss']\n",
    "val_auc = history.history['val_auc']"
   ]
  },
  {
   "cell_type": "code",
   "execution_count": 17,
   "id": "cc03d3fd-4b0b-445f-8591-975a98e7c5fb",
   "metadata": {
    "tags": []
   },
   "outputs": [
    {
     "data": {
      "text/plain": [
       "list"
      ]
     },
     "execution_count": 17,
     "metadata": {},
     "output_type": "execute_result"
    }
   ],
   "source": [
    "type(loss)"
   ]
  },
  {
   "cell_type": "code",
   "execution_count": 18,
   "id": "f077ca66-d34f-4ea8-b910-98d2c8ee532a",
   "metadata": {
    "scrolled": true,
    "tags": []
   },
   "outputs": [
    {
     "data": {
      "text/plain": [
       "[0.6957443952560425,\n",
       " 0.7110710144042969,\n",
       " 0.7054585218429565,\n",
       " 0.7111908197402954,\n",
       " 0.7184630632400513,\n",
       " 0.7263096570968628,\n",
       " 0.7200621366500854,\n",
       " 0.7331790328025818,\n",
       " 0.7278040051460266,\n",
       " 0.7202250361442566,\n",
       " 0.735741376876831,\n",
       " 0.75339674949646,\n",
       " 0.7311062812805176,\n",
       " 0.7370625734329224,\n",
       " 0.7511771321296692,\n",
       " 0.7484241127967834,\n",
       " 0.7521416544914246,\n",
       " 0.7451033592224121,\n",
       " 0.7493051886558533,\n",
       " 0.7632753849029541,\n",
       " 0.7502429485321045,\n",
       " 0.7565436363220215,\n",
       " 0.7608768939971924,\n",
       " 0.7684094905853271,\n",
       " 0.7598061561584473,\n",
       " 0.7639015913009644,\n",
       " 0.7671777009963989,\n",
       " 0.7609307169914246,\n",
       " 0.7760305404663086,\n",
       " 0.7776573896408081,\n",
       " 0.7821163535118103,\n",
       " 0.7681583166122437,\n",
       " 0.7871957421302795,\n",
       " 0.7744816541671753,\n",
       " 0.783195972442627,\n",
       " 0.790603756904602,\n",
       " 0.7631212472915649,\n",
       " 0.7855151295661926,\n",
       " 0.784910261631012,\n",
       " 0.7982892990112305,\n",
       " 0.7786261439323425,\n",
       " 0.7857316732406616,\n",
       " 0.7846294641494751,\n",
       " 0.7920699715614319,\n",
       " 0.7933264970779419,\n",
       " 0.7827261686325073,\n",
       " 0.790707528591156,\n",
       " 0.7976269721984863,\n",
       " 0.7935975193977356,\n",
       " 0.799167811870575,\n",
       " 0.802492618560791,\n",
       " 0.8015007972717285,\n",
       " 0.7977204918861389,\n",
       " 0.8020111322402954,\n",
       " 0.8108184933662415,\n",
       " 0.7986571788787842,\n",
       " 0.8055273294448853,\n",
       " 0.8058111667633057,\n",
       " 0.808767557144165,\n",
       " 0.8028908967971802,\n",
       " 0.81004798412323,\n",
       " 0.8051602840423584,\n",
       " 0.8119838237762451,\n",
       " 0.8141779899597168,\n",
       " 0.8113386034965515,\n",
       " 0.809465229511261,\n",
       " 0.808879017829895,\n",
       " 0.8223409652709961,\n",
       " 0.8161134719848633,\n",
       " 0.8146029114723206,\n",
       " 0.8143954277038574,\n",
       " 0.8188015818595886,\n",
       " 0.8198497891426086,\n",
       " 0.8192159533500671,\n",
       " 0.8192907571792603,\n",
       " 0.8263314366340637,\n",
       " 0.8263436555862427,\n",
       " 0.8223603963851929,\n",
       " 0.8111579418182373,\n",
       " 0.8371680974960327,\n",
       " 0.8157287240028381,\n",
       " 0.8281662464141846,\n",
       " 0.8280197381973267,\n",
       " 0.8293991088867188,\n",
       " 0.8377677202224731,\n",
       " 0.8157363533973694,\n",
       " 0.8231639862060547,\n",
       " 0.8354700207710266,\n",
       " 0.8344608545303345,\n",
       " 0.8353068828582764,\n",
       " 0.8339852690696716,\n",
       " 0.8250420093536377,\n",
       " 0.8351937532424927,\n",
       " 0.8359051942825317,\n",
       " 0.8290086388587952,\n",
       " 0.8412959575653076,\n",
       " 0.834449291229248,\n",
       " 0.8394775390625,\n",
       " 0.8422449231147766]"
      ]
     },
     "execution_count": 18,
     "metadata": {},
     "output_type": "execute_result"
    }
   ],
   "source": [
    "auc[-100:-1]"
   ]
  },
  {
   "cell_type": "code",
   "execution_count": 19,
   "id": "91b947bc-297a-4435-81bc-ce6656759513",
   "metadata": {
    "tags": []
   },
   "outputs": [],
   "source": [
    "epoch = history.epoch"
   ]
  },
  {
   "cell_type": "code",
   "execution_count": 22,
   "id": "98cc0700-39f0-4c18-abc5-169e03715c1f",
   "metadata": {
    "tags": []
   },
   "outputs": [
    {
     "data": {
      "image/png": "[encoded data removed]",
      "text/plain": [
       "<Figure size 640x480 with 1 Axes>"
      ]
     },
     "metadata": {},
     "output_type": "display_data"
    }
   ],
   "source": [
    "import matplotlib.pyplot as plt\n",
    "fig, ax = plt.subplots()\n",
    "ax.plot(epoch, loss, label='Loss')  \n",
    "ax.plot(epoch, auc, label='AUC') \n",
    "ax.set_xlabel('epochs')  \n",
    "ax.set_ylabel('rate')  \n",
    "ax.set_title(\"Using SGD 0.001 optimizer\")\n",
    "ax.legend()\n",
    "#plt.savefig(\"../pictures/S1_BNrelu256be_5SGDes18.png\",dpi=300)\n",
    "plt.show()"
   ]
  },
  {
   "cell_type": "code",
   "execution_count": 24,
   "id": "6e958d66-a801-4387-8124-77209929baed",
   "metadata": {
    "tags": []
   },
   "outputs": [
    {
     "data": {
      "image/png": "[encoded data removed]",
      "text/plain": [
       "<Figure size 640x480 with 1 Axes>"
      ]
     },
     "metadata": {},
     "output_type": "display_data"
    }
   ],
   "source": [
    "import matplotlib.pyplot as plt\n",
    "fig, ax = plt.subplots()\n",
    "ax.plot(epoch, val_loss, label='val_Loss')  \n",
    "ax.plot(epoch, val_auc, label='val_AUC') \n",
    "ax.set_xlabel('epochs')  \n",
    "ax.set_ylabel('rate')  \n",
    "ax.set_title(\"Using SGD 0.001 optimizer\")\n",
    "ax.legend()\n",
    "#plt.savefig(\"../pictures/S1val_BNrelu256be_5SGDes18.png\",dpi=300)\n",
    "plt.show()"
   ]
  },
  {
   "cell_type": "code",
   "execution_count": null,
   "id": "08951e1f-30da-46ba-96db-c1f4ce817893",
   "metadata": {},
   "outputs": [],
   "source": []
  }
 ],
 "metadata": {
  "kernelspec": {
   "display_name": "Python 3 (ipykernel)",
   "language": "python",
   "name": "python3"
  },
  "language_info": {
   "codemirror_mode": {
    "name": "ipython",
    "version": 3
   },
   "file_extension": ".py",
   "mimetype": "text/x-python",
   "name": "python",
   "nbconvert_exporter": "python",
   "pygments_lexer": "ipython3",
   "version": "3.9.7"
  }
 },
 "nbformat": 4,
 "nbformat_minor": 5
}
