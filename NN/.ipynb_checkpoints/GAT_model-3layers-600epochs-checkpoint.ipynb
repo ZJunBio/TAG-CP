{
 "cells": [
  {
   "cell_type": "code",
   "execution_count": 1,
   "id": "c3857ed1-41a0-458e-814c-94a4d5ad7560",
   "metadata": {},
   "outputs": [],
   "source": [
    "from dataset_copy_optimize_label import *\n",
    "from sklearn.metrics import accuracy_score\n",
    "import torch.nn.functional as F\n",
    "from torch_geometric.nn import GATConv\n",
    "from torch.nn import Linear\n",
    "args = (\"../data/one_graph/network_file_0self.csv\", \"../data/jaaks_druginfo_ttid.csv\")    \n",
    "data = process_data(args) "
   ]
  },
  {
   "cell_type": "markdown",
   "id": "5386cd3b-a6b3-470b-bcb6-fff2491dc58a",
   "metadata": {
    "tags": []
   },
   "source": [
    "Create Network\n",
    "--------------"
   ]
  },
  {
   "cell_type": "code",
   "execution_count": 2,
   "id": "97cd8995-ae7d-447b-9333-9b75106a1077",
   "metadata": {},
   "outputs": [],
   "source": [
    "att_dim = 256\n",
    "att_dim2 = 128\n",
    "att_dim3 = 64\n",
    "lin_dim = 64\n",
    "lin_dim2 = 42\n",
    "input_dim = data.num_node_features\n",
    "output_dim = data.y.shape[1]\n",
    "setup_seed(2023)"
   ]
  },
  {
   "cell_type": "code",
   "execution_count": 3,
   "id": "a0d7b621-6d2c-4e26-9e4f-c3ffb4f11149",
   "metadata": {},
   "outputs": [],
   "source": [
    "class GAT(torch.nn.Module):\n",
    "    def __init__(self, input_dim, output_dim, att_dim, att_dim2, att_dim3, lin_dim):\n",
    "        super().__init__()\n",
    "        self.conv1 = GATConv(in_channels = input_dim, out_channels = att_dim)\n",
    "        self.conv2 = GATConv(in_channels = att_dim, out_channels = att_dim2)\n",
    "        self.conv3 = GATConv(in_channels = att_dim2, out_channels = att_dim3)\n",
    "        self.linear1 = Linear(att_dim3, lin_dim)\n",
    "        self.linear2 = Linear(lin_dim, output_dim)\n",
    "        \n",
    "\n",
    "    def forward(self, data):\n",
    "        x, edge_index = data.x, data.edge_index\n",
    "\n",
    "        x = self.conv1(x, edge_index)\n",
    "        x = F.relu(x)\n",
    "        #x = F.dropout(x, training=self.training)\n",
    "        x = self.conv2(x, edge_index)\n",
    "        x = F.relu(x)\n",
    "        x = self.conv3(x, edge_index)\n",
    "        x = F.relu(x)\n",
    "        x = self.linear1(x)\n",
    "        x = F.relu(x)\n",
    "        x = self.linear2(x)\n",
    "        out = torch.sigmoid(x)\n",
    "        \n",
    "\n",
    "        return x, out"
   ]
  },
  {
   "cell_type": "markdown",
   "id": "ae6e74ea-6f96-4b06-aadf-9bab7726784f",
   "metadata": {
    "tags": []
   },
   "source": [
    "Instantiate model\n",
    "-----------------"
   ]
  },
  {
   "cell_type": "code",
   "execution_count": 4,
   "id": "f60aaec8-2924-43f8-9938-ff4a637ad82b",
   "metadata": {},
   "outputs": [],
   "source": [
    "device = torch.device('cuda' if torch.cuda.is_available() else 'cpu')\n",
    "model = GAT(input_dim, output_dim, att_dim, att_dim2, att_dim3, lin_dim).to(device)\n",
    "data = data.to(device)\n",
    "optimizer = torch.optim.Adam(model.parameters(), lr=0.001, weight_decay=5e-4)"
   ]
  },
  {
   "cell_type": "markdown",
   "id": "2cb5a11c-5fb2-48f5-9727-1bf2341d1e89",
   "metadata": {
    "tags": []
   },
   "source": [
    "Train model\n",
    "-----------"
   ]
  },
  {
   "cell_type": "code",
   "execution_count": 5,
   "id": "c5c49713-a8bd-46ed-9cff-e633e00c3251",
   "metadata": {},
   "outputs": [
    {
     "name": "stdout",
     "output_type": "stream",
     "text": [
      "Loss:0.6940599679946899\n",
      "Loss:0.5159727931022644\n",
      "Loss:0.18285401165485382\n",
      "Loss:0.1426382213830948\n",
      "Loss:0.12820003926753998\n",
      "Loss:0.12196547538042068\n",
      "Loss:0.12007546424865723\n",
      "Loss:0.11890864372253418\n",
      "Loss:0.11845501512289047\n",
      "Loss:0.11784956604242325\n",
      "Loss:0.11693977564573288\n",
      "Loss:0.11506156623363495\n",
      "Loss:0.11100165545940399\n",
      "Loss:0.10593036562204361\n",
      "Loss:0.1024932861328125\n",
      "Loss:0.09931425005197525\n",
      "Loss:0.09599392861127853\n",
      "Loss:0.09269411861896515\n",
      "Loss:0.08930016309022903\n",
      "Loss:0.08530969172716141\n",
      "Loss:0.0815044716000557\n",
      "Loss:0.07816002517938614\n",
      "Loss:0.07512237876653671\n",
      "Loss:0.07169174402952194\n",
      "Loss:0.06700585782527924\n",
      "Loss:0.06224184110760689\n",
      "Loss:0.058410096913576126\n",
      "Loss:0.055796507745981216\n",
      "Loss:0.053254447877407074\n",
      "Loss:0.05165061727166176\n",
      "Loss:0.04974304512143135\n",
      "Loss:0.047055743634700775\n",
      "Loss:0.04541613534092903\n",
      "Loss:0.04382600635290146\n",
      "Loss:0.04183322191238403\n",
      "Loss:0.041051775217056274\n",
      "Loss:0.03879184275865555\n",
      "Loss:0.037557464092969894\n",
      "Loss:0.03635194152593613\n",
      "Loss:0.0361994244158268\n",
      "Loss:0.03444284573197365\n",
      "Loss:0.03362611308693886\n",
      "Loss:0.033111609518527985\n",
      "Loss:0.03221305459737778\n",
      "Loss:0.03404982388019562\n",
      "Loss:0.03128870576620102\n",
      "Loss:0.031018998473882675\n",
      "Loss:0.030500201508402824\n",
      "Loss:0.030112240463495255\n",
      "Loss:0.029825521633028984\n",
      "Loss:0.02940201945602894\n",
      "Loss:0.028972327709197998\n",
      "Loss:0.02966141514480114\n",
      "Loss:0.02840581350028515\n",
      "Loss:0.02809532918035984\n",
      "Loss:0.027754029259085655\n",
      "Loss:0.02759072557091713\n",
      "Loss:0.027594594284892082\n",
      "Loss:0.027245743200182915\n",
      "Loss:0.02715020626783371\n"
     ]
    }
   ],
   "source": [
    "model.train()\n",
    "loss_ = []\n",
    "for epoch in range(600):\n",
    "    optimizer.zero_grad()\n",
    "    _, out = model(data)\n",
    "    loss = F.binary_cross_entropy(out[data.train_idx], data.y[data.train_idx])\n",
    "    loss_.append(loss)\n",
    "    if epoch % 10 == 0:\n",
    "        print(f'Loss:{loss}')\n",
    "    loss.backward()\n",
    "    optimizer.step()"
   ]
  },
  {
   "cell_type": "markdown",
   "id": "872a5e33-06b7-4128-8de1-40589195c7ce",
   "metadata": {
    "tags": []
   },
   "source": [
    "Evaluate accuracy\n",
    "-----------------"
   ]
  },
  {
   "cell_type": "code",
   "execution_count": 10,
   "id": "200d6af6-d68f-46da-ade7-83bddc5a93d7",
   "metadata": {},
   "outputs": [],
   "source": [
    "loss_ = [i.detach().numpy() for i in loss_]"
   ]
  },
  {
   "cell_type": "code",
   "execution_count": 14,
   "id": "5e37cc49-ab37-40d0-9469-91f7b265863b",
   "metadata": {},
   "outputs": [
    {
     "data": {
      "image/png": "[encoded data removed]",
      "text/plain": [
       "<Figure size 640x480 with 1 Axes>"
      ]
     },
     "metadata": {},
     "output_type": "display_data"
    }
   ],
   "source": [
    "import matplotlib as mpl\n",
    "import matplotlib.pyplot as plt\n",
    "\n",
    "fig, ax  = plt.subplots()\n",
    "ax.plot(list(range(len(loss_))), loss_)\n",
    "plt.show()"
   ]
  },
  {
   "cell_type": "code",
   "execution_count": 12,
   "id": "52295828-d4e1-4b17-8760-6d8c6f73de23",
   "metadata": {},
   "outputs": [],
   "source": [
    "model.eval()\n",
    "_, pred = model(data)\n",
    "pred_label = np.zeros(data.y[data.test_mask].size())\n",
    "pred = pred[data.test_mask].detach().numpy()\n",
    "for i, v in enumerate(data.y[data.test_mask].detach().numpy()):\n",
    "    sum_ = int(v.sum())\n",
    "    if sum_ == 1:\n",
    "        l = np.argsort(pred[i])[-1]\n",
    "        pred_label[i, l] = 1\n",
    "    else:\n",
    "        l = np.argsort(pred[i])[-sum_:]\n",
    "        pred_label[i, l] = 1\n",
    "acc = accuracy_score(pred_label, data.y[data.test_mask].detach().numpy())"
   ]
  },
  {
   "cell_type": "code",
   "execution_count": 13,
   "id": "39b68b18-1d41-4614-a809-4a7d1440093f",
   "metadata": {},
   "outputs": [
    {
     "name": "stdout",
     "output_type": "stream",
     "text": [
      "Accuracy: 0.8759124087591241\n"
     ]
    }
   ],
   "source": [
    "print(f'Accuracy: {acc}')"
   ]
  }
 ],
 "metadata": {
  "kernelspec": {
   "display_name": "Python 3 (ipykernel)",
   "language": "python",
   "name": "python3"
  },
  "language_info": {
   "codemirror_mode": {
    "name": "ipython",
    "version": 3
   },
   "file_extension": ".py",
   "mimetype": "text/x-python",
   "name": "python",
   "nbconvert_exporter": "python",
   "pygments_lexer": "ipython3",
   "version": "3.9.12"
  }
 },
 "nbformat": 4,
 "nbformat_minor": 5
}
