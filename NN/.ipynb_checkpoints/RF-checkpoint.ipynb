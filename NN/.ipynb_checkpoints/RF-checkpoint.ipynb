{
 "cells": [
  {
   "cell_type": "code",
   "execution_count": null,
   "id": "8d692f2d-d310-4f6a-87b0-0196907da7ca",
   "metadata": {},
   "outputs": [],
   "source": [
    "from sklearn.ensemble import RandomForestClassifier\n",
    "from sklearn.metrics import precision_recall_curve, roc_curve, auc, f1_score\n",
    "from sklearn.model_selection import cross_validate, StratifiedKFold\n",
    "from sklearn.model_selection import GridSearchCV\n",
    "import random\n",
    "import time\n",
    "import numpy as np\n",
    "import pandas as pd"
   ]
  },
  {
   "cell_type": "code",
   "execution_count": null,
   "id": "873f051e-8764-4a56-bb75-a2f7181451b6",
   "metadata": {},
   "outputs": [],
   "source": [
    "train = np.load(\"../data/datasets/train_tensor.npy\", allow_pickle=True)\n",
    "val = np.load(\"../data/datasets/val_tensor.npy.npy\", allow_pickle=True)\n",
    "train_lab = np.load(\"../data/datasets/train_label.npy\", allow_pickle=True)\n",
    "val_lab = np.load(\"../data/datasets/val_label.npy\", allow_pickle=True)"
   ]
  },
  {
   "cell_type": "code",
   "execution_count": null,
   "id": "09dd6ddc-8add-4883-905f-4f061d4fabba",
   "metadata": {},
   "outputs": [],
   "source": [
    "print(train.shape, \"\\t\", train_lab.shape)"
   ]
  },
  {
   "cell_type": "code",
   "execution_count": null,
   "id": "1639179f-c1dc-44c4-8950-c5c7283967b2",
   "metadata": {},
   "outputs": [],
   "source": [
    "record = pd.DataFrame({'seeds':[], 'aupr':[], 'auc':[], 'precision':[], 'recall': [], 'thresh':[]})\n",
    "seeds = [2007, 2022, 2277, 2622, 2491, 2169, 2061, 2176, 2931, 2994]\n",
    "\n",
    "for i, seeding in enumerate(seeds):\n",
    "    rf = RandomForestClassifier(n_estimators = 100, max_depth = 32, n_jobs = 8,\n",
    "                                max_features= 0.014, min_samples_leaf= 4, \n",
    "                                min_samples_split = 6, random_state = seeding,\n",
    "                                oob_score = True, class_weight = {0:2, 1:1})\n",
    "    cv = StratifiedKFold(n_splits=5, random_state = 2022, shuffle = True)\n",
    "    def scorer(clf, X, y):\n",
    "        y_pred = clf.predict_proba(X)\n",
    "        y_pred = y_pred[:,1]\n",
    "        precision, recall, thresh1 = precision_recall_curve(y, y_pred)\n",
    "        fpr, tpr, thresh2 = roc_curve(y, y_pred)\n",
    "        f1_score, threshold_b, precision_b, recall_b = utils.f1_score_best(precision, recall, thresh1) \n",
    "\n",
    "        aupr = auc(recall, precision)\n",
    "        auc_score = auc(fpr, tpr)\n",
    "\n",
    "        return {'AUPR': aupr, 'AUC':auc_score, 'f1_score':f1_score, \n",
    "                'bestprecision': precision_b, 'bestrecall': recall_b, \n",
    "                'threshold': threshold_b}\n",
    "\n",
    "    t1 = time.time()\n",
    "    rfclf = cross_validate(rf, train, train_lab, scoring = scorer, cv = cv, return_estimator = True)\n",
    "    t2 = time.time()\n",
    "    print(\"Training completed with {} minutes!\".format(int((t2-t1)/60)))\n",
    "    \n",
    "    best_index = np.argmax(rfclf['test_f1_score'])\n",
    "    record = pd.concat([record, pd.DataFrame([[seeding, rfclf['test_AUPR'][best_index], rfclf['test_AUC'][best_index], \n",
    "                                               rfclf['test_bestprecision'][best_index], rfclf['test_bestrecall'][best_index], \n",
    "                                               rfclf['test_threshold'][best_index]]], \n",
    "                                             columns= ['seeds', 'aupr', 'auc', 'precision', 'recall', 'thresh'])])\n",
    "    \n",
    "    print(\"Mean of AUPR:{}\".format(np.mean(rfclf['test_AUPR'])))\n",
    "    print(\"Mean of AUC:{}\".format(np.mean(rfclf['test_AUC'])))\n",
    "    \n",
    "    rfclf = rfclf['estimator'][best_index]\n",
    "    dump(rfclf, \"../temp/s1rf_finalrep\"+str(seeding)+\".joblib\")\n",
    "    \n",
    "    index, (train_index, test_index) = list(enumerate(cv.split(train, train_lab)))[best_index]\n",
    "    \n",
    "    test = train[test_index]\n",
    "    test_lab = train_lab[test_index]\n",
    "    test_pred = rfclf.predict_proba(test)\n",
    "    test_pred = test_pred[:, 1]\n",
    "    precision, recall, thresh1 = precision_recall_curve(test_lab, test_pred)\n",
    "    fpr, tpr, thresh2 = roc_curve(test_lab, test_pred)\n",
    "    f1_score, threshold_b, precision_b, recall_b = utils.f1_score_best(precision, recall, thresh1) \n",
    "    \n",
    "    pr = np.array([precision, recall]).T\n",
    "    fp = np.array([fpr, tpr]).T\n",
    "    utils.mat2csv(pr, [\"precision\", \"recall\"], \"../temp/s1pr_finalrf\"+str(seeding)+\".csv\")\n",
    "    utils.mat2csv(fp, [\"fpr\", \"tpr\"], \"../temp/s1fp_finalrf\"+str(seeding)+\".csv\")"
   ]
  },
  {
   "cell_type": "code",
   "execution_count": null,
   "id": "ae6e6c9d-149e-4d4b-8682-de9faf578d10",
   "metadata": {},
   "outputs": [],
   "source": [
    "record"
   ]
  },
  {
   "cell_type": "code",
   "execution_count": null,
   "id": "eb1c2baf-8340-438b-8596-bc0309c70e2c",
   "metadata": {},
   "outputs": [],
   "source": [
    "record.reset_index(drop=True).to_csv(\"../temp/repeats10.csv\", header = True, index =  True)"
   ]
  },
  {
   "cell_type": "code",
   "execution_count": null,
   "id": "d638059b-a415-49a2-8483-68293ad1bca9",
   "metadata": {},
   "outputs": [],
   "source": [
    "print(\"mean of aupr is {} with standard deviation {}\".format(np.mean(record['aupr']), np.std(record['aupr'])))\n",
    "print(\"mean of auc is {} with standard deviation {}\".format(np.mean(record['auc']), np.std(record['auc'])))\n",
    "print(\"mean of precision is {} with standard deviation {}\".format(np.mean(record['precision']), np.std(record['precision'])))\n",
    "print(\"mean of recall is {} with standard deviation {}\".format(np.mean(record['recall']), np.std(record['recall'])))"
   ]
  },
  {
   "cell_type": "code",
   "execution_count": null,
   "id": "962181a4-7c99-494d-bb97-7e11c6a8f10f",
   "metadata": {},
   "outputs": [],
   "source": [
    "record = record.reset_index(drop=True)\n",
    "f1 = [(2*record['precision'][i]*record['recall'][i] / (record['precision'][i] + record['recall'][i])) for i in range(record.shape[0])]\n",
    "print(\"mean of f1 is {} with standard deviation {}\".format(np.mean(f1), np.std(f1)))"
   ]
  }
 ],
 "metadata": {
  "kernelspec": {
   "display_name": "Python 3 (ipykernel)",
   "language": "python",
   "name": "python3"
  },
  "language_info": {
   "codemirror_mode": {
    "name": "ipython",
    "version": 3
   },
   "file_extension": ".py",
   "mimetype": "text/x-python",
   "name": "python",
   "nbconvert_exporter": "python",
   "pygments_lexer": "ipython3",
   "version": "3.9.12"
  }
 },
 "nbformat": 4,
 "nbformat_minor": 5
}
