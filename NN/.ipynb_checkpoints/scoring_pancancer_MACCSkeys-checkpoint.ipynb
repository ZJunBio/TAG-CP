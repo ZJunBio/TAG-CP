{
 "cells": [
  {
   "cell_type": "code",
   "execution_count": 1,
   "id": "8bd78847-f79c-4df7-96f4-d15925f7bb37",
   "metadata": {},
   "outputs": [],
   "source": [
    "from tensorflow import keras\n",
    "from sklearn import metrics, preprocessing\n",
    "import pandas as pd\n",
    "import numpy as np\n",
    "import utils_rf"
   ]
  },
  {
   "cell_type": "code",
   "execution_count": 2,
   "id": "7992e930-9977-4b5f-aa48-8507303a59bc",
   "metadata": {},
   "outputs": [
    {
     "name": "stdout",
     "output_type": "stream",
     "text": [
      "Shape of prediction: (3720,)\n",
      "[0.8121991  0.95884645 0.925425   0.49336717]\n"
     ]
    },
    {
     "name": "stderr",
     "output_type": "stream",
     "text": [
      "D:\\python_work\\Interpretation_DDC\\NN\\utils_rf.py:150: RuntimeWarning: invalid value encountered in divide\n",
      "  f1_score = np.divide((2 * np.multiply(precision, recall)),  (precision + recall))\n"
     ]
    },
    {
     "name": "stdout",
     "output_type": "stream",
     "text": [
      "Shape of prediction: (3720,)\n",
      "[0.84637225 0.9570372  0.87099147 0.563191  ]\n",
      "Shape of prediction: (3720,)\n",
      "[0.78519344 0.9517796  0.8960778  0.47221732]\n",
      "Shape of prediction: (3720,)\n",
      "[0.8689198  0.9209589  0.77009356 0.47536826]\n"
     ]
    },
    {
     "name": "stderr",
     "output_type": "stream",
     "text": [
      "D:\\python_work\\Interpretation_DDC\\NN\\utils_rf.py:150: RuntimeWarning: invalid value encountered in divide\n",
      "  f1_score = np.divide((2 * np.multiply(precision, recall)),  (precision + recall))\n"
     ]
    },
    {
     "name": "stdout",
     "output_type": "stream",
     "text": [
      "Shape of prediction: (3720,)\n",
      "[0.87698054 0.9518953  0.8703969  0.4660165 ]\n",
      "Shape of prediction: (3720,)\n",
      "[0.8494239  0.9635961  0.86772645 0.49662107]\n",
      "Shape of prediction: (3720,)\n",
      "[0.8478707  0.94227886 0.86102915 0.3734166 ]\n",
      "Shape of prediction: (3720,)\n",
      "[0.8192266 0.9369474 0.7946949 0.4921729]\n",
      "Shape of prediction: (3720,)\n",
      "[0.83819973 0.93643296 0.82572734 0.45449522]\n"
     ]
    }
   ],
   "source": [
    "test = preprocessing.normalize(np.load(\"../data/datasets/test_tensor_csigma005_macc.npy\", allow_pickle=True))\n",
    "test_lab = np.load(\"../data/datasets/test_label_csima005_macc.npy\", allow_pickle=True)\n",
    "record = pd.DataFrame({'seeds':[], 'aupr':[], 'auc':[], 'precision':[], 'recall': [], 'thresh':[]})\n",
    "seeds = list(range(9))\n",
    "for i, seeding in enumerate(seeds):\n",
    "    \n",
    "    model = keras.models.load_model(\"../models/DNN/MACCSKeysBNrelu256be_3SGDes15wc\"+ str(seeding) +\"Fold.h5\")\n",
    "    y_pred = model.predict(test)\n",
    "    y_pred = y_pred.reshape((y_pred.shape[0],))\n",
    "    print(\"Shape of prediction:\", y_pred.shape)\n",
    "    print(y_pred[0:4])\n",
    "    \n",
    "    precision, recall, thresholds = metrics.precision_recall_curve(test_lab, y_pred)\n",
    "    fpr, tpr, thresholds_r = metrics.roc_curve(test_lab, y_pred)\n",
    "    pr = np.array([precision, recall]).T\n",
    "    fp = np.array([fpr, tpr]).T\n",
    "    utils_rf.mat2csv(pr, [\"precision\", \"recall\"], \"../temp/pr_dnnwc_macc\"+str(seeding)+\"Fold.csv\")\n",
    "    utils_rf.mat2csv(fp, [\"fpr\", \"tpr\"], \"../temp/fp_dnnwc_macc\"+str(seeding)+\".csv\")\n",
    "    f1_score, threshold_b, precision_b, recall_b = utils_rf.f1_score_best(precision, recall, thresholds) \n",
    "    \n",
    "    auc_score = metrics.auc(fpr, tpr)\n",
    "    aupr = metrics.auc(recall, precision)\n",
    "    #preserved precision and recall are recording under best f1 score\n",
    "    record = pd.concat([record, pd.DataFrame([[seeding, aupr, auc_score, precision_b, recall_b, threshold_b]], \n",
    "                                             columns= ['seeds', 'aupr', 'auc', 'precision', 'recall', 'thresh'])])\n"
   ]
  },
  {
   "cell_type": "code",
   "execution_count": 3,
   "id": "7464dd55-a595-4c3b-93a7-d381958ec6b6",
   "metadata": {},
   "outputs": [
    {
     "data": {
      "text/html": [
       "<div>\n",
       "<style scoped>\n",
       "    .dataframe tbody tr th:only-of-type {\n",
       "        vertical-align: middle;\n",
       "    }\n",
       "\n",
       "    .dataframe tbody tr th {\n",
       "        vertical-align: top;\n",
       "    }\n",
       "\n",
       "    .dataframe thead th {\n",
       "        text-align: right;\n",
       "    }\n",
       "</style>\n",
       "<table border=\"1\" class=\"dataframe\">\n",
       "  <thead>\n",
       "    <tr style=\"text-align: right;\">\n",
       "      <th></th>\n",
       "      <th>seeds</th>\n",
       "      <th>aupr</th>\n",
       "      <th>auc</th>\n",
       "      <th>precision</th>\n",
       "      <th>recall</th>\n",
       "      <th>thresh</th>\n",
       "    </tr>\n",
       "  </thead>\n",
       "  <tbody>\n",
       "    <tr>\n",
       "      <th>0</th>\n",
       "      <td>0.0</td>\n",
       "      <td>0.347990</td>\n",
       "      <td>0.831899</td>\n",
       "      <td>0.000000</td>\n",
       "      <td>0.000000</td>\n",
       "      <td>0.968507</td>\n",
       "    </tr>\n",
       "    <tr>\n",
       "      <th>0</th>\n",
       "      <td>1.0</td>\n",
       "      <td>0.316876</td>\n",
       "      <td>0.815375</td>\n",
       "      <td>0.344743</td>\n",
       "      <td>0.470000</td>\n",
       "      <td>0.714092</td>\n",
       "    </tr>\n",
       "    <tr>\n",
       "      <th>0</th>\n",
       "      <td>2.0</td>\n",
       "      <td>0.349860</td>\n",
       "      <td>0.831317</td>\n",
       "      <td>0.342432</td>\n",
       "      <td>0.460000</td>\n",
       "      <td>0.722965</td>\n",
       "    </tr>\n",
       "    <tr>\n",
       "      <th>0</th>\n",
       "      <td>3.0</td>\n",
       "      <td>0.286587</td>\n",
       "      <td>0.795761</td>\n",
       "      <td>0.000000</td>\n",
       "      <td>0.000000</td>\n",
       "      <td>0.926119</td>\n",
       "    </tr>\n",
       "    <tr>\n",
       "      <th>0</th>\n",
       "      <td>4.0</td>\n",
       "      <td>0.329062</td>\n",
       "      <td>0.820346</td>\n",
       "      <td>0.306931</td>\n",
       "      <td>0.516667</td>\n",
       "      <td>0.661277</td>\n",
       "    </tr>\n",
       "    <tr>\n",
       "      <th>0</th>\n",
       "      <td>5.0</td>\n",
       "      <td>0.340454</td>\n",
       "      <td>0.823143</td>\n",
       "      <td>0.340278</td>\n",
       "      <td>0.490000</td>\n",
       "      <td>0.734012</td>\n",
       "    </tr>\n",
       "    <tr>\n",
       "      <th>0</th>\n",
       "      <td>6.0</td>\n",
       "      <td>0.301241</td>\n",
       "      <td>0.795194</td>\n",
       "      <td>0.283610</td>\n",
       "      <td>0.513333</td>\n",
       "      <td>0.659819</td>\n",
       "    </tr>\n",
       "    <tr>\n",
       "      <th>0</th>\n",
       "      <td>7.0</td>\n",
       "      <td>0.262318</td>\n",
       "      <td>0.793036</td>\n",
       "      <td>0.273305</td>\n",
       "      <td>0.430000</td>\n",
       "      <td>0.671024</td>\n",
       "    </tr>\n",
       "    <tr>\n",
       "      <th>0</th>\n",
       "      <td>8.0</td>\n",
       "      <td>0.289671</td>\n",
       "      <td>0.792049</td>\n",
       "      <td>0.269737</td>\n",
       "      <td>0.546667</td>\n",
       "      <td>0.646840</td>\n",
       "    </tr>\n",
       "  </tbody>\n",
       "</table>\n",
       "</div>"
      ],
      "text/plain": [
       "   seeds      aupr       auc  precision    recall    thresh\n",
       "0    0.0  0.347990  0.831899   0.000000  0.000000  0.968507\n",
       "0    1.0  0.316876  0.815375   0.344743  0.470000  0.714092\n",
       "0    2.0  0.349860  0.831317   0.342432  0.460000  0.722965\n",
       "0    3.0  0.286587  0.795761   0.000000  0.000000  0.926119\n",
       "0    4.0  0.329062  0.820346   0.306931  0.516667  0.661277\n",
       "0    5.0  0.340454  0.823143   0.340278  0.490000  0.734012\n",
       "0    6.0  0.301241  0.795194   0.283610  0.513333  0.659819\n",
       "0    7.0  0.262318  0.793036   0.273305  0.430000  0.671024\n",
       "0    8.0  0.289671  0.792049   0.269737  0.546667  0.646840"
      ]
     },
     "execution_count": 3,
     "metadata": {},
     "output_type": "execute_result"
    }
   ],
   "source": [
    "record"
   ]
  },
  {
   "cell_type": "code",
   "execution_count": 4,
   "id": "3b2dbb31-08ba-4023-92bd-ccff9fd52e95",
   "metadata": {},
   "outputs": [],
   "source": [
    "record = record.reset_index(drop=True)\n",
    "record.to_csv(\"../temp/repeats10dnnwc_macc.csv\", header = True, index =  True)"
   ]
  },
  {
   "cell_type": "code",
   "execution_count": 5,
   "id": "414f4074-f7d7-4af7-8087-2f3e3540a508",
   "metadata": {},
   "outputs": [
    {
     "name": "stdout",
     "output_type": "stream",
     "text": [
      "mean of aupr is 0.31378430052099343 with standard deviation 0.028969331630052792\n",
      "mean of auc is 0.8109021009313406 with standard deviation 0.015871970408137228\n",
      "mean of precision is 0.24011500135506506 with standard deviation 0.13127323274453\n",
      "mean of recall is 0.38074074074074077 with standard deviation 0.2060551153512435\n"
     ]
    }
   ],
   "source": [
    "print(\"mean of aupr is {} with standard deviation {}\".format(np.mean(record['aupr']), np.std(record['aupr'])))\n",
    "print(\"mean of auc is {} with standard deviation {}\".format(np.mean(record['auc']), np.std(record['auc'])))\n",
    "print(\"mean of precision is {} with standard deviation {}\".format(np.mean(record['precision']), np.std(record['precision'])))\n",
    "print(\"mean of recall is {} with standard deviation {}\".format(np.mean(record['recall']), np.std(record['recall'])))"
   ]
  },
  {
   "cell_type": "code",
   "execution_count": 6,
   "id": "f44451c0-d664-4c46-8bd3-3075b1fe10a7",
   "metadata": {},
   "outputs": [
    {
     "name": "stdout",
     "output_type": "stream",
     "text": [
      "mean of f1 is nan with standard deviation nan\n"
     ]
    },
    {
     "name": "stderr",
     "output_type": "stream",
     "text": [
      "C:\\Users\\Zhang Jun\\AppData\\Local\\Temp\\ipykernel_11584\\3843907394.py:1: RuntimeWarning: invalid value encountered in double_scalars\n",
      "  f1 = [(2*record['precision'][i]*record['recall'][i] / (record['precision'][i] + record['recall'][i])) for i in range(record.shape[0])]\n"
     ]
    }
   ],
   "source": [
    "f1 = [(2*record['precision'][i]*record['recall'][i] / (record['precision'][i] + record['recall'][i])) for i in range(record.shape[0])]\n",
    "print(\"mean of f1 is {} with standard deviation {}\".format(np.mean(f1), np.std(f1)))"
   ]
  }
 ],
 "metadata": {
  "kernelspec": {
   "display_name": "Python 3 (ipykernel)",
   "language": "python",
   "name": "python3"
  },
  "language_info": {
   "codemirror_mode": {
    "name": "ipython",
    "version": 3
   },
   "file_extension": ".py",
   "mimetype": "text/x-python",
   "name": "python",
   "nbconvert_exporter": "python",
   "pygments_lexer": "ipython3",
   "version": "3.9.7"
  }
 },
 "nbformat": 4,
 "nbformat_minor": 5
}
