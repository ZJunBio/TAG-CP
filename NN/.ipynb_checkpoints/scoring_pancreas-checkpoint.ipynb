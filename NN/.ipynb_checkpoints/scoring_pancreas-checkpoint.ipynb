{
 "cells": [
  {
   "cell_type": "code",
   "execution_count": 1,
   "id": "8bd78847-f79c-4df7-96f4-d15925f7bb37",
   "metadata": {},
   "outputs": [
    {
     "name": "stderr",
     "output_type": "stream",
     "text": [
      "2023-08-15 10:54:53.821131: W tensorflow/stream_executor/platform/default/dso_loader.cc:64] Could not load dynamic library 'libcudart.so.11.0'; dlerror: libcudart.so.11.0: cannot open shared object file: No such file or directory\n",
      "2023-08-15 10:54:53.821175: I tensorflow/stream_executor/cuda/cudart_stub.cc:29] Ignore above cudart dlerror if you do not have a GPU set up on your machine.\n"
     ]
    }
   ],
   "source": [
    "from tensorflow import keras\n",
    "from sklearn import metrics, preprocessing\n",
    "import pandas as pd\n",
    "import numpy as np\n",
    "import utils_rf"
   ]
  },
  {
   "cell_type": "code",
   "execution_count": 2,
   "id": "7992e930-9977-4b5f-aa48-8507303a59bc",
   "metadata": {},
   "outputs": [
    {
     "name": "stderr",
     "output_type": "stream",
     "text": [
      "2023-08-15 10:54:55.478521: W tensorflow/stream_executor/platform/default/dso_loader.cc:64] Could not load dynamic library 'libcuda.so.1'; dlerror: libcuda.so.1: cannot open shared object file: No such file or directory\n",
      "2023-08-15 10:54:55.478552: W tensorflow/stream_executor/cuda/cuda_driver.cc:269] failed call to cuInit: UNKNOWN ERROR (303)\n",
      "2023-08-15 10:54:55.478570: I tensorflow/stream_executor/cuda/cuda_diagnostics.cc:156] kernel driver does not appear to be running on this host (618849): /proc/driver/nvidia/version does not exist\n",
      "2023-08-15 10:54:55.478852: I tensorflow/core/platform/cpu_feature_guard.cc:151] This TensorFlow binary is optimized with oneAPI Deep Neural Network Library (oneDNN) to use the following CPU instructions in performance-critical operations:  AVX2 AVX512F FMA\n",
      "To enable them in other operations, rebuild TensorFlow with the appropriate compiler flags.\n"
     ]
    },
    {
     "name": "stdout",
     "output_type": "stream",
     "text": [
      "Shape of prediction: (782,)\n",
      "[0.9906926  0.91804534 0.7859622  0.95867467]\n",
      "Shape of prediction: (782,)\n",
      "[0.9902448  0.85033643 0.98002315 0.15695643]\n",
      "Shape of prediction: (782,)\n",
      "[0.9962448  0.04866403 0.17463446 0.95469   ]\n",
      "Shape of prediction: (782,)\n",
      "[0.9984275  0.83514476 0.94911474 0.9238926 ]\n",
      "Shape of prediction: (782,)\n",
      "[0.979936   0.9666414  0.7858122  0.74602324]\n",
      "Shape of prediction: (782,)\n",
      "[0.9926363  0.84799266 0.95030427 0.9423313 ]\n"
     ]
    },
    {
     "name": "stderr",
     "output_type": "stream",
     "text": [
      "/home/zhangjun/python_work/Interpretation_DDC/NN/utils_rf.py:150: RuntimeWarning: invalid value encountered in divide\n",
      "  f1_score = np.divide((2 * np.multiply(precision, recall)),  (precision + recall))\n"
     ]
    },
    {
     "name": "stdout",
     "output_type": "stream",
     "text": [
      "Shape of prediction: (782,)\n",
      "[0.9856037 0.726802  0.8622003 0.8374708]\n",
      "Shape of prediction: (782,)\n",
      "[0.9340964  0.7206915  0.80325866 0.90539163]\n",
      "Shape of prediction: (782,)\n",
      "[0.9963506  0.6300816  0.89797395 0.942376  ]\n"
     ]
    }
   ],
   "source": [
    "test = preprocessing.normalize(np.load(\"../data/datasets/pancreas_test_tensor_csigma005.npy\", allow_pickle=True))\n",
    "test_lab = np.load(\"../data/datasets/pancreas_test_label_csima005.npy\", allow_pickle=True)\n",
    "record = pd.DataFrame({'seeds':[], 'aupr':[], 'auc':[], 'precision':[], 'recall': [], 'thresh':[]})\n",
    "seeds = list(range(9))\n",
    "for i, seeding in enumerate(seeds):\n",
    "    \n",
    "    model = keras.models.load_model(\"../models/Pancreas_BNrelu256be_3SGDes15wc\"+ str(seeding) +\"Fold.h5\")\n",
    "    y_pred = model.predict(test)\n",
    "    y_pred = y_pred.reshape((y_pred.shape[0],))\n",
    "    print(\"Shape of prediction:\", y_pred.shape)\n",
    "    print(y_pred[0:4])\n",
    "    \n",
    "    precision, recall, thresholds = metrics.precision_recall_curve(test_lab, y_pred)\n",
    "    fpr, tpr, thresholds_r = metrics.roc_curve(test_lab, y_pred)\n",
    "    pr = np.array([precision, recall]).T\n",
    "    fp = np.array([fpr, tpr]).T\n",
    "    utils_rf.mat2csv(pr, [\"precision\", \"recall\"], \"../temp/pr_dnnwc_pancreas\"+str(seeding)+\"Fold.csv\")\n",
    "    utils_rf.mat2csv(fp, [\"fpr\", \"tpr\"], \"../temp/fp_dnnwc_pancreas\"+str(seeding)+\".csv\")\n",
    "    f1_score, threshold_b, precision_b, recall_b = utils_rf.f1_score_best(precision, recall, thresholds) \n",
    "    \n",
    "    auc_score = metrics.auc(fpr, tpr)\n",
    "    aupr = metrics.auc(recall, precision)\n",
    "    #preserved precision and recall are recording under best f1 score\n",
    "    record = pd.concat([record, pd.DataFrame([[seeding, aupr, auc_score, precision_b, recall_b, threshold_b]], \n",
    "                                             columns= ['seeds', 'aupr', 'auc', 'precision', 'recall', 'thresh'])])\n"
   ]
  },
  {
   "cell_type": "code",
   "execution_count": 3,
   "id": "7464dd55-a595-4c3b-93a7-d381958ec6b6",
   "metadata": {},
   "outputs": [
    {
     "data": {
      "text/html": [
       "<div>\n",
       "<style scoped>\n",
       "    .dataframe tbody tr th:only-of-type {\n",
       "        vertical-align: middle;\n",
       "    }\n",
       "\n",
       "    .dataframe tbody tr th {\n",
       "        vertical-align: top;\n",
       "    }\n",
       "\n",
       "    .dataframe thead th {\n",
       "        text-align: right;\n",
       "    }\n",
       "</style>\n",
       "<table border=\"1\" class=\"dataframe\">\n",
       "  <thead>\n",
       "    <tr style=\"text-align: right;\">\n",
       "      <th></th>\n",
       "      <th>seeds</th>\n",
       "      <th>aupr</th>\n",
       "      <th>auc</th>\n",
       "      <th>precision</th>\n",
       "      <th>recall</th>\n",
       "      <th>thresh</th>\n",
       "    </tr>\n",
       "  </thead>\n",
       "  <tbody>\n",
       "    <tr>\n",
       "      <th>0</th>\n",
       "      <td>0.0</td>\n",
       "      <td>0.805369</td>\n",
       "      <td>0.944094</td>\n",
       "      <td>0.780488</td>\n",
       "      <td>0.771084</td>\n",
       "      <td>0.886160</td>\n",
       "    </tr>\n",
       "    <tr>\n",
       "      <th>0</th>\n",
       "      <td>1.0</td>\n",
       "      <td>0.760039</td>\n",
       "      <td>0.953988</td>\n",
       "      <td>0.746988</td>\n",
       "      <td>0.746988</td>\n",
       "      <td>0.827695</td>\n",
       "    </tr>\n",
       "    <tr>\n",
       "      <th>0</th>\n",
       "      <td>2.0</td>\n",
       "      <td>0.777104</td>\n",
       "      <td>0.965329</td>\n",
       "      <td>0.736264</td>\n",
       "      <td>0.807229</td>\n",
       "      <td>0.888322</td>\n",
       "    </tr>\n",
       "    <tr>\n",
       "      <th>0</th>\n",
       "      <td>3.0</td>\n",
       "      <td>0.783806</td>\n",
       "      <td>0.952471</td>\n",
       "      <td>0.672727</td>\n",
       "      <td>0.891566</td>\n",
       "      <td>0.789011</td>\n",
       "    </tr>\n",
       "    <tr>\n",
       "      <th>0</th>\n",
       "      <td>4.0</td>\n",
       "      <td>0.789724</td>\n",
       "      <td>0.941991</td>\n",
       "      <td>0.738636</td>\n",
       "      <td>0.783133</td>\n",
       "      <td>0.746023</td>\n",
       "    </tr>\n",
       "    <tr>\n",
       "      <th>0</th>\n",
       "      <td>5.0</td>\n",
       "      <td>0.747047</td>\n",
       "      <td>0.948300</td>\n",
       "      <td>0.000000</td>\n",
       "      <td>0.000000</td>\n",
       "      <td>0.998108</td>\n",
       "    </tr>\n",
       "    <tr>\n",
       "      <th>0</th>\n",
       "      <td>6.0</td>\n",
       "      <td>0.789063</td>\n",
       "      <td>0.969104</td>\n",
       "      <td>0.700935</td>\n",
       "      <td>0.903614</td>\n",
       "      <td>0.751648</td>\n",
       "    </tr>\n",
       "    <tr>\n",
       "      <th>0</th>\n",
       "      <td>7.0</td>\n",
       "      <td>0.726525</td>\n",
       "      <td>0.941629</td>\n",
       "      <td>0.636364</td>\n",
       "      <td>0.759036</td>\n",
       "      <td>0.783366</td>\n",
       "    </tr>\n",
       "    <tr>\n",
       "      <th>0</th>\n",
       "      <td>8.0</td>\n",
       "      <td>0.774221</td>\n",
       "      <td>0.955901</td>\n",
       "      <td>0.702128</td>\n",
       "      <td>0.795181</td>\n",
       "      <td>0.852499</td>\n",
       "    </tr>\n",
       "  </tbody>\n",
       "</table>\n",
       "</div>"
      ],
      "text/plain": [
       "   seeds      aupr       auc  precision    recall    thresh\n",
       "0    0.0  0.805369  0.944094   0.780488  0.771084  0.886160\n",
       "0    1.0  0.760039  0.953988   0.746988  0.746988  0.827695\n",
       "0    2.0  0.777104  0.965329   0.736264  0.807229  0.888322\n",
       "0    3.0  0.783806  0.952471   0.672727  0.891566  0.789011\n",
       "0    4.0  0.789724  0.941991   0.738636  0.783133  0.746023\n",
       "0    5.0  0.747047  0.948300   0.000000  0.000000  0.998108\n",
       "0    6.0  0.789063  0.969104   0.700935  0.903614  0.751648\n",
       "0    7.0  0.726525  0.941629   0.636364  0.759036  0.783366\n",
       "0    8.0  0.774221  0.955901   0.702128  0.795181  0.852499"
      ]
     },
     "execution_count": 3,
     "metadata": {},
     "output_type": "execute_result"
    }
   ],
   "source": [
    "record"
   ]
  },
  {
   "cell_type": "code",
   "execution_count": 4,
   "id": "3b2dbb31-08ba-4023-92bd-ccff9fd52e95",
   "metadata": {},
   "outputs": [],
   "source": [
    "record = record.reset_index(drop=True)\n",
    "record.to_csv(\"../temp/pancreas_repeats10dnnwc.csv\", header = True, index =  True)"
   ]
  },
  {
   "cell_type": "code",
   "execution_count": 5,
   "id": "414f4074-f7d7-4af7-8087-2f3e3540a508",
   "metadata": {},
   "outputs": [
    {
     "name": "stdout",
     "output_type": "stream",
     "text": [
      "mean of aupr is 0.7725442582855937 with standard deviation 0.0229010902711145\n",
      "mean of auc is 0.9525340273827785 with standard deviation 0.009255388827956271\n",
      "mean of precision is 0.6349476671877786 with standard deviation 0.228085392458592\n",
      "mean of recall is 0.7175368139223561 with standard deviation 0.2589730075361445\n"
     ]
    }
   ],
   "source": [
    "print(\"mean of aupr is {} with standard deviation {}\".format(np.mean(record['aupr']), np.std(record['aupr'])))\n",
    "print(\"mean of auc is {} with standard deviation {}\".format(np.mean(record['auc']), np.std(record['auc'])))\n",
    "print(\"mean of precision is {} with standard deviation {}\".format(np.mean(record['precision']), np.std(record['precision'])))\n",
    "print(\"mean of recall is {} with standard deviation {}\".format(np.mean(record['recall']), np.std(record['recall'])))"
   ]
  }
 ],
 "metadata": {
  "kernelspec": {
   "display_name": "Python 3 (ipykernel)",
   "language": "python",
   "name": "python3"
  },
  "language_info": {
   "codemirror_mode": {
    "name": "ipython",
    "version": 3
   },
   "file_extension": ".py",
   "mimetype": "text/x-python",
   "name": "python",
   "nbconvert_exporter": "python",
   "pygments_lexer": "ipython3",
   "version": "3.9.0"
  }
 },
 "nbformat": 4,
 "nbformat_minor": 5
}
