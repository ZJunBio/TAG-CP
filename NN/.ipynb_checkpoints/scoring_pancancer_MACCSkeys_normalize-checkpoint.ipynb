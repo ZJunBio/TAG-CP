{
 "cells": [
  {
   "cell_type": "code",
   "execution_count": 1,
   "id": "8bd78847-f79c-4df7-96f4-d15925f7bb37",
   "metadata": {},
   "outputs": [],
   "source": [
    "from tensorflow import keras\n",
    "from sklearn import metrics, preprocessing\n",
    "import pandas as pd\n",
    "import numpy as np\n",
    "import utils_rf"
   ]
  },
  {
   "cell_type": "code",
   "execution_count": 2,
   "id": "7992e930-9977-4b5f-aa48-8507303a59bc",
   "metadata": {},
   "outputs": [
    {
     "name": "stdout",
     "output_type": "stream",
     "text": [
      "Shape of prediction: (3720,)\n",
      "[0.7878803 0.9560283 0.9281739 0.5790106]\n",
      "Shape of prediction: (3720,)\n",
      "[0.8397676  0.9421743  0.91542745 0.46646568]\n",
      "Shape of prediction: (3720,)\n",
      "[0.80788624 0.959509   0.90202355 0.5637671 ]\n",
      "Shape of prediction: (3720,)\n",
      "[0.86692727 0.9191947  0.76818967 0.47370705]\n"
     ]
    },
    {
     "name": "stderr",
     "output_type": "stream",
     "text": [
      "D:\\python_work\\Interpretation_DDC\\NN\\utils_rf.py:150: RuntimeWarning: invalid value encountered in divide\n",
      "  f1_score = np.divide((2 * np.multiply(precision, recall)),  (precision + recall))\n"
     ]
    },
    {
     "name": "stdout",
     "output_type": "stream",
     "text": [
      "Shape of prediction: (3720,)\n",
      "[0.88518566 0.95057374 0.8755905  0.46728146]\n",
      "Shape of prediction: (3720,)\n",
      "[0.8401141  0.958803   0.8850621  0.49491453]\n",
      "Shape of prediction: (3720,)\n",
      "[0.8530371  0.940758   0.8650191  0.36548007]\n",
      "Shape of prediction: (3720,)\n",
      "[0.81777894 0.93787825 0.795758   0.4932879 ]\n",
      "Shape of prediction: (3720,)\n",
      "[0.8356953  0.9355887  0.82596964 0.46536422]\n"
     ]
    }
   ],
   "source": [
    "test = preprocessing.normalize(np.load(\"../data/datasets/test_tensor_csigma005_macc.npy\", allow_pickle=True))\n",
    "test_lab = np.load(\"../data/datasets/test_label_csima005_macc.npy\", allow_pickle=True)\n",
    "record = pd.DataFrame({'seeds':[], 'aupr':[], 'auc':[], 'precision':[], 'recall': [], 'thresh':[]})\n",
    "seeds = list(range(9))\n",
    "for i, seeding in enumerate(seeds):\n",
    "    \n",
    "    model = keras.models.load_model(\"../models/DNN/MACCSKeysBNrelu256be_3SGDes15wc_normalize\"+ str(seeding) +\"Fold.h5\")\n",
    "    y_pred = model.predict(test)\n",
    "    y_pred = y_pred.reshape((y_pred.shape[0],))\n",
    "    print(\"Shape of prediction:\", y_pred.shape)\n",
    "    print(y_pred[0:4])\n",
    "    \n",
    "    precision, recall, thresholds = metrics.precision_recall_curve(test_lab, y_pred)\n",
    "    fpr, tpr, thresholds_r = metrics.roc_curve(test_lab, y_pred)\n",
    "    pr = np.array([precision, recall]).T\n",
    "    fp = np.array([fpr, tpr]).T\n",
    "    utils_rf.mat2csv(pr, [\"precision\", \"recall\"], \"../temp/pr_dnnwc_macc_normalize\"+str(seeding)+\"Fold.csv\")\n",
    "    utils_rf.mat2csv(fp, [\"fpr\", \"tpr\"], \"../temp/fp_dnnwc_macc_normalize\"+str(seeding)+\".csv\")\n",
    "    f1_score, threshold_b, precision_b, recall_b = utils_rf.f1_score_best(precision, recall, thresholds) \n",
    "    \n",
    "    auc_score = metrics.auc(fpr, tpr)\n",
    "    aupr = metrics.auc(recall, precision)\n",
    "    #preserved precision and recall are recording under best f1 score\n",
    "    record = pd.concat([record, pd.DataFrame([[seeding, aupr, auc_score, precision_b, recall_b, threshold_b]], \n",
    "                                             columns= ['seeds', 'aupr', 'auc', 'precision', 'recall', 'thresh'])])\n"
   ]
  },
  {
   "cell_type": "code",
   "execution_count": 3,
   "id": "7464dd55-a595-4c3b-93a7-d381958ec6b6",
   "metadata": {},
   "outputs": [
    {
     "data": {
      "text/html": [
       "<div>\n",
       "<style scoped>\n",
       "    .dataframe tbody tr th:only-of-type {\n",
       "        vertical-align: middle;\n",
       "    }\n",
       "\n",
       "    .dataframe tbody tr th {\n",
       "        vertical-align: top;\n",
       "    }\n",
       "\n",
       "    .dataframe thead th {\n",
       "        text-align: right;\n",
       "    }\n",
       "</style>\n",
       "<table border=\"1\" class=\"dataframe\">\n",
       "  <thead>\n",
       "    <tr style=\"text-align: right;\">\n",
       "      <th></th>\n",
       "      <th>seeds</th>\n",
       "      <th>aupr</th>\n",
       "      <th>auc</th>\n",
       "      <th>precision</th>\n",
       "      <th>recall</th>\n",
       "      <th>thresh</th>\n",
       "    </tr>\n",
       "  </thead>\n",
       "  <tbody>\n",
       "    <tr>\n",
       "      <th>0</th>\n",
       "      <td>0.0</td>\n",
       "      <td>0.346826</td>\n",
       "      <td>0.832269</td>\n",
       "      <td>0.329621</td>\n",
       "      <td>0.493333</td>\n",
       "      <td>0.698861</td>\n",
       "    </tr>\n",
       "    <tr>\n",
       "      <th>0</th>\n",
       "      <td>1.0</td>\n",
       "      <td>0.319758</td>\n",
       "      <td>0.814358</td>\n",
       "      <td>0.332613</td>\n",
       "      <td>0.513333</td>\n",
       "      <td>0.693089</td>\n",
       "    </tr>\n",
       "    <tr>\n",
       "      <th>0</th>\n",
       "      <td>2.0</td>\n",
       "      <td>0.364445</td>\n",
       "      <td>0.835053</td>\n",
       "      <td>0.322709</td>\n",
       "      <td>0.540000</td>\n",
       "      <td>0.687438</td>\n",
       "    </tr>\n",
       "    <tr>\n",
       "      <th>0</th>\n",
       "      <td>3.0</td>\n",
       "      <td>0.285505</td>\n",
       "      <td>0.795493</td>\n",
       "      <td>0.000000</td>\n",
       "      <td>0.000000</td>\n",
       "      <td>0.924083</td>\n",
       "    </tr>\n",
       "    <tr>\n",
       "      <th>0</th>\n",
       "      <td>4.0</td>\n",
       "      <td>0.320119</td>\n",
       "      <td>0.813288</td>\n",
       "      <td>0.315789</td>\n",
       "      <td>0.480000</td>\n",
       "      <td>0.686281</td>\n",
       "    </tr>\n",
       "    <tr>\n",
       "      <th>0</th>\n",
       "      <td>5.0</td>\n",
       "      <td>0.341868</td>\n",
       "      <td>0.823370</td>\n",
       "      <td>0.340528</td>\n",
       "      <td>0.473333</td>\n",
       "      <td>0.736063</td>\n",
       "    </tr>\n",
       "    <tr>\n",
       "      <th>0</th>\n",
       "      <td>6.0</td>\n",
       "      <td>0.298728</td>\n",
       "      <td>0.795069</td>\n",
       "      <td>0.280510</td>\n",
       "      <td>0.513333</td>\n",
       "      <td>0.656332</td>\n",
       "    </tr>\n",
       "    <tr>\n",
       "      <th>0</th>\n",
       "      <td>7.0</td>\n",
       "      <td>0.263277</td>\n",
       "      <td>0.793318</td>\n",
       "      <td>0.268839</td>\n",
       "      <td>0.440000</td>\n",
       "      <td>0.661617</td>\n",
       "    </tr>\n",
       "    <tr>\n",
       "      <th>0</th>\n",
       "      <td>8.0</td>\n",
       "      <td>0.291590</td>\n",
       "      <td>0.792411</td>\n",
       "      <td>0.268534</td>\n",
       "      <td>0.543333</td>\n",
       "      <td>0.646751</td>\n",
       "    </tr>\n",
       "  </tbody>\n",
       "</table>\n",
       "</div>"
      ],
      "text/plain": [
       "   seeds      aupr       auc  precision    recall    thresh\n",
       "0    0.0  0.346826  0.832269   0.329621  0.493333  0.698861\n",
       "0    1.0  0.319758  0.814358   0.332613  0.513333  0.693089\n",
       "0    2.0  0.364445  0.835053   0.322709  0.540000  0.687438\n",
       "0    3.0  0.285505  0.795493   0.000000  0.000000  0.924083\n",
       "0    4.0  0.320119  0.813288   0.315789  0.480000  0.686281\n",
       "0    5.0  0.341868  0.823370   0.340528  0.473333  0.736063\n",
       "0    6.0  0.298728  0.795069   0.280510  0.513333  0.656332\n",
       "0    7.0  0.263277  0.793318   0.268839  0.440000  0.661617\n",
       "0    8.0  0.291590  0.792411   0.268534  0.543333  0.646751"
      ]
     },
     "execution_count": 3,
     "metadata": {},
     "output_type": "execute_result"
    }
   ],
   "source": [
    "record"
   ]
  },
  {
   "cell_type": "code",
   "execution_count": 4,
   "id": "3b2dbb31-08ba-4023-92bd-ccff9fd52e95",
   "metadata": {},
   "outputs": [],
   "source": [
    "record = record.reset_index(drop=True)\n",
    "record.to_csv(\"../temp/repeats10dnnwc_macc_normalize.csv\", header = True, index =  True)"
   ]
  },
  {
   "cell_type": "code",
   "execution_count": 5,
   "id": "414f4074-f7d7-4af7-8087-2f3e3540a508",
   "metadata": {},
   "outputs": [
    {
     "name": "stdout",
     "output_type": "stream",
     "text": [
      "mean of aupr is 0.31467957507623984 with standard deviation 0.030886132051802795\n",
      "mean of auc is 0.8105143491444662 with standard deviation 0.016161671622952845\n",
      "mean of precision is 0.2732382090533893 with standard deviation 0.10013535330453797\n",
      "mean of recall is 0.44407407407407407 with standard deviation 0.16001371683315135\n"
     ]
    }
   ],
   "source": [
    "print(\"mean of aupr is {} with standard deviation {}\".format(np.mean(record['aupr']), np.std(record['aupr'])))\n",
    "print(\"mean of auc is {} with standard deviation {}\".format(np.mean(record['auc']), np.std(record['auc'])))\n",
    "print(\"mean of precision is {} with standard deviation {}\".format(np.mean(record['precision']), np.std(record['precision'])))\n",
    "print(\"mean of recall is {} with standard deviation {}\".format(np.mean(record['recall']), np.std(record['recall'])))"
   ]
  }
 ],
 "metadata": {
  "kernelspec": {
   "display_name": "Python 3 (ipykernel)",
   "language": "python",
   "name": "python3"
  },
  "language_info": {
   "codemirror_mode": {
    "name": "ipython",
    "version": 3
   },
   "file_extension": ".py",
   "mimetype": "text/x-python",
   "name": "python",
   "nbconvert_exporter": "python",
   "pygments_lexer": "ipython3",
   "version": "3.9.7"
  }
 },
 "nbformat": 4,
 "nbformat_minor": 5
}
