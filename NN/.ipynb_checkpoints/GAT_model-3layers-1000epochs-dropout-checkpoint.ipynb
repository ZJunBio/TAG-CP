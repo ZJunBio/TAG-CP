{
 "cells": [
  {
   "cell_type": "code",
   "execution_count": 1,
   "id": "c3857ed1-41a0-458e-814c-94a4d5ad7560",
   "metadata": {},
   "outputs": [],
   "source": [
    "import sys\n",
    "sys.path.append(\"../data_preprocess/\")\n",
    "from dataset_copy_optimize_label import *\n",
    "from sklearn.metrics import accuracy_score\n",
    "import torch.nn.functional as F\n",
    "from torch_geometric.nn import GATConv\n",
    "from torch.nn import Linear, Dropout\n",
    "args = (\"../data/one_graph/network_file_0self.csv\", \"../data/jaaks_druginfo_ttid.csv\")    \n",
    "data = process_data(args) "
   ]
  },
  {
   "cell_type": "markdown",
   "id": "5386cd3b-a6b3-470b-bcb6-fff2491dc58a",
   "metadata": {
    "tags": []
   },
   "source": [
    "Create Network\n",
    "--------------"
   ]
  },
  {
   "cell_type": "code",
   "execution_count": 2,
   "id": "97cd8995-ae7d-447b-9333-9b75106a1077",
   "metadata": {},
   "outputs": [],
   "source": [
    "att_dim = 256\n",
    "att_dim2 = 128\n",
    "att_dim3 = 64\n",
    "lin_dim = 64\n",
    "lin_dim2 = 42\n",
    "input_dim = data.num_node_features\n",
    "output_dim = data.y.shape[1]\n",
    "setup_seed(2023)"
   ]
  },
  {
   "cell_type": "code",
   "execution_count": 3,
   "id": "a0d7b621-6d2c-4e26-9e4f-c3ffb4f11149",
   "metadata": {},
   "outputs": [],
   "source": [
    "class GAT(torch.nn.Module):\n",
    "    def __init__(self, input_dim, output_dim, att_dim, att_dim2, att_dim3, lin_dim):\n",
    "        super().__init__()\n",
    "        self.conv1 = GATConv(in_channels = input_dim, out_channels = att_dim)\n",
    "        self.conv2 = GATConv(in_channels = att_dim, out_channels = att_dim2)\n",
    "        self.conv3 = GATConv(in_channels = att_dim2, out_channels = att_dim3)\n",
    "        self.linear1 = Linear(att_dim3, lin_dim)\n",
    "        self.linear2 = Linear(lin_dim, output_dim)\n",
    "        self.dropout = Dropout(p = 0.2)\n",
    "        \n",
    "\n",
    "    def forward(self, data):\n",
    "        x, edge_index = data.x, data.edge_index\n",
    "\n",
    "        x = self.conv1(x, edge_index)\n",
    "        x = F.relu(x)\n",
    "        x = self.dropout(x)\n",
    "        x = self.conv2(x, edge_index)\n",
    "        x = F.relu(x)\n",
    "        x = self.dropout(x)\n",
    "        x = self.conv3(x, edge_index)\n",
    "        x = F.relu(x)\n",
    "        x = self.dropout(x)\n",
    "        x = self.linear1(x)\n",
    "        x = F.relu(x)\n",
    "        #x = self.dropout(x)\n",
    "        x = self.linear2(x)\n",
    "        out = torch.sigmoid(x)\n",
    "        \n",
    "\n",
    "        return x, out"
   ]
  },
  {
   "cell_type": "markdown",
   "id": "ae6e74ea-6f96-4b06-aadf-9bab7726784f",
   "metadata": {
    "tags": []
   },
   "source": [
    "Instantiate model\n",
    "-----------------"
   ]
  },
  {
   "cell_type": "code",
   "execution_count": 4,
   "id": "f60aaec8-2924-43f8-9938-ff4a637ad82b",
   "metadata": {},
   "outputs": [],
   "source": [
    "device = torch.device('cuda' if torch.cuda.is_available() else 'cpu')\n",
    "model = GAT(input_dim, output_dim, att_dim, att_dim2, att_dim3, lin_dim).to(device)\n",
    "data = data.to(device)\n",
    "optimizer = torch.optim.Adam(model.parameters(), lr=0.001, weight_decay=5e-4)"
   ]
  },
  {
   "cell_type": "markdown",
   "id": "2cb5a11c-5fb2-48f5-9727-1bf2341d1e89",
   "metadata": {
    "tags": []
   },
   "source": [
    "Train model\n",
    "-----------"
   ]
  },
  {
   "cell_type": "code",
   "execution_count": 5,
   "id": "7b1f786f-9a08-49e9-8de0-64f23a7939da",
   "metadata": {},
   "outputs": [],
   "source": [
    "def val_acc(model, data):\n",
    "    model.eval()\n",
    "    _, pred = model(data)\n",
    "    pred_label = np.zeros(data.y[data.val_mask].size())\n",
    "    pred = pred[data.val_mask].detach().numpy()\n",
    "    for i, v in enumerate(data.y[data.val_mask].detach().numpy()):\n",
    "        sum_ = int(v.sum())\n",
    "        if sum_ == 1:\n",
    "            l = np.argsort(pred[i])[-1]\n",
    "            pred_label[i, l] = 1\n",
    "        else:\n",
    "            l = np.argsort(pred[i])[-sum_:]\n",
    "            pred_label[i, l] = 1\n",
    "    acc = accuracy_score(pred_label, data.y[data.val_mask].detach().numpy())\n",
    "    \n",
    "    return acc"
   ]
  },
  {
   "cell_type": "code",
   "execution_count": 6,
   "id": "c5c49713-a8bd-46ed-9cff-e633e00c3251",
   "metadata": {},
   "outputs": [
    {
     "name": "stdout",
     "output_type": "stream",
     "text": [
      "Loss:0.6936154365539551, Validation Accuracy: 0.16176470588235295\n",
      "Loss:0.18355724215507507, Validation Accuracy: 0.007352941176470588\n",
      "Loss:0.12788723409175873, Validation Accuracy: 0.19852941176470587\n",
      "Loss:0.12087088823318481, Validation Accuracy: 0.19852941176470587\n",
      "Loss:0.11918891221284866, Validation Accuracy: 0.19852941176470587\n",
      "Loss:0.1171349436044693, Validation Accuracy: 0.19852941176470587\n",
      "Loss:0.10928761214017868, Validation Accuracy: 0.33088235294117646\n",
      "Loss:0.10143432766199112, Validation Accuracy: 0.3235294117647059\n",
      "Loss:0.09346438199281693, Validation Accuracy: 0.35294117647058826\n",
      "Loss:0.0851280465722084, Validation Accuracy: 0.4632352941176471\n",
      "Loss:0.0753903016448021, Validation Accuracy: 0.6911764705882353\n",
      "Loss:0.06621340662240982, Validation Accuracy: 0.6985294117647058\n",
      "Loss:0.059823229908943176, Validation Accuracy: 0.7426470588235294\n",
      "Loss:0.054764483124017715, Validation Accuracy: 0.7941176470588235\n",
      "Loss:0.04928821325302124, Validation Accuracy: 0.8308823529411765\n",
      "Loss:0.04475046694278717, Validation Accuracy: 0.8161764705882353\n",
      "Loss:0.0415925495326519, Validation Accuracy: 0.8455882352941176\n",
      "Loss:0.039762578904628754, Validation Accuracy: 0.8529411764705882\n",
      "Loss:0.037648409605026245, Validation Accuracy: 0.8602941176470589\n",
      "Loss:0.036376580595970154, Validation Accuracy: 0.8602941176470589\n",
      "Loss:0.034804243594408035, Validation Accuracy: 0.8529411764705882\n",
      "Loss:0.0340694896876812, Validation Accuracy: 0.8676470588235294\n",
      "Loss:0.03323695436120033, Validation Accuracy: 0.875\n",
      "Loss:0.031994570046663284, Validation Accuracy: 0.875\n",
      "Loss:0.031687524169683456, Validation Accuracy: 0.875\n",
      "Loss:0.03087218664586544, Validation Accuracy: 0.8823529411764706\n",
      "Loss:0.030519340187311172, Validation Accuracy: 0.8897058823529411\n",
      "Loss:0.029998065903782845, Validation Accuracy: 0.8970588235294118\n",
      "Loss:0.02972545474767685, Validation Accuracy: 0.8897058823529411\n",
      "Loss:0.029350098222494125, Validation Accuracy: 0.8970588235294118\n",
      "Loss:0.029500899836421013, Validation Accuracy: 0.8970588235294118\n",
      "Loss:0.028986884281039238, Validation Accuracy: 0.8970588235294118\n",
      "Loss:0.02877485379576683, Validation Accuracy: 0.8970588235294118\n",
      "Loss:0.028462596237659454, Validation Accuracy: 0.9044117647058824\n",
      "Loss:0.028285328298807144, Validation Accuracy: 0.8970588235294118\n",
      "Loss:0.028281597420573235, Validation Accuracy: 0.9044117647058824\n",
      "Loss:0.027773553505539894, Validation Accuracy: 0.9117647058823529\n",
      "Loss:0.027539337053894997, Validation Accuracy: 0.9117647058823529\n",
      "Loss:0.027284208685159683, Validation Accuracy: 0.9044117647058824\n",
      "Loss:0.027305589988827705, Validation Accuracy: 0.9117647058823529\n",
      "Loss:0.027104584500193596, Validation Accuracy: 0.9117647058823529\n",
      "Loss:0.026807913556694984, Validation Accuracy: 0.9044117647058824\n",
      "Loss:0.026834923774003983, Validation Accuracy: 0.9044117647058824\n",
      "Loss:0.02678169496357441, Validation Accuracy: 0.9044117647058824\n",
      "Loss:0.026399224996566772, Validation Accuracy: 0.9044117647058824\n",
      "Loss:0.02632775716483593, Validation Accuracy: 0.9044117647058824\n",
      "Loss:0.026244807988405228, Validation Accuracy: 0.9044117647058824\n",
      "Loss:0.026126505807042122, Validation Accuracy: 0.9117647058823529\n",
      "Loss:0.025918658822774887, Validation Accuracy: 0.9117647058823529\n",
      "Loss:0.025752710178494453, Validation Accuracy: 0.9044117647058824\n"
     ]
    }
   ],
   "source": [
    "model.train()\n",
    "loss_ = []\n",
    "acc_ = []\n",
    "for epoch in range(1000):\n",
    "    optimizer.zero_grad()\n",
    "    _, out = model(data)\n",
    "    loss = F.binary_cross_entropy(out[data.train_idx], data.y[data.train_idx])\n",
    "    loss.backward()\n",
    "    optimizer.step()\n",
    "    val = val_acc(model, data)\n",
    "    acc_.append(val)\n",
    "    loss_.append(loss)\n",
    "    if epoch % 20 == 0:\n",
    "        print(f'Loss:{loss}, Validation Accuracy: {val}')"
   ]
  },
  {
   "cell_type": "markdown",
   "id": "872a5e33-06b7-4128-8de1-40589195c7ce",
   "metadata": {
    "tags": []
   },
   "source": [
    "Evaluate accuracy\n",
    "-----------------"
   ]
  },
  {
   "cell_type": "code",
   "execution_count": 7,
   "id": "200d6af6-d68f-46da-ade7-83bddc5a93d7",
   "metadata": {},
   "outputs": [],
   "source": [
    "loss_ = [i.detach().numpy() for i in loss_]"
   ]
  },
  {
   "cell_type": "code",
   "execution_count": 8,
   "id": "5e37cc49-ab37-40d0-9469-91f7b265863b",
   "metadata": {},
   "outputs": [
    {
     "data": {
      "image/png": "[encoded data removed]",
      "text/plain": [
       "<Figure size 640x480 with 1 Axes>"
      ]
     },
     "metadata": {},
     "output_type": "display_data"
    }
   ],
   "source": [
    "import matplotlib as mpl\n",
    "import matplotlib.pyplot as plt\n",
    "\n",
    "fig, ax  = plt.subplots()\n",
    "ax.plot(list(range(len(loss_))), loss_)\n",
    "ax.plot(list(range(len(acc_))), acc_)\n",
    "ax.set_xlabel(\"Epochs\")\n",
    "ax.set_ylabel(\"Loss and Accuracy\")\n",
    "plt.show()"
   ]
  },
  {
   "cell_type": "code",
   "execution_count": 9,
   "id": "52295828-d4e1-4b17-8760-6d8c6f73de23",
   "metadata": {},
   "outputs": [],
   "source": [
    "model.eval()\n",
    "_, pred = model(data)\n",
    "pred_label = np.zeros(data.y[data.test_mask].size())\n",
    "pred = pred[data.test_mask].detach().numpy()\n",
    "for i, v in enumerate(data.y[data.test_mask].detach().numpy()):\n",
    "    sum_ = int(v.sum())\n",
    "    if sum_ == 1:\n",
    "        l = np.argsort(pred[i])[-1]\n",
    "        pred_label[i, l] = 1\n",
    "    else:\n",
    "        l = np.argsort(pred[i])[-sum_:]\n",
    "        pred_label[i, l] = 1\n",
    "acc = accuracy_score(pred_label, data.y[data.test_mask].detach().numpy())"
   ]
  },
  {
   "cell_type": "code",
   "execution_count": 10,
   "id": "39b68b18-1d41-4614-a809-4a7d1440093f",
   "metadata": {},
   "outputs": [
    {
     "name": "stdout",
     "output_type": "stream",
     "text": [
      "Accuracy: 0.8540145985401459\n"
     ]
    }
   ],
   "source": [
    "print(f'Accuracy: {acc}')"
   ]
  }
 ],
 "metadata": {
  "kernelspec": {
   "display_name": "Python 3 (ipykernel)",
   "language": "python",
   "name": "python3"
  },
  "language_info": {
   "codemirror_mode": {
    "name": "ipython",
    "version": 3
   },
   "file_extension": ".py",
   "mimetype": "text/x-python",
   "name": "python",
   "nbconvert_exporter": "python",
   "pygments_lexer": "ipython3",
   "version": "3.9.12"
  }
 },
 "nbformat": 4,
 "nbformat_minor": 5
}
