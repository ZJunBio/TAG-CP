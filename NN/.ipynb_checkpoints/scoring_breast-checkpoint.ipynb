{
 "cells": [
  {
   "cell_type": "code",
   "execution_count": 1,
   "id": "8bd78847-f79c-4df7-96f4-d15925f7bb37",
   "metadata": {},
   "outputs": [
    {
     "name": "stderr",
     "output_type": "stream",
     "text": [
      "2023-08-15 10:58:35.629445: W tensorflow/stream_executor/platform/default/dso_loader.cc:64] Could not load dynamic library 'libcudart.so.11.0'; dlerror: libcudart.so.11.0: cannot open shared object file: No such file or directory\n",
      "2023-08-15 10:58:35.629482: I tensorflow/stream_executor/cuda/cudart_stub.cc:29] Ignore above cudart dlerror if you do not have a GPU set up on your machine.\n"
     ]
    }
   ],
   "source": [
    "from tensorflow import keras\n",
    "from sklearn import metrics, preprocessing\n",
    "import pandas as pd\n",
    "import numpy as np\n",
    "import utils_rf"
   ]
  },
  {
   "cell_type": "code",
   "execution_count": 2,
   "id": "7992e930-9977-4b5f-aa48-8507303a59bc",
   "metadata": {},
   "outputs": [
    {
     "name": "stderr",
     "output_type": "stream",
     "text": [
      "2023-08-15 10:58:50.192536: W tensorflow/stream_executor/platform/default/dso_loader.cc:64] Could not load dynamic library 'libcuda.so.1'; dlerror: libcuda.so.1: cannot open shared object file: No such file or directory\n",
      "2023-08-15 10:58:50.192567: W tensorflow/stream_executor/cuda/cuda_driver.cc:269] failed call to cuInit: UNKNOWN ERROR (303)\n",
      "2023-08-15 10:58:50.192590: I tensorflow/stream_executor/cuda/cuda_diagnostics.cc:156] kernel driver does not appear to be running on this host (618849): /proc/driver/nvidia/version does not exist\n",
      "2023-08-15 10:58:50.192873: I tensorflow/core/platform/cpu_feature_guard.cc:151] This TensorFlow binary is optimized with oneAPI Deep Neural Network Library (oneDNN) to use the following CPU instructions in performance-critical operations:  AVX2 AVX512F FMA\n",
      "To enable them in other operations, rebuild TensorFlow with the appropriate compiler flags.\n"
     ]
    },
    {
     "name": "stdout",
     "output_type": "stream",
     "text": [
      "Shape of prediction: (2134,)\n",
      "[0.9935007 0.9484794 0.8508585 0.9598223]\n",
      "Shape of prediction: (2134,)\n",
      "[0.9839251  0.95160884 0.24672109 0.84561807]\n",
      "Shape of prediction: (2134,)\n",
      "[0.9722514 0.8705179 0.9720849 0.7478442]\n",
      "Shape of prediction: (2134,)\n",
      "[0.8989357 0.9328636 0.8464942 0.9627371]\n",
      "Shape of prediction: (2134,)\n",
      "[0.9036536 0.950699  0.8665532 0.5880606]\n",
      "Shape of prediction: (2134,)\n",
      "[0.94224364 0.95347285 0.8348394  0.9295535 ]\n",
      "Shape of prediction: (2134,)\n",
      "[0.612493   0.8534453  0.8294289  0.90835154]\n",
      "Shape of prediction: (2134,)\n",
      "[0.79835266 0.33730567 0.7637589  0.77351284]\n",
      "Shape of prediction: (2134,)\n",
      "[0.75100195 0.97528386 0.6416854  0.98232317]\n"
     ]
    }
   ],
   "source": [
    "test = preprocessing.normalize(np.load(\"../data/datasets/breast_test_tensor_csigma005.npy\", allow_pickle=True))\n",
    "test_lab = np.load(\"../data/datasets/breast_test_label_csima005.npy\", allow_pickle=True)\n",
    "record = pd.DataFrame({'seeds':[], 'aupr':[], 'auc':[], 'precision':[], 'recall': [], 'thresh':[]})\n",
    "seeds = list(range(9))\n",
    "for i, seeding in enumerate(seeds):\n",
    "    \n",
    "    model = keras.models.load_model(\"../models/Breast_BNrelu256be_3SGDes15wc\"+ str(seeding) +\"Fold.h5\")\n",
    "    y_pred = model.predict(test)\n",
    "    y_pred = y_pred.reshape((y_pred.shape[0],))\n",
    "    print(\"Shape of prediction:\", y_pred.shape)\n",
    "    print(y_pred[0:4])\n",
    "    \n",
    "    precision, recall, thresholds = metrics.precision_recall_curve(test_lab, y_pred)\n",
    "    fpr, tpr, thresholds_r = metrics.roc_curve(test_lab, y_pred)\n",
    "    pr = np.array([precision, recall]).T\n",
    "    fp = np.array([fpr, tpr]).T\n",
    "    utils_rf.mat2csv(pr, [\"precision\", \"recall\"], \"../temp/breast_pr_dnnwc\"+str(seeding)+\"Fold.csv\")\n",
    "    utils_rf.mat2csv(fp, [\"fpr\", \"tpr\"], \"../temp/breast_fp_dnnwc\"+str(seeding)+\".csv\")\n",
    "    f1_score, threshold_b, precision_b, recall_b = utils_rf.f1_score_best(precision, recall, thresholds) \n",
    "    \n",
    "    auc_score = metrics.auc(fpr, tpr)\n",
    "    aupr = metrics.auc(recall, precision)\n",
    "    #preserved precision and recall are recording under best f1 score\n",
    "    record = pd.concat([record, pd.DataFrame([[seeding, aupr, auc_score, precision_b, recall_b, threshold_b]], \n",
    "                                             columns= ['seeds', 'aupr', 'auc', 'precision', 'recall', 'thresh'])])\n"
   ]
  },
  {
   "cell_type": "code",
   "execution_count": 3,
   "id": "7464dd55-a595-4c3b-93a7-d381958ec6b6",
   "metadata": {},
   "outputs": [
    {
     "data": {
      "text/html": [
       "<div>\n",
       "<style scoped>\n",
       "    .dataframe tbody tr th:only-of-type {\n",
       "        vertical-align: middle;\n",
       "    }\n",
       "\n",
       "    .dataframe tbody tr th {\n",
       "        vertical-align: top;\n",
       "    }\n",
       "\n",
       "    .dataframe thead th {\n",
       "        text-align: right;\n",
       "    }\n",
       "</style>\n",
       "<table border=\"1\" class=\"dataframe\">\n",
       "  <thead>\n",
       "    <tr style=\"text-align: right;\">\n",
       "      <th></th>\n",
       "      <th>seeds</th>\n",
       "      <th>aupr</th>\n",
       "      <th>auc</th>\n",
       "      <th>precision</th>\n",
       "      <th>recall</th>\n",
       "      <th>thresh</th>\n",
       "    </tr>\n",
       "  </thead>\n",
       "  <tbody>\n",
       "    <tr>\n",
       "      <th>0</th>\n",
       "      <td>0.0</td>\n",
       "      <td>0.642558</td>\n",
       "      <td>0.922952</td>\n",
       "      <td>0.606936</td>\n",
       "      <td>0.724138</td>\n",
       "      <td>0.837792</td>\n",
       "    </tr>\n",
       "    <tr>\n",
       "      <th>0</th>\n",
       "      <td>1.0</td>\n",
       "      <td>0.596087</td>\n",
       "      <td>0.920521</td>\n",
       "      <td>0.576271</td>\n",
       "      <td>0.703448</td>\n",
       "      <td>0.811858</td>\n",
       "    </tr>\n",
       "    <tr>\n",
       "      <th>0</th>\n",
       "      <td>2.0</td>\n",
       "      <td>0.509168</td>\n",
       "      <td>0.916049</td>\n",
       "      <td>0.506787</td>\n",
       "      <td>0.772414</td>\n",
       "      <td>0.702371</td>\n",
       "    </tr>\n",
       "    <tr>\n",
       "      <th>0</th>\n",
       "      <td>3.0</td>\n",
       "      <td>0.514614</td>\n",
       "      <td>0.880831</td>\n",
       "      <td>0.500000</td>\n",
       "      <td>0.648276</td>\n",
       "      <td>0.747620</td>\n",
       "    </tr>\n",
       "    <tr>\n",
       "      <th>0</th>\n",
       "      <td>4.0</td>\n",
       "      <td>0.614675</td>\n",
       "      <td>0.927210</td>\n",
       "      <td>0.561497</td>\n",
       "      <td>0.724138</td>\n",
       "      <td>0.739221</td>\n",
       "    </tr>\n",
       "    <tr>\n",
       "      <th>0</th>\n",
       "      <td>5.0</td>\n",
       "      <td>0.690845</td>\n",
       "      <td>0.936575</td>\n",
       "      <td>0.634286</td>\n",
       "      <td>0.765517</td>\n",
       "      <td>0.721651</td>\n",
       "    </tr>\n",
       "    <tr>\n",
       "      <th>0</th>\n",
       "      <td>6.0</td>\n",
       "      <td>0.596232</td>\n",
       "      <td>0.907935</td>\n",
       "      <td>0.569832</td>\n",
       "      <td>0.703448</td>\n",
       "      <td>0.747151</td>\n",
       "    </tr>\n",
       "    <tr>\n",
       "      <th>0</th>\n",
       "      <td>7.0</td>\n",
       "      <td>0.457979</td>\n",
       "      <td>0.906174</td>\n",
       "      <td>0.520833</td>\n",
       "      <td>0.517241</td>\n",
       "      <td>0.687432</td>\n",
       "    </tr>\n",
       "    <tr>\n",
       "      <th>0</th>\n",
       "      <td>8.0</td>\n",
       "      <td>0.658711</td>\n",
       "      <td>0.920511</td>\n",
       "      <td>0.643750</td>\n",
       "      <td>0.710345</td>\n",
       "      <td>0.825435</td>\n",
       "    </tr>\n",
       "  </tbody>\n",
       "</table>\n",
       "</div>"
      ],
      "text/plain": [
       "   seeds      aupr       auc  precision    recall    thresh\n",
       "0    0.0  0.642558  0.922952   0.606936  0.724138  0.837792\n",
       "0    1.0  0.596087  0.920521   0.576271  0.703448  0.811858\n",
       "0    2.0  0.509168  0.916049   0.506787  0.772414  0.702371\n",
       "0    3.0  0.514614  0.880831   0.500000  0.648276  0.747620\n",
       "0    4.0  0.614675  0.927210   0.561497  0.724138  0.739221\n",
       "0    5.0  0.690845  0.936575   0.634286  0.765517  0.721651\n",
       "0    6.0  0.596232  0.907935   0.569832  0.703448  0.747151\n",
       "0    7.0  0.457979  0.906174   0.520833  0.517241  0.687432\n",
       "0    8.0  0.658711  0.920511   0.643750  0.710345  0.825435"
      ]
     },
     "execution_count": 3,
     "metadata": {},
     "output_type": "execute_result"
    }
   ],
   "source": [
    "record"
   ]
  },
  {
   "cell_type": "code",
   "execution_count": 4,
   "id": "3b2dbb31-08ba-4023-92bd-ccff9fd52e95",
   "metadata": {},
   "outputs": [],
   "source": [
    "record = record.reset_index(drop=True)\n",
    "record.to_csv(\"../temp/breast_repeats10dnnwc.csv\", header = True, index =  True)"
   ]
  },
  {
   "cell_type": "code",
   "execution_count": 5,
   "id": "414f4074-f7d7-4af7-8087-2f3e3540a508",
   "metadata": {},
   "outputs": [
    {
     "name": "stdout",
     "output_type": "stream",
     "text": [
      "mean of aupr is 0.5867633069093081 with standard deviation 0.07294593672019269\n",
      "mean of auc is 0.9154175551741474 with standard deviation 0.015031662491054877\n",
      "mean of precision is 0.5689104121110315 with standard deviation 0.04983325934841657\n",
      "mean of recall is 0.696551724137931 with standard deviation 0.07211212478785342\n"
     ]
    }
   ],
   "source": [
    "print(\"mean of aupr is {} with standard deviation {}\".format(np.mean(record['aupr']), np.std(record['aupr'])))\n",
    "print(\"mean of auc is {} with standard deviation {}\".format(np.mean(record['auc']), np.std(record['auc'])))\n",
    "print(\"mean of precision is {} with standard deviation {}\".format(np.mean(record['precision']), np.std(record['precision'])))\n",
    "print(\"mean of recall is {} with standard deviation {}\".format(np.mean(record['recall']), np.std(record['recall'])))"
   ]
  }
 ],
 "metadata": {
  "kernelspec": {
   "display_name": "Python 3 (ipykernel)",
   "language": "python",
   "name": "python3"
  },
  "language_info": {
   "codemirror_mode": {
    "name": "ipython",
    "version": 3
   },
   "file_extension": ".py",
   "mimetype": "text/x-python",
   "name": "python",
   "nbconvert_exporter": "python",
   "pygments_lexer": "ipython3",
   "version": "3.9.0"
  }
 },
 "nbformat": 4,
 "nbformat_minor": 5
}
