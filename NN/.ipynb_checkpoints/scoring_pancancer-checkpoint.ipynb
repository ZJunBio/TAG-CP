{
 "cells": [
  {
   "cell_type": "code",
   "execution_count": 1,
   "id": "8bd78847-f79c-4df7-96f4-d15925f7bb37",
   "metadata": {},
   "outputs": [],
   "source": [
    "from tensorflow import keras\n",
    "from sklearn import metrics, preprocessing\n",
    "import pandas as pd\n",
    "import numpy as np\n",
    "import utils_rf"
   ]
  },
  {
   "cell_type": "code",
   "execution_count": 2,
   "id": "7992e930-9977-4b5f-aa48-8507303a59bc",
   "metadata": {},
   "outputs": [
    {
     "name": "stdout",
     "output_type": "stream",
     "text": [
      "Shape of prediction: (1198,)\n",
      "[0.3501369  0.52496713 0.5736093  0.13319486]\n",
      "Shape of prediction: (1198,)\n",
      "[0.47990564 0.72089374 0.42521828 0.05204368]\n",
      "Shape of prediction: (1198,)\n",
      "[0.24269715 0.18040994 0.3997513  0.2349996 ]\n",
      "Shape of prediction: (1198,)\n",
      "[0.35031354 0.22871986 0.34458345 0.03276604]\n",
      "Shape of prediction: (1198,)\n",
      "[0.32955492 0.5310737  0.48373288 0.00776353]\n",
      "Shape of prediction: (1198,)\n",
      "[0.40701565 0.34693184 0.4822478  0.01892209]\n",
      "Shape of prediction: (1198,)\n",
      "[0.15505365 0.3353563  0.67837936 0.15168291]\n",
      "Shape of prediction: (1198,)\n",
      "[0.3127516  0.3581316  0.3429874  0.09968749]\n",
      "Shape of prediction: (1198,)\n",
      "[0.40203983 0.5884968  0.55008256 0.02577853]\n"
     ]
    }
   ],
   "source": [
    "test = preprocessing.normalize(np.load(\"../data/datasets/test_tensor_wc_csigma005.npy\", allow_pickle=True))\n",
    "test_lab = np.load(\"../data/datasets/test_label_wc_csima005.npy\", allow_pickle=True)\n",
    "record = pd.DataFrame({'seeds':[], 'aupr':[], 'auc':[], 'precision':[], 'recall': [], 'thresh':[]})\n",
    "seeds = list(range(9))\n",
    "for i, seeding in enumerate(seeds):\n",
    "    \n",
    "    model = keras.models.load_model(\"../models/DNN/BNrelu256be_3SGDes15\"+ str(seeding) +\"Fold.h5\")\n",
    "    y_pred = model.predict(test)\n",
    "    y_pred = y_pred.reshape((y_pred.shape[0],))\n",
    "    print(\"Shape of prediction:\", y_pred.shape)\n",
    "    print(y_pred[0:4])\n",
    "    \n",
    "    precision, recall, thresholds = metrics.precision_recall_curve(test_lab, y_pred)\n",
    "    fpr, tpr, thresholds_r = metrics.roc_curve(test_lab, y_pred)\n",
    "    pr = np.array([precision, recall]).T\n",
    "    fp = np.array([fpr, tpr]).T\n",
    "    utils_rf.mat2csv(pr, [\"precision\", \"recall\"], \"../temp/pr_dnnwc\"+str(seeding)+\"Fold.csv\")\n",
    "    utils_rf.mat2csv(fp, [\"fpr\", \"tpr\"], \"../temp/fp_dnnwc\"+str(seeding)+\".csv\")\n",
    "    f1_score, threshold_b, precision_b, recall_b = utils_rf.f1_score_best(precision, recall, thresholds) \n",
    "    \n",
    "    auc_score = metrics.auc(fpr, tpr)\n",
    "    aupr = metrics.auc(recall, precision)\n",
    "    #preserved precision and recall are recording under best f1 score\n",
    "    record = pd.concat([record, pd.DataFrame([[seeding, aupr, auc_score, precision_b, recall_b, threshold_b]], \n",
    "                                             columns= ['seeds', 'aupr', 'auc', 'precision', 'recall', 'thresh'])])\n"
   ]
  },
  {
   "cell_type": "code",
   "execution_count": 3,
   "id": "7464dd55-a595-4c3b-93a7-d381958ec6b6",
   "metadata": {},
   "outputs": [
    {
     "data": {
      "text/html": [
       "<div>\n",
       "<style scoped>\n",
       "    .dataframe tbody tr th:only-of-type {\n",
       "        vertical-align: middle;\n",
       "    }\n",
       "\n",
       "    .dataframe tbody tr th {\n",
       "        vertical-align: top;\n",
       "    }\n",
       "\n",
       "    .dataframe thead th {\n",
       "        text-align: right;\n",
       "    }\n",
       "</style>\n",
       "<table border=\"1\" class=\"dataframe\">\n",
       "  <thead>\n",
       "    <tr style=\"text-align: right;\">\n",
       "      <th></th>\n",
       "      <th>seeds</th>\n",
       "      <th>aupr</th>\n",
       "      <th>auc</th>\n",
       "      <th>precision</th>\n",
       "      <th>recall</th>\n",
       "      <th>thresh</th>\n",
       "    </tr>\n",
       "  </thead>\n",
       "  <tbody>\n",
       "    <tr>\n",
       "      <th>0</th>\n",
       "      <td>0.0</td>\n",
       "      <td>0.773266</td>\n",
       "      <td>0.901197</td>\n",
       "      <td>0.721154</td>\n",
       "      <td>0.750000</td>\n",
       "      <td>0.163156</td>\n",
       "    </tr>\n",
       "    <tr>\n",
       "      <th>0</th>\n",
       "      <td>1.0</td>\n",
       "      <td>0.809342</td>\n",
       "      <td>0.916364</td>\n",
       "      <td>0.749216</td>\n",
       "      <td>0.796667</td>\n",
       "      <td>0.148962</td>\n",
       "    </tr>\n",
       "    <tr>\n",
       "      <th>0</th>\n",
       "      <td>2.0</td>\n",
       "      <td>0.782023</td>\n",
       "      <td>0.911553</td>\n",
       "      <td>0.692958</td>\n",
       "      <td>0.820000</td>\n",
       "      <td>0.127760</td>\n",
       "    </tr>\n",
       "    <tr>\n",
       "      <th>0</th>\n",
       "      <td>3.0</td>\n",
       "      <td>0.786443</td>\n",
       "      <td>0.911888</td>\n",
       "      <td>0.663934</td>\n",
       "      <td>0.810000</td>\n",
       "      <td>0.137791</td>\n",
       "    </tr>\n",
       "    <tr>\n",
       "      <th>0</th>\n",
       "      <td>4.0</td>\n",
       "      <td>0.819309</td>\n",
       "      <td>0.920110</td>\n",
       "      <td>0.744807</td>\n",
       "      <td>0.836667</td>\n",
       "      <td>0.137895</td>\n",
       "    </tr>\n",
       "    <tr>\n",
       "      <th>0</th>\n",
       "      <td>5.0</td>\n",
       "      <td>0.785247</td>\n",
       "      <td>0.904092</td>\n",
       "      <td>0.660326</td>\n",
       "      <td>0.810000</td>\n",
       "      <td>0.117856</td>\n",
       "    </tr>\n",
       "    <tr>\n",
       "      <th>0</th>\n",
       "      <td>6.0</td>\n",
       "      <td>0.784787</td>\n",
       "      <td>0.909204</td>\n",
       "      <td>0.648579</td>\n",
       "      <td>0.836667</td>\n",
       "      <td>0.104686</td>\n",
       "    </tr>\n",
       "    <tr>\n",
       "      <th>0</th>\n",
       "      <td>7.0</td>\n",
       "      <td>0.808055</td>\n",
       "      <td>0.921765</td>\n",
       "      <td>0.738318</td>\n",
       "      <td>0.790000</td>\n",
       "      <td>0.164041</td>\n",
       "    </tr>\n",
       "    <tr>\n",
       "      <th>0</th>\n",
       "      <td>8.0</td>\n",
       "      <td>0.767703</td>\n",
       "      <td>0.898198</td>\n",
       "      <td>0.670487</td>\n",
       "      <td>0.780000</td>\n",
       "      <td>0.145018</td>\n",
       "    </tr>\n",
       "  </tbody>\n",
       "</table>\n",
       "</div>"
      ],
      "text/plain": [
       "   seeds      aupr       auc  precision    recall    thresh\n",
       "0    0.0  0.773266  0.901197   0.721154  0.750000  0.163156\n",
       "0    1.0  0.809342  0.916364   0.749216  0.796667  0.148962\n",
       "0    2.0  0.782023  0.911553   0.692958  0.820000  0.127760\n",
       "0    3.0  0.786443  0.911888   0.663934  0.810000  0.137791\n",
       "0    4.0  0.819309  0.920110   0.744807  0.836667  0.137895\n",
       "0    5.0  0.785247  0.904092   0.660326  0.810000  0.117856\n",
       "0    6.0  0.784787  0.909204   0.648579  0.836667  0.104686\n",
       "0    7.0  0.808055  0.921765   0.738318  0.790000  0.164041\n",
       "0    8.0  0.767703  0.898198   0.670487  0.780000  0.145018"
      ]
     },
     "execution_count": 3,
     "metadata": {},
     "output_type": "execute_result"
    }
   ],
   "source": [
    "record"
   ]
  },
  {
   "cell_type": "code",
   "execution_count": 4,
   "id": "3b2dbb31-08ba-4023-92bd-ccff9fd52e95",
   "metadata": {},
   "outputs": [],
   "source": [
    "record = record.reset_index(drop=True)\n",
    "record.to_csv(\"../temp/repeats10dnnwc.csv\", header = True, index =  True)"
   ]
  },
  {
   "cell_type": "code",
   "execution_count": 5,
   "id": "414f4074-f7d7-4af7-8087-2f3e3540a508",
   "metadata": {},
   "outputs": [
    {
     "name": "stdout",
     "output_type": "stream",
     "text": [
      "mean of aupr is 0.7906862656815724 with standard deviation 0.016526534499949758\n",
      "mean of auc is 0.9104856471170503 with standard deviation 0.007726497040432966\n",
      "mean of precision is 0.6988643558685507 with standard deviation 0.037673360503295526\n",
      "mean of recall is 0.8033333333333333 with standard deviation 0.0262466929133727\n"
     ]
    }
   ],
   "source": [
    "print(\"mean of aupr is {} with standard deviation {}\".format(np.mean(record['aupr']), np.std(record['aupr'])))\n",
    "print(\"mean of auc is {} with standard deviation {}\".format(np.mean(record['auc']), np.std(record['auc'])))\n",
    "print(\"mean of precision is {} with standard deviation {}\".format(np.mean(record['precision']), np.std(record['precision'])))\n",
    "print(\"mean of recall is {} with standard deviation {}\".format(np.mean(record['recall']), np.std(record['recall'])))"
   ]
  },
  {
   "cell_type": "code",
   "execution_count": 6,
   "id": "f44451c0-d664-4c46-8bd3-3075b1fe10a7",
   "metadata": {},
   "outputs": [
    {
     "name": "stdout",
     "output_type": "stream",
     "text": [
      "mean of f1 is nan with standard deviation nan\n"
     ]
    },
    {
     "name": "stderr",
     "output_type": "stream",
     "text": [
      "C:\\Users\\Zhang Jun\\AppData\\Local\\Temp\\ipykernel_11584\\3843907394.py:1: RuntimeWarning: invalid value encountered in double_scalars\n",
      "  f1 = [(2*record['precision'][i]*record['recall'][i] / (record['precision'][i] + record['recall'][i])) for i in range(record.shape[0])]\n"
     ]
    }
   ],
   "source": [
    "f1 = [(2*record['precision'][i]*record['recall'][i] / (record['precision'][i] + record['recall'][i])) for i in range(record.shape[0])]\n",
    "print(\"mean of f1 is {} with standard deviation {}\".format(np.mean(f1), np.std(f1)))"
   ]
  }
 ],
 "metadata": {
  "kernelspec": {
   "display_name": "Python 3 (ipykernel)",
   "language": "python",
   "name": "python3"
  },
  "language_info": {
   "codemirror_mode": {
    "name": "ipython",
    "version": 3
   },
   "file_extension": ".py",
   "mimetype": "text/x-python",
   "name": "python",
   "nbconvert_exporter": "python",
   "pygments_lexer": "ipython3",
   "version": "3.9.12"
  }
 },
 "nbformat": 4,
 "nbformat_minor": 5
}
