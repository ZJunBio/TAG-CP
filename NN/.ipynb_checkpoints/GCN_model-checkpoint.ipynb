{
 "cells": [
  {
   "cell_type": "code",
   "execution_count": 8,
   "id": "c3857ed1-41a0-458e-814c-94a4d5ad7560",
   "metadata": {},
   "outputs": [],
   "source": [
    "from dataset_copy_optimize_label import *\n",
    "from sklearn.metrics import accuracy_score\n",
    "import torch.nn.functional as F\n",
    "from torch_geometric.nn import GCNConv\n",
    "args = (\"../data/one_graph/network_file_0self.csv\", \"../data/jaaks_druginfo_ttid.csv\")    \n",
    "data = process_data(args) "
   ]
  },
  {
   "cell_type": "markdown",
   "id": "5386cd3b-a6b3-470b-bcb6-fff2491dc58a",
   "metadata": {
    "tags": []
   },
   "source": [
    "Create Network\n",
    "--------------"
   ]
  },
  {
   "cell_type": "code",
   "execution_count": 2,
   "id": "97cd8995-ae7d-447b-9333-9b75106a1077",
   "metadata": {},
   "outputs": [],
   "source": [
    "embed_dim = 128\n",
    "input_dim = data.num_node_features\n",
    "output_dim = data.y.shape[1]\n",
    "setup_seed(2023)"
   ]
  },
  {
   "cell_type": "code",
   "execution_count": 3,
   "id": "a0d7b621-6d2c-4e26-9e4f-c3ffb4f11149",
   "metadata": {},
   "outputs": [],
   "source": [
    "class GCN(torch.nn.Module):\n",
    "    def __init__(self):\n",
    "        super().__init__()\n",
    "        self.conv1 = GCNConv(input_dim, embed_dim)\n",
    "        self.conv2 = GCNConv(embed_dim, output_dim)\n",
    "\n",
    "    def forward(self, data):\n",
    "        x, edge_index = data.x, data.edge_index\n",
    "\n",
    "        x = self.conv1(x, edge_index)\n",
    "        x = F.relu(x)\n",
    "        x = F.dropout(x, training=self.training)\n",
    "        x = self.conv2(x, edge_index)\n",
    "\n",
    "        return torch.sigmoid(x)"
   ]
  },
  {
   "cell_type": "markdown",
   "id": "ae6e74ea-6f96-4b06-aadf-9bab7726784f",
   "metadata": {
    "tags": []
   },
   "source": [
    "Instantiate model\n",
    "-----------------"
   ]
  },
  {
   "cell_type": "code",
   "execution_count": 4,
   "id": "f60aaec8-2924-43f8-9938-ff4a637ad82b",
   "metadata": {},
   "outputs": [],
   "source": [
    "device = torch.device('cuda' if torch.cuda.is_available() else 'cpu')\n",
    "model = GCN().to(device)\n",
    "data = data.to(device)\n",
    "optimizer = torch.optim.Adam(model.parameters(), lr=0.001, weight_decay=5e-4)"
   ]
  },
  {
   "cell_type": "markdown",
   "id": "2cb5a11c-5fb2-48f5-9727-1bf2341d1e89",
   "metadata": {
    "tags": []
   },
   "source": [
    "Train model\n",
    "-----------"
   ]
  },
  {
   "cell_type": "code",
   "execution_count": 5,
   "id": "c5c49713-a8bd-46ed-9cff-e633e00c3251",
   "metadata": {},
   "outputs": [
    {
     "name": "stdout",
     "output_type": "stream",
     "text": [
      "Loss:0.7119203209877014\n",
      "Loss:0.4707825481891632\n",
      "Loss:0.2671552896499634\n",
      "Loss:0.1779192090034485\n",
      "Loss:0.15560877323150635\n",
      "Loss:0.14707860350608826\n",
      "Loss:0.14734981954097748\n",
      "Loss:0.13702495396137238\n",
      "Loss:0.1361154466867447\n",
      "Loss:0.13740789890289307\n",
      "Loss:0.13260656595230103\n",
      "Loss:0.1307443529367447\n",
      "Loss:0.12728293240070343\n",
      "Loss:0.12386992573738098\n",
      "Loss:0.11757905781269073\n",
      "Loss:0.12647682428359985\n",
      "Loss:0.11863357573747635\n",
      "Loss:0.11520705372095108\n",
      "Loss:0.11335065960884094\n",
      "Loss:0.11027797311544418\n",
      "Loss:0.11165044456720352\n",
      "Loss:0.10897687077522278\n",
      "Loss:0.1066279485821724\n",
      "Loss:0.10652278363704681\n",
      "Loss:0.1069236621260643\n",
      "Loss:0.10305405408143997\n",
      "Loss:0.1011844128370285\n",
      "Loss:0.10217678546905518\n",
      "Loss:0.09754178673028946\n",
      "Loss:0.10168968141078949\n",
      "Loss:0.09983055293560028\n",
      "Loss:0.10412181913852692\n",
      "Loss:0.09785719960927963\n",
      "Loss:0.09754735976457596\n",
      "Loss:0.09873894602060318\n",
      "Loss:0.09363508969545364\n",
      "Loss:0.09452679753303528\n",
      "Loss:0.09341519325971603\n",
      "Loss:0.09407299011945724\n",
      "Loss:0.09698154032230377\n",
      "Loss:0.0943649560213089\n",
      "Loss:0.09591734409332275\n",
      "Loss:0.09406778961420059\n",
      "Loss:0.09145630151033401\n",
      "Loss:0.09184394031763077\n",
      "Loss:0.08899063616991043\n",
      "Loss:0.09141556173563004\n",
      "Loss:0.0899379625916481\n",
      "Loss:0.0899200513958931\n",
      "Loss:0.09280315041542053\n",
      "Loss:0.09577125310897827\n",
      "Loss:0.0915336012840271\n",
      "Loss:0.08902493864297867\n",
      "Loss:0.0883350521326065\n",
      "Loss:0.0895610898733139\n",
      "Loss:0.08882621675729752\n",
      "Loss:0.08940625935792923\n",
      "Loss:0.09189585596323013\n",
      "Loss:0.09126020222902298\n",
      "Loss:0.09241922944784164\n"
     ]
    }
   ],
   "source": [
    "model.train()\n",
    "for epoch in range(600):\n",
    "    optimizer.zero_grad()\n",
    "    out = model(data)\n",
    "    loss = F.binary_cross_entropy(out[data.train_idx], data.y[data.train_idx])\n",
    "    if epoch % 10 == 0:\n",
    "        print(f'Loss:{loss}')\n",
    "    loss.backward()\n",
    "    optimizer.step()"
   ]
  },
  {
   "cell_type": "markdown",
   "id": "872a5e33-06b7-4128-8de1-40589195c7ce",
   "metadata": {
    "tags": []
   },
   "source": [
    "Evaluate accuracy\n",
    "-----------------"
   ]
  },
  {
   "cell_type": "code",
   "execution_count": 6,
   "id": "52295828-d4e1-4b17-8760-6d8c6f73de23",
   "metadata": {},
   "outputs": [],
   "source": [
    "model.eval()\n",
    "pred = model(data)\n",
    "pred_label = np.zeros(data.y[data.test_mask].size())\n",
    "pred = pred[data.test_mask].detach().numpy()\n",
    "for i, v in enumerate(data.y[data.test_mask].detach().numpy()):\n",
    "    sum_ = int(v.sum())\n",
    "    if sum_ == 1:\n",
    "        l = np.argsort(pred[i])[-1]\n",
    "        pred_label[i, l] = 1\n",
    "    else:\n",
    "        l = np.argsort(pred[i])[-sum_:]\n",
    "        pred_label[i, l] = 1\n",
    "acc = accuracy_score(pred_label, data.y[data.test_mask].detach().numpy())"
   ]
  },
  {
   "cell_type": "code",
   "execution_count": 7,
   "id": "39b68b18-1d41-4614-a809-4a7d1440093f",
   "metadata": {},
   "outputs": [
    {
     "name": "stdout",
     "output_type": "stream",
     "text": [
      "Accuracy: 0.6058394160583942\n"
     ]
    }
   ],
   "source": [
    "print(f'Accuracy: {acc}')"
   ]
  }
 ],
 "metadata": {
  "kernelspec": {
   "display_name": "Python 3 (ipykernel)",
   "language": "python",
   "name": "python3"
  },
  "language_info": {
   "codemirror_mode": {
    "name": "ipython",
    "version": 3
   },
   "file_extension": ".py",
   "mimetype": "text/x-python",
   "name": "python",
   "nbconvert_exporter": "python",
   "pygments_lexer": "ipython3",
   "version": "3.9.12"
  }
 },
 "nbformat": 4,
 "nbformat_minor": 5
}
