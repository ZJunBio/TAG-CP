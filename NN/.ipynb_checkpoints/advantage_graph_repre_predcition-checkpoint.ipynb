{
 "cells": [
  {
   "cell_type": "code",
   "execution_count": 1,
   "id": "ef732ec1-6cac-4b07-b49a-1d4866667e2b",
   "metadata": {},
   "outputs": [],
   "source": [
    "import re\n",
    "import numpy as np\n",
    "import pandas as pd\n",
    "import matplotlib.pyplot as plt\n",
    "from rdkit import Chem\n",
    "from rdkit.Chem import AllChem, MACCSkeys"
   ]
  },
  {
   "cell_type": "markdown",
   "id": "c6488e84-7714-4ca3-a865-936822b16c8a",
   "metadata": {
    "tags": []
   },
   "source": [
    "#### Filter the GDSC records in which compounds included in Graph representation."
   ]
  },
  {
   "cell_type": "code",
   "execution_count": 2,
   "id": "8d94a7e4-e14e-4554-830d-fb622e464b61",
   "metadata": {},
   "outputs": [],
   "source": [
    "gdsc_path = \"D:/Datasets/GDSC/compounds_information_withcid.tsv\"\n",
    "nodes_repre = np.load(\"../data/one_graph/repr_nodes_1362.npy\", allow_pickle = True)\n",
    "args = (\"../data/one_graph/network_file_0self.csv\", \"../data/jaaks_druginfo_ttid.csv\")"
   ]
  },
  {
   "cell_type": "code",
   "execution_count": 3,
   "id": "e1618434-0008-4091-a5da-0993d8e05ce0",
   "metadata": {},
   "outputs": [],
   "source": [
    "def name_cid(args = args):\n",
    "    network_file = pd.read_csv(args[0], header = 0)\n",
    "    smile_64 = pd.read_csv(args[1], header = 0)\n",
    "\n",
    "    #drug_ttid and pubchem cid mapping\n",
    "    dict_cid = {network_file.iloc[i,2]:network_file.iloc[i,3] for i in network_file.index}\n",
    "    for i in pd.unique(network_file[\"drug_name\"]):\n",
    "            dict_cid[i] = smile_64[smile_64[\"ttid\"] == i][\"cid\"].values[0]\n",
    "    return dict_cid"
   ]
  },
  {
   "cell_type": "code",
   "execution_count": 4,
   "id": "4dceb72b-3973-40f0-8d87-16ab207797d7",
   "metadata": {},
   "outputs": [
    {
     "name": "stdout",
     "output_type": "stream",
     "text": [
      "Index(['Drug Id', ' Name', ' Synonyms', ' Targets', ' Target pathway',\n",
      "       ' PubCHEM', ' Datasets', ' number of cell lines', ' Screening site'],\n",
      "      dtype='object')\n"
     ]
    }
   ],
   "source": [
    "cid_1362 = name_cid()\n",
    "gdsc = pd.read_table(gdsc_path, header = 0)\n",
    "print(gdsc.columns)"
   ]
  },
  {
   "cell_type": "code",
   "execution_count": 16,
   "id": "aa1563c6-e35d-4d1d-9cb5-807f54c85d6e",
   "metadata": {},
   "outputs": [
    {
     "data": {
      "text/plain": [
       "1361"
      ]
     },
     "execution_count": 16,
     "metadata": {},
     "output_type": "execute_result"
    }
   ],
   "source": [
    "a = list(cid_1362.values())\n",
    "a.remove(0)\n",
    "len(a)"
   ]
  },
  {
   "cell_type": "code",
   "execution_count": 27,
   "id": "4daf1237-0441-4f4d-a0f4-107d8e1c5739",
   "metadata": {},
   "outputs": [
    {
     "name": "stdout",
     "output_type": "stream",
     "text": [
      "79\n"
     ]
    }
   ],
   "source": [
    "gdsc_cid = [int(i) for i in gdsc[\" PubCHEM\"].to_numpy() if re.search(\",\", i) == None]\n",
    "print(len(set(a) & set(gdsc_cid)))"
   ]
  },
  {
   "cell_type": "code",
   "execution_count": 29,
   "id": "4525a367-01e3-41a2-8058-7251eb321c07",
   "metadata": {},
   "outputs": [],
   "source": [
    "gdsc_cid = set(a) & set(gdsc_cid)"
   ]
  },
  {
   "cell_type": "code",
   "execution_count": 36,
   "id": "8d7255a8-698d-4657-bccf-8945e1d51e34",
   "metadata": {},
   "outputs": [
    {
     "data": {
      "text/plain": [
       "Index(['Drug Id', ' Name', ' Synonyms', ' Targets', ' Target pathway',\n",
       "       ' PubCHEM', ' Datasets', ' number of cell lines', ' Screening site'],\n",
       "      dtype='object')"
      ]
     },
     "execution_count": 36,
     "metadata": {},
     "output_type": "execute_result"
    }
   ],
   "source": [
    "gdsc.columns"
   ]
  },
  {
   "cell_type": "code",
   "execution_count": 38,
   "id": "6d89a284-09a7-477d-886a-08f851b1c873",
   "metadata": {},
   "outputs": [],
   "source": [
    "id_cid = {int(gdsc[\" PubCHEM\"][i]):int(gdsc[\"Drug Id\"][i]) for i in range(gdsc.shape[0]) if re.search(\",\", gdsc[\" PubCHEM\"][i]) == None}"
   ]
  },
  {
   "cell_type": "code",
   "execution_count": 40,
   "id": "632da8b3-75f0-4c0f-90fd-dc2ad72ba820",
   "metadata": {},
   "outputs": [],
   "source": [
    "id_ = [id_cid[i] for i in gdsc_cid]"
   ]
  },
  {
   "cell_type": "code",
   "execution_count": 43,
   "id": "4f13f4d5-2c93-416b-bd09-24c211e906bd",
   "metadata": {},
   "outputs": [],
   "source": [
    "gdsc_fitted = pd.read_table(\"D:/Datasets/GDSC/GDSC2_fitted_dose_response_24Jul22.txt\", header = 0)"
   ]
  },
  {
   "cell_type": "code",
   "execution_count": 47,
   "id": "65f91a58-46f8-4adf-baf5-4d5642a5b68e",
   "metadata": {},
   "outputs": [
    {
     "name": "stdout",
     "output_type": "stream",
     "text": [
      "(45641, 19)\n"
     ]
    }
   ],
   "source": [
    "df = pd.DataFrame(columns = gdsc_fitted.columns)\n",
    "for i in id_:\n",
    "    temp = gdsc_fitted[gdsc_fitted[\"DRUG_ID\"] == i]\n",
    "    df = pd.concat([df, temp], ignore_index = True)\n",
    "print(df.shape)"
   ]
  },
  {
   "cell_type": "code",
   "execution_count": 52,
   "id": "bd4d5051-b344-4191-8fb1-33863a44b134",
   "metadata": {},
   "outputs": [],
   "source": [
    "df.to_csv(\"../data/one_graph/gdsc_fit.tsv\", sep = \"\\t\", header = True, index = False)"
   ]
  },
  {
   "cell_type": "markdown",
   "id": "e3a6adde-3ace-4db8-83eb-cfc6da9c3016",
   "metadata": {},
   "source": [
    "#### Filter the gdsc records in which cell lines included in Cell Model Passports."
   ]
  },
  {
   "cell_type": "code",
   "execution_count": 2,
   "id": "c139036c-62a9-499f-9232-c29d8899097f",
   "metadata": {},
   "outputs": [],
   "source": [
    "df = pd.read_table(\"../data/one_graph/gdsc_fit.tsv\", header = 0)"
   ]
  },
  {
   "cell_type": "code",
   "execution_count": 3,
   "id": "1ec54666-02c4-4e8d-8701-2110c9b3d417",
   "metadata": {},
   "outputs": [
    {
     "data": {
      "text/plain": [
       "Index(['DATASET', 'NLME_RESULT_ID', 'NLME_CURVE_ID', 'COSMIC_ID',\n",
       "       'CELL_LINE_NAME', 'SANGER_MODEL_ID', 'TCGA_DESC', 'DRUG_ID',\n",
       "       'DRUG_NAME', 'PUTATIVE_TARGET', 'PATHWAY_NAME', 'COMPANY_ID',\n",
       "       'WEBRELEASE', 'MIN_CONC', 'MAX_CONC', 'LN_IC50', 'AUC', 'RMSE',\n",
       "       'Z_SCORE'],\n",
       "      dtype='object')"
      ]
     },
     "execution_count": 3,
     "metadata": {},
     "output_type": "execute_result"
    }
   ],
   "source": [
    "df.columns"
   ]
  },
  {
   "cell_type": "code",
   "execution_count": 4,
   "id": "140bc3ac-8150-404d-ad89-64a9da08b1a5",
   "metadata": {},
   "outputs": [
    {
     "data": {
      "text/plain": [
       "969"
      ]
     },
     "execution_count": 4,
     "metadata": {},
     "output_type": "execute_result"
    }
   ],
   "source": [
    "len(pd.unique(df[\"SANGER_MODEL_ID\"]))"
   ]
  },
  {
   "cell_type": "code",
   "execution_count": null,
   "id": "b3121934-6651-46c4-ab18-f4817b5558df",
   "metadata": {},
   "outputs": [],
   "source": [
    "cellmp = pd.read_csv(\"D:/Datasets/CellModelPassports/rnaseq_tpm_20220624.csv\")\n",
    "cellmp.columns"
   ]
  },
  {
   "cell_type": "code",
   "execution_count": null,
   "id": "58184fdd-f54a-422b-90fe-2e3d088ffbe7",
   "metadata": {},
   "outputs": [],
   "source": [
    "cells = list(cellmp.columns)\n",
    "c = pd.unique(df[\"SANGER_MODEL_ID\"])\n",
    "print(type(cells[0]), type(c[0]))"
   ]
  },
  {
   "cell_type": "code",
   "execution_count": 9,
   "id": "1099307a-aea1-402d-921f-ebdf9148b455",
   "metadata": {},
   "outputs": [
    {
     "data": {
      "text/plain": [
       "{'SIDM00205', 'SIDM00361', 'SIDM01021', 'SIDM01201', 'SIDM01219', 'SIDM01261'}"
      ]
     },
     "execution_count": 9,
     "metadata": {},
     "output_type": "execute_result"
    }
   ],
   "source": [
    "set(c) - set(cells)"
   ]
  },
  {
   "cell_type": "code",
   "execution_count": 5,
   "id": "c49b87b2-ee0d-4b1b-985b-62dffa7547a7",
   "metadata": {},
   "outputs": [
    {
     "name": "stdout",
     "output_type": "stream",
     "text": [
      "(45352, 19)\n"
     ]
    }
   ],
   "source": [
    "no_rnaseq = ['SIDM00205', 'SIDM00361', 'SIDM01021', 'SIDM01201', 'SIDM01219', 'SIDM01261']\n",
    "for i in no_rnaseq:\n",
    "    df = df[df[\"SANGER_MODEL_ID\"] != i]\n",
    "print(df.shape)"
   ]
  },
  {
   "cell_type": "code",
   "execution_count": 6,
   "id": "33e14a99-3c8b-4a2b-ae8f-c9b593ca7a39",
   "metadata": {},
   "outputs": [],
   "source": [
    "df.to_csv(\"../data/one_graph/gdsc_fit.tsv\", sep = \"\\t\", header = True, index = False)"
   ]
  },
  {
   "cell_type": "markdown",
   "id": "899ebd1d-cfe8-4bd9-8beb-a2365bccbfa0",
   "metadata": {},
   "source": [
    "#### Generate features"
   ]
  },
  {
   "cell_type": "code",
   "execution_count": null,
   "id": "7baf7b5f-a97d-4a64-9326-b3dfea0fc1ee",
   "metadata": {},
   "outputs": [],
   "source": []
  }
 ],
 "metadata": {
  "kernelspec": {
   "display_name": "Python 3 (ipykernel)",
   "language": "python",
   "name": "python3"
  },
  "language_info": {
   "codemirror_mode": {
    "name": "ipython",
    "version": 3
   },
   "file_extension": ".py",
   "mimetype": "text/x-python",
   "name": "python",
   "nbconvert_exporter": "python",
   "pygments_lexer": "ipython3",
   "version": "3.9.12"
  }
 },
 "nbformat": 4,
 "nbformat_minor": 5
}
