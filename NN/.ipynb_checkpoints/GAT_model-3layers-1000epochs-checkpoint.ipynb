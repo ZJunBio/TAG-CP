{
 "cells": [
  {
   "cell_type": "code",
   "execution_count": 1,
   "id": "c3857ed1-41a0-458e-814c-94a4d5ad7560",
   "metadata": {},
   "outputs": [],
   "source": [
    "import sys\n",
    "sys.path.append(\"../data_preprocess/\")\n",
    "from dataset_copy_optimize_label import *\n",
    "from sklearn.metrics import accuracy_score\n",
    "import torch.nn.functional as F\n",
    "from torch_geometric.nn import GATConv\n",
    "from torch.nn import Linear\n",
    "args = (\"../data/one_graph/network_file_0self.csv\", \"../data/jaaks_druginfo_ttid.csv\")    \n",
    "data = process_data(args) "
   ]
  },
  {
   "cell_type": "markdown",
   "id": "5386cd3b-a6b3-470b-bcb6-fff2491dc58a",
   "metadata": {
    "tags": []
   },
   "source": [
    "Create Network\n",
    "--------------"
   ]
  },
  {
   "cell_type": "code",
   "execution_count": 2,
   "id": "97cd8995-ae7d-447b-9333-9b75106a1077",
   "metadata": {},
   "outputs": [],
   "source": [
    "att_dim = 256\n",
    "att_dim2 = 128\n",
    "att_dim3 = 64\n",
    "lin_dim = 64\n",
    "lin_dim2 = 42\n",
    "input_dim = data.num_node_features\n",
    "output_dim = data.y.shape[1]\n",
    "setup_seed(2023)"
   ]
  },
  {
   "cell_type": "code",
   "execution_count": 3,
   "id": "a0d7b621-6d2c-4e26-9e4f-c3ffb4f11149",
   "metadata": {},
   "outputs": [],
   "source": [
    "class GAT(torch.nn.Module):\n",
    "    def __init__(self, input_dim, output_dim, att_dim, att_dim2, att_dim3, lin_dim):\n",
    "        super().__init__()\n",
    "        self.conv1 = GATConv(in_channels = input_dim, out_channels = att_dim)\n",
    "        self.conv2 = GATConv(in_channels = att_dim, out_channels = att_dim2)\n",
    "        self.conv3 = GATConv(in_channels = att_dim2, out_channels = att_dim3)\n",
    "        self.linear1 = Linear(att_dim3, lin_dim)\n",
    "        self.linear2 = Linear(lin_dim, output_dim)\n",
    "        \n",
    "\n",
    "    def forward(self, data):\n",
    "        x, edge_index = data.x, data.edge_index\n",
    "\n",
    "        x = self.conv1(x, edge_index)\n",
    "        x = F.relu(x)\n",
    "        #x = F.dropout(x, training=self.training)\n",
    "        x = self.conv2(x, edge_index)\n",
    "        x = F.relu(x)\n",
    "        x = self.conv3(x, edge_index)\n",
    "        x = F.relu(x)\n",
    "        x = self.linear1(x)\n",
    "        x = F.relu(x)\n",
    "        x = self.linear2(x)\n",
    "        out = torch.sigmoid(x)\n",
    "        \n",
    "\n",
    "        return x, out"
   ]
  },
  {
   "cell_type": "markdown",
   "id": "ae6e74ea-6f96-4b06-aadf-9bab7726784f",
   "metadata": {
    "tags": []
   },
   "source": [
    "Instantiate model\n",
    "-----------------"
   ]
  },
  {
   "cell_type": "code",
   "execution_count": 4,
   "id": "f60aaec8-2924-43f8-9938-ff4a637ad82b",
   "metadata": {},
   "outputs": [],
   "source": [
    "device = torch.device('cuda' if torch.cuda.is_available() else 'cpu')\n",
    "model = GAT(input_dim, output_dim, att_dim, att_dim2, att_dim3, lin_dim).to(device)\n",
    "data = data.to(device)\n",
    "optimizer = torch.optim.Adam(model.parameters(), lr=0.001, weight_decay=5e-4)"
   ]
  },
  {
   "cell_type": "markdown",
   "id": "2cb5a11c-5fb2-48f5-9727-1bf2341d1e89",
   "metadata": {
    "tags": []
   },
   "source": [
    "Train model\n",
    "-----------"
   ]
  },
  {
   "cell_type": "code",
   "execution_count": 5,
   "id": "c5c49713-a8bd-46ed-9cff-e633e00c3251",
   "metadata": {},
   "outputs": [
    {
     "name": "stdout",
     "output_type": "stream",
     "text": [
      "Loss:0.6941047310829163\n",
      "Loss:0.18157526850700378\n",
      "Loss:0.1280086487531662\n",
      "Loss:0.11879302561283112\n",
      "Loss:0.11713478714227676\n",
      "Loss:0.11571069061756134\n",
      "Loss:0.10999446362257004\n",
      "Loss:0.10079614073038101\n",
      "Loss:0.09353616833686829\n",
      "Loss:0.08666931837797165\n",
      "Loss:0.07868514209985733\n",
      "Loss:0.0720868706703186\n",
      "Loss:0.06551127135753632\n",
      "Loss:0.05930107459425926\n",
      "Loss:0.05288029834628105\n",
      "Loss:0.04823332279920578\n",
      "Loss:0.04567562788724899\n",
      "Loss:0.0433892086148262\n",
      "Loss:0.041718509048223495\n",
      "Loss:0.04063080623745918\n",
      "Loss:0.03923390805721283\n",
      "Loss:0.0379573293030262\n",
      "Loss:0.037949465215206146\n",
      "Loss:0.0361139290034771\n",
      "Loss:0.03475451469421387\n",
      "Loss:0.03374888002872467\n",
      "Loss:0.03208679333329201\n",
      "Loss:0.031458236277103424\n",
      "Loss:0.03060883842408657\n",
      "Loss:0.030039353296160698\n",
      "Loss:0.029372189193964005\n",
      "Loss:0.028774064034223557\n",
      "Loss:0.028772788122296333\n",
      "Loss:0.028309764340519905\n",
      "Loss:0.028091643005609512\n",
      "Loss:0.02796127088367939\n",
      "Loss:0.027239128947257996\n",
      "Loss:0.02692319266498089\n",
      "Loss:0.026147831231355667\n",
      "Loss:0.025741323828697205\n",
      "Loss:0.025285454466938972\n",
      "Loss:0.02550448104739189\n",
      "Loss:0.025962810963392258\n",
      "Loss:0.02460404485464096\n",
      "Loss:0.02425149455666542\n",
      "Loss:0.024086086079478264\n",
      "Loss:0.024262724444270134\n",
      "Loss:0.023528307676315308\n",
      "Loss:0.02374337799847126\n",
      "Loss:0.02387095056474209\n"
     ]
    }
   ],
   "source": [
    "model.train()\n",
    "loss_ = []\n",
    "for epoch in range(1000):\n",
    "    optimizer.zero_grad()\n",
    "    _, out = model(data)\n",
    "    loss = F.binary_cross_entropy(out[data.train_idx], data.y[data.train_idx])\n",
    "    loss_.append(loss)\n",
    "    if epoch % 20 == 0:\n",
    "        print(f'Loss:{loss}')\n",
    "    loss.backward()\n",
    "    optimizer.step()"
   ]
  },
  {
   "cell_type": "markdown",
   "id": "872a5e33-06b7-4128-8de1-40589195c7ce",
   "metadata": {
    "tags": []
   },
   "source": [
    "Evaluate accuracy\n",
    "-----------------"
   ]
  },
  {
   "cell_type": "code",
   "execution_count": 6,
   "id": "200d6af6-d68f-46da-ade7-83bddc5a93d7",
   "metadata": {},
   "outputs": [],
   "source": [
    "loss_ = [i.detach().numpy() for i in loss_]"
   ]
  },
  {
   "cell_type": "code",
   "execution_count": 7,
   "id": "5e37cc49-ab37-40d0-9469-91f7b265863b",
   "metadata": {},
   "outputs": [
    {
     "data": {
      "image/png": "[encoded data removed]",
      "text/plain": [
       "<Figure size 640x480 with 1 Axes>"
      ]
     },
     "metadata": {},
     "output_type": "display_data"
    }
   ],
   "source": [
    "import matplotlib as mpl\n",
    "import matplotlib.pyplot as plt\n",
    "\n",
    "fig, ax  = plt.subplots()\n",
    "ax.plot(list(range(len(loss_))), loss_)\n",
    "ax.set_xlabel(\"Epochs\")\n",
    "ax.set_ylabel(\"Loss\")\n",
    "plt.show()"
   ]
  },
  {
   "cell_type": "code",
   "execution_count": 8,
   "id": "52295828-d4e1-4b17-8760-6d8c6f73de23",
   "metadata": {},
   "outputs": [],
   "source": [
    "model.eval()\n",
    "_, pred = model(data)\n",
    "pred_label = np.zeros(data.y[data.test_mask].size())\n",
    "pred = pred[data.test_mask].detach().numpy()\n",
    "for i, v in enumerate(data.y[data.test_mask].detach().numpy()):\n",
    "    sum_ = int(v.sum())\n",
    "    if sum_ == 1:\n",
    "        l = np.argsort(pred[i])[-1]\n",
    "        pred_label[i, l] = 1\n",
    "    else:\n",
    "        l = np.argsort(pred[i])[-sum_:]\n",
    "        pred_label[i, l] = 1\n",
    "acc = accuracy_score(pred_label, data.y[data.test_mask].detach().numpy())"
   ]
  },
  {
   "cell_type": "code",
   "execution_count": 10,
   "id": "39b68b18-1d41-4614-a809-4a7d1440093f",
   "metadata": {},
   "outputs": [
    {
     "name": "stdout",
     "output_type": "stream",
     "text": [
      "Accuracy: 0.8175182481751825\n"
     ]
    }
   ],
   "source": [
    "print(f'Accuracy: {acc}')"
   ]
  }
 ],
 "metadata": {
  "kernelspec": {
   "display_name": "Python 3 (ipykernel)",
   "language": "python",
   "name": "python3"
  },
  "language_info": {
   "codemirror_mode": {
    "name": "ipython",
    "version": 3
   },
   "file_extension": ".py",
   "mimetype": "text/x-python",
   "name": "python",
   "nbconvert_exporter": "python",
   "pygments_lexer": "ipython3",
   "version": "3.9.12"
  }
 },
 "nbformat": 4,
 "nbformat_minor": 5
}
