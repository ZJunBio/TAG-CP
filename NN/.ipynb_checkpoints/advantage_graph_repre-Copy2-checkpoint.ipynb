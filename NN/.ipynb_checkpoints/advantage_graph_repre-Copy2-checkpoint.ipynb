{
 "cells": [
  {
   "cell_type": "code",
   "execution_count": 1,
   "id": "ef732ec1-6cac-4b07-b49a-1d4866667e2b",
   "metadata": {},
   "outputs": [],
   "source": [
    "import numpy as np\n",
    "import pandas as pd\n",
    "import matplotlib.pyplot as plt\n",
    "from rdkit import DataStructs\n",
    "from rdkit import Chem\n",
    "from rdkit.Chem import AllChem, MACCSkeys\n",
    "from scipy import stats"
   ]
  },
  {
   "cell_type": "code",
   "execution_count": 2,
   "id": "8d94a7e4-e14e-4554-830d-fb622e464b61",
   "metadata": {},
   "outputs": [
    {
     "name": "stdout",
     "output_type": "stream",
     "text": [
      "(45352, 19)\n"
     ]
    }
   ],
   "source": [
    "#GNN based representation\n",
    "nodes_repre = np.load(\"../data/one_graph/repr_nodes_1362.npy\", allow_pickle = True)\n",
    "#1362 compounds\n",
    "args = (\"../data/one_graph/network_file_0self.csv\", \"../data/jaaks_druginfo_ttid.csv\")\n",
    "#GDSC drug response data.\n",
    "gdsc_fit = pd.read_table(\"../data/one_graph/gdsc_fit.tsv\", header = 0)\n",
    "print(gdsc_fit.shape)"
   ]
  },
  {
   "cell_type": "code",
   "execution_count": 3,
   "id": "e1618434-0008-4091-a5da-0993d8e05ce0",
   "metadata": {},
   "outputs": [],
   "source": [
    "#List molecules according to GNN training order.\n",
    "def mols_gen(args = args):\n",
    "    network_file = pd.read_csv(args[0], header = 0)\n",
    "    smile_64 = pd.read_csv(args[1], header = 0)\n",
    "\n",
    "    #drug_ttid and smiles mapping\n",
    "    dict_smile = {network_file.iloc[i,2]:network_file.iloc[i,4] for i in network_file.index}\n",
    "    for i in pd.unique(network_file[\"drug_name\"]):\n",
    "            dict_smile[i] = smile_64[smile_64[\"ttid\"] == i][\"canonicalsmiles\"].values[0]\n",
    "    #node list\n",
    "    nodes = list(dict_smile)\n",
    "    node_index = {v:i for i,v in enumerate(nodes)}\n",
    "    node_mols = [Chem.MolFromSmiles(dict_smile[i]) for i in nodes]\n",
    "    #node features\n",
    "    return nodes, node_mols\n",
    "\n",
    "nodes, node_mols = mols_gen()"
   ]
  },
  {
   "cell_type": "code",
   "execution_count": 4,
   "id": "d065ec96-15d7-44cf-acad-c4b19ec293bf",
   "metadata": {},
   "outputs": [
    {
     "name": "stdout",
     "output_type": "stream",
     "text": [
      "1362\n",
      "54\n"
     ]
    }
   ],
   "source": [
    "print(len(nodes))\n",
    "compounds = pd.unique(gdsc_fit[\"DRUG_ID\"])\n",
    "print(len(compounds))"
   ]
  },
  {
   "cell_type": "code",
   "execution_count": 5,
   "id": "2921a5da-db3d-4d34-8f8d-a2b484107fe7",
   "metadata": {},
   "outputs": [
    {
     "name": "stdout",
     "output_type": "stream",
     "text": [
      "Index(['Drug Id', ' Name', ' Synonyms', ' Targets', ' Target pathway',\n",
      "       ' PubCHEM', ' Datasets', ' number of cell lines', ' Screening site'],\n",
      "      dtype='object')\n"
     ]
    }
   ],
   "source": [
    "#looking for indexes in 1362 compounds of 54 compounds according to pubchem cid.\n",
    "gdsc_infor = pd.read_table(\"D:/Datasets/GDSC/compounds_information_withcid.tsv\", header = 0)\n",
    "print(gdsc_infor.columns)"
   ]
  },
  {
   "cell_type": "code",
   "execution_count": 6,
   "id": "f2f2d47a-31a2-42e3-b720-5cbe2701c30f",
   "metadata": {},
   "outputs": [
    {
     "name": "stdout",
     "output_type": "stream",
     "text": [
      "54\n"
     ]
    }
   ],
   "source": [
    "#{drug id: cid}\n",
    "dict_temp = {gdsc_infor[\"Drug Id\"][i]:gdsc_infor[\" PubCHEM\"][i] for i in gdsc_infor.index}\n",
    "cids = [dict_temp[i] for i in compounds]\n",
    "print(len(cids))"
   ]
  },
  {
   "cell_type": "code",
   "execution_count": 9,
   "id": "d7d777fc-42ae-4c84-95a4-16c0cb44201b",
   "metadata": {},
   "outputs": [
    {
     "name": "stdout",
     "output_type": "stream",
     "text": [
      "54\n"
     ]
    }
   ],
   "source": [
    "#locate orders of 54 compounds in 1362 compounds\n",
    "def name_cid(args = args):\n",
    "    network_file = pd.read_csv(args[0], header = 0)\n",
    "    smile_64 = pd.read_csv(args[1], header = 0)\n",
    "\n",
    "    #drug_ttid and pubchem cid mapping\n",
    "    dict_cid = {network_file.iloc[i,2]:network_file.iloc[i,3] for i in network_file.index}\n",
    "    for i in pd.unique(network_file[\"drug_name\"]):\n",
    "            dict_cid[i] = smile_64[smile_64[\"ttid\"] == i][\"cid\"].values[0]\n",
    "    return dict_cid\n",
    "cid_1362 = name_cid()\n",
    "\n",
    "location = []\n",
    "for i, v in enumerate(cid_1362.values()):\n",
    "    for c in cids:\n",
    "        if v == int(c):\n",
    "            location.append(i)\n",
    "print(len(location))"
   ]
  },
  {
   "cell_type": "code",
   "execution_count": 10,
   "id": "6ae52059-7d69-4f10-9a3d-4f5be4b5938c",
   "metadata": {},
   "outputs": [
    {
     "name": "stdout",
     "output_type": "stream",
     "text": [
      "54 (54, 64)\n"
     ]
    }
   ],
   "source": [
    "#get molucules and graph representation of 54 compounds.\n",
    "mols = [node_mols[i] for i in location]\n",
    "graph_re = nodes_repre[location,]\n",
    "print(len(mols), graph_re.shape)"
   ]
  },
  {
   "cell_type": "code",
   "execution_count": 11,
   "id": "d3cf707a-8f22-4501-8f8b-65ed83354ea1",
   "metadata": {},
   "outputs": [
    {
     "name": "stdout",
     "output_type": "stream",
     "text": [
      "54\n"
     ]
    }
   ],
   "source": [
    "#get vector of IC50s of each compound.\n",
    "IC50 = {}\n",
    "for i in compounds:\n",
    "    IC50[i] = gdsc_fit[gdsc_fit[\"DRUG_ID\"] == i][\"LN_IC50\"].to_numpy()\n",
    "print(len(IC50))"
   ]
  },
  {
   "cell_type": "code",
   "execution_count": 12,
   "id": "5c29b724-1cbd-4bba-9164-b8372b5f1cb3",
   "metadata": {},
   "outputs": [
    {
     "data": {
      "text/plain": [
       "dict_keys([1564, 2048, 1558, 1057, 1025, 1079, 1050, 1068, 1083, 1549, 1510, 1561, 1011, 1192, 2106, 1013, 1016, 1918, 1922, 1085, 1912, 1096, 1030, 1012, 2169, 2040, 1168, 1372, 1560, 1010, 1042, 1062, 2175, 1014, 1051, 1129, 1909, 1632, 1054, 1021, 1049, 1194, 1932, 1507, 1149, 1058, 1029, 1038, 1032, 1615, 1852, 1080, 1037, 1036])"
      ]
     },
     "execution_count": 12,
     "metadata": {},
     "output_type": "execute_result"
    }
   ],
   "source": [
    "IC50.keys()"
   ]
  },
  {
   "cell_type": "code",
   "execution_count": 13,
   "id": "43d5e19f-f009-4d6b-b275-fa72fe28f48d",
   "metadata": {},
   "outputs": [
    {
     "data": {
      "text/plain": [
       "(950,)"
      ]
     },
     "execution_count": 13,
     "metadata": {},
     "output_type": "execute_result"
    }
   ],
   "source": [
    "IC50[2048].shape"
   ]
  },
  {
   "cell_type": "code",
   "execution_count": 14,
   "id": "2ec8cd8f-f736-4806-94c5-0af5539e0aba",
   "metadata": {},
   "outputs": [
    {
     "data": {
      "text/plain": [
       "dict_keys([1564, 2048, 1558, 1057, 1025, 1079, 1050, 1068, 1083, 1549, 1510, 1561, 1011, 1192, 2106, 1013, 1016, 1918, 1922, 1085, 1912, 1096, 1030, 1012, 2169, 2040, 1168, 1372, 1560, 1010, 1042, 1062, 2175, 1014, 1051, 1129, 1909, 1632, 1054, 1021, 1049, 1194, 1932, 1507, 1149, 1058, 1029, 1038, 1032, 1615, 1852, 1080, 1037, 1036])"
      ]
     },
     "execution_count": 14,
     "metadata": {},
     "output_type": "execute_result"
    }
   ],
   "source": [
    "IC50.keys()"
   ]
  },
  {
   "cell_type": "code",
   "execution_count": 15,
   "id": "8afc6f33-c4f6-4477-be87-9ae1ea8e5ebb",
   "metadata": {},
   "outputs": [
    {
     "data": {
      "text/plain": [
       "array([1564, 2048, 1558, 1057, 1025, 1079, 1050, 1068, 1083, 1549, 1510,\n",
       "       1561, 1011, 1192, 2106, 1013, 1016, 1918, 1922, 1085, 1912, 1096,\n",
       "       1030, 1012, 2169, 2040, 1168, 1372, 1560, 1010, 1042, 1062, 2175,\n",
       "       1014, 1051, 1129, 1909, 1632, 1054, 1021, 1049, 1194, 1932, 1507,\n",
       "       1149, 1058, 1029, 1038, 1032, 1615, 1852, 1080, 1037, 1036],\n",
       "      dtype=int64)"
      ]
     },
     "execution_count": 15,
     "metadata": {},
     "output_type": "execute_result"
    }
   ],
   "source": [
    "compounds"
   ]
  },
  {
   "cell_type": "code",
   "execution_count": 16,
   "id": "e1d08ad8-4b4d-4d9e-a793-81f4e55f2aec",
   "metadata": {},
   "outputs": [
    {
     "name": "stdout",
     "output_type": "stream",
     "text": [
      "46\n",
      "dict_keys([1564, 2048, 1558, 1057, 1025, 1079, 1050, 1068, 1083, 1549, 1510, 1561, 1011, 2106, 1013, 1016, 1918, 1922, 1085, 1912, 1030, 1012, 2040, 1168, 1372, 1560, 1010, 1042, 1062, 1014, 1051, 1909, 1632, 1054, 1021, 1049, 1932, 1507, 1058, 1029, 1038, 1032, 1615, 1852, 1080, 1036])\n"
     ]
    }
   ],
   "source": [
    "#remove cell lines less than 375\n",
    "del_ = []\n",
    "del_index = [i for i, v in enumerate(IC50.values()) if len(v) <= 375]\n",
    "for k,v in IC50.items():\n",
    "    if len(v) <= 375:\n",
    "        del_.append(k)\n",
    "for i in del_:\n",
    "    del IC50[i]\n",
    "print(len(IC50))\n",
    "print(IC50.keys())"
   ]
  },
  {
   "cell_type": "code",
   "execution_count": 17,
   "id": "71e41df4-52b7-404c-be47-644bb2fd026d",
   "metadata": {},
   "outputs": [
    {
     "name": "stdout",
     "output_type": "stream",
     "text": [
      "583\n"
     ]
    }
   ],
   "source": [
    "#make IC50 vectors have the shortest common cell lines.\n",
    "cells_ = [gdsc_fit[gdsc_fit[\"DRUG_ID\"] == c][\"CELL_LINE_NAME\"].to_list() for c in IC50.keys()]\n",
    "common_ = [list(set(cells_[0]) & set(cells_[1]))]\n",
    "for i in range(len(cells_)):\n",
    "    if i > 1:\n",
    "        com_ = list(set(common_[i-2]) & set(cells_[i]))\n",
    "        common_.append(com_)\n",
    "print(len(common_[-1]))"
   ]
  },
  {
   "cell_type": "code",
   "execution_count": 18,
   "id": "8607bfe7-d91e-4fcf-8b42-d3bc21c35d61",
   "metadata": {},
   "outputs": [
    {
     "name": "stdout",
     "output_type": "stream",
     "text": [
      "583\n"
     ]
    }
   ],
   "source": [
    "#Make IC50 vectors have same length.\n",
    "#IC50 = {}\n",
    "#cells = pd.unique(gdsc_fit[\"CELL_LINE_NAME\"])\n",
    "ic50vector = {}\n",
    "cells = common_[-1]\n",
    "print(len(cells))\n",
    "for c in IC50.keys():\n",
    "    arr_ = np.zeros(shape = (len(cells),))\n",
    "    df_temp = gdsc_fit[gdsc_fit[\"DRUG_ID\"] == c]\n",
    "    cell_ = df_temp[\"CELL_LINE_NAME\"]\n",
    "    ic50_ = df_temp[\"LN_IC50\"].reset_index(drop = True)\n",
    "    dict_ = {v:ic50_[i] for i, v in enumerate(cell_)}\n",
    "    for i, v in enumerate(cells):\n",
    "        if v in dict_.keys():\n",
    "            arr_[i] = dict_[v]\n",
    "    ic50vector[c] = arr_"
   ]
  },
  {
   "cell_type": "code",
   "execution_count": 19,
   "id": "770678d0-aaa6-41a5-b2ea-0a8a5804bdbc",
   "metadata": {},
   "outputs": [
    {
     "data": {
      "text/plain": [
       "[52, 44, 41, 35, 32, 24, 21, 13]"
      ]
     },
     "execution_count": 19,
     "metadata": {},
     "output_type": "execute_result"
    }
   ],
   "source": [
    "del_index.reverse()\n",
    "del_index"
   ]
  },
  {
   "cell_type": "code",
   "execution_count": 20,
   "id": "b41376eb-28a9-4305-9dc1-78951c379097",
   "metadata": {},
   "outputs": [
    {
     "name": "stdout",
     "output_type": "stream",
     "text": [
      "46\n"
     ]
    }
   ],
   "source": [
    "for i in del_index:\n",
    "    del mols[i]\n",
    "print(len(mols))"
   ]
  },
  {
   "cell_type": "code",
   "execution_count": 21,
   "id": "8bde3887-bf60-4d33-a1b8-346ace00dcac",
   "metadata": {},
   "outputs": [],
   "source": [
    "graph_re = np.delete(graph_re, del_index, axis = 0)"
   ]
  },
  {
   "cell_type": "code",
   "execution_count": 22,
   "id": "9a655767-2ed0-47a2-a03b-8fd051f9c378",
   "metadata": {},
   "outputs": [
    {
     "data": {
      "text/plain": [
       "(46, 64)"
      ]
     },
     "execution_count": 22,
     "metadata": {},
     "output_type": "execute_result"
    }
   ],
   "source": [
    "graph_re.shape"
   ]
  },
  {
   "cell_type": "markdown",
   "id": "57f4b6a5-cb35-458f-86e5-7f6fa82a2d1d",
   "metadata": {
    "tags": []
   },
   "source": [
    "### Calculate similarities of Fingerprints and graph based representation"
   ]
  },
  {
   "cell_type": "code",
   "execution_count": 23,
   "id": "a62dfe66-5669-44f4-86a0-1590f2837a36",
   "metadata": {},
   "outputs": [],
   "source": [
    "def pearson_cal(arr1, arr2):\n",
    "    if isinstance(arr1, np.ndarray) and isinstance(arr2, np.ndarray):\n",
    "        res = stats.pearsonr(arr1, arr2)\n",
    "        return res.statistic, res.pvalue\n",
    "    else:\n",
    "        print(\"arr1 and arr2 are not numpy array format.\")"
   ]
  },
  {
   "cell_type": "code",
   "execution_count": 24,
   "id": "180b95da-4df7-45a5-8da7-46d59d32982c",
   "metadata": {},
   "outputs": [],
   "source": [
    "def fp_sim(fp_list):\n",
    "    sim_list = []\n",
    "    for i, m in enumerate(fp_list):\n",
    "        for j, n in enumerate(fp_list):\n",
    "            if j > i:\n",
    "                sim = DataStructs.TanimotoSimilarity(m, n)\n",
    "                sim_list.append(sim)\n",
    "    return np.array(sim_list)\n",
    "\n",
    "def fp_dicesim(fp_list):\n",
    "    sim_list = []\n",
    "    for i, m in enumerate(fp_list):\n",
    "        for j, n in enumerate(fp_list):\n",
    "            if j > i:\n",
    "                sim = DataStructs.DiceSimilarity(m, n)\n",
    "                sim_list.append(sim)\n",
    "    return np.array(sim_list)\n",
    "\n",
    "def repr_sim(rep = nodes_repre):\n",
    "    sim_list = []\n",
    "    for i, m in enumerate(rep):\n",
    "        for j, n in enumerate(rep):\n",
    "            if j > i:\n",
    "                sim, _ = pearson_cal(m, n)\n",
    "                sim_list.append(sim)\n",
    "    return np.array(sim_list)"
   ]
  },
  {
   "cell_type": "code",
   "execution_count": 25,
   "id": "1783c1e9-cb0d-405b-b772-c67c2686998c",
   "metadata": {},
   "outputs": [],
   "source": [
    "#For MACCS Keys\n",
    "node_macc = [MACCSkeys.GenMACCSKeys(i) for i in mols]\n",
    "macc_similarity = fp_sim(node_macc)"
   ]
  },
  {
   "cell_type": "code",
   "execution_count": 26,
   "id": "c04a475c-84b9-4bbc-a94b-953822fa994a",
   "metadata": {},
   "outputs": [
    {
     "name": "stdout",
     "output_type": "stream",
     "text": [
      "(1035,)\n"
     ]
    }
   ],
   "source": [
    "print(macc_similarity.shape)"
   ]
  },
  {
   "cell_type": "code",
   "execution_count": 27,
   "id": "2db9cbef-c0ec-42ee-9394-2b2f5ee1290d",
   "metadata": {},
   "outputs": [
    {
     "data": {
      "text/plain": [
       "(1035,)"
      ]
     },
     "execution_count": 27,
     "metadata": {},
     "output_type": "execute_result"
    }
   ],
   "source": [
    "pe = repr_sim(rep = graph_re)\n",
    "pe.shape"
   ]
  },
  {
   "cell_type": "code",
   "execution_count": 28,
   "id": "7c081c88-2af2-45a6-b2f4-7d5a0d4ce875",
   "metadata": {},
   "outputs": [
    {
     "name": "stdout",
     "output_type": "stream",
     "text": [
      "(1035,)\n"
     ]
    }
   ],
   "source": [
    "#IC50 correlations\n",
    "ic50corr = []\n",
    "for i, m in enumerate(IC50.keys()):\n",
    "    for j, n in enumerate(IC50.keys()):\n",
    "        if j > i:\n",
    "            sim, _ = pearson_cal(ic50vector[m], ic50vector[n])\n",
    "            ic50corr.append(sim)\n",
    "ic50corr = np.array(ic50corr)\n",
    "print(ic50corr.shape)"
   ]
  },
  {
   "cell_type": "code",
   "execution_count": 31,
   "id": "e5484a87-bba5-44f7-9bf6-47bb3c2c97c6",
   "metadata": {},
   "outputs": [
    {
     "data": {
      "image/png": "[encoded data removed]",
      "text/plain": [
       "<Figure size 640x480 with 3 Axes>"
      ]
     },
     "metadata": {},
     "output_type": "display_data"
    }
   ],
   "source": [
    "fig, (ax3, ax4, ax5) = plt.subplots(1,3, sharey = True)\n",
    "ax3.hist(macc_similarity, bins = 20)\n",
    "ax3.set_xlabel(\"MACCS Keys\")\n",
    "ax4.hist(ic50corr, bins = 20)\n",
    "ax4.set_xlabel(\"IC50\")\n",
    "ax5.hist(pe, bins = 20)\n",
    "ax5.set_xlabel(\"Graph representation\")\n",
    "plt.show()"
   ]
  },
  {
   "cell_type": "markdown",
   "id": "580530d1-573d-4b7b-8112-e4cfa4b0e9a5",
   "metadata": {},
   "source": [
    "### Pearson correlation "
   ]
  },
  {
   "cell_type": "code",
   "execution_count": 43,
   "id": "86e7ab7b-1837-4c1a-b814-b60077c0faa6",
   "metadata": {},
   "outputs": [
    {
     "data": {
      "image/png": "[encoded data removed]",
      "text/plain": [
       "<Figure size 1000x500 with 2 Axes>"
      ]
     },
     "metadata": {},
     "output_type": "display_data"
    }
   ],
   "source": [
    "fig, (ax8, ax9) = plt.subplots(1, 2, figsize = (10, 5))\n",
    "ax8.scatter(macc_similarity, ic50corr, s = 0.2, alpha = 0.5)\n",
    "ax8.set_xlabel(\"MACCS Keys based similarities\")\n",
    "ax8.set_ylabel(\"IC50 pearson correlation\")\n",
    "ax9.scatter(pe, ic50corr, s = 0.2, alpha = 0.5)\n",
    "ax9.set_xlabel(\"Graph based similarities\")\n",
    "plt.show()"
   ]
  },
  {
   "cell_type": "code",
   "execution_count": 44,
   "id": "95b40239-91c0-4d93-94b5-9ae722a8982f",
   "metadata": {},
   "outputs": [
    {
     "name": "stdout",
     "output_type": "stream",
     "text": [
      "Pearson correlation coefficient is -0.031115128740230688 and p-value is 0.31728618850592644\n",
      "Pearson correlation coefficient is 0.010415103504520047 and p-value is 0.7378719173683334\n"
     ]
    }
   ],
   "source": [
    "s_, p_ = pearson_cal(macc_similarity, ic50corr)\n",
    "print(f\"Pearson correlation coefficient is {s_} and p-value is {p_}\")\n",
    "s_m, p_m = pearson_cal(pe, ic50corr)\n",
    "print(f\"Pearson correlation coefficient is {s_m} and p-value is {p_m}\")"
   ]
  },
  {
   "cell_type": "code",
   "execution_count": 45,
   "id": "a02e7432-a41d-43e5-88e3-3cc7c699ab1f",
   "metadata": {},
   "outputs": [],
   "source": [
    "df = pd.DataFrame({\"MACCS Keys\": macc_similarity, \"graph based\": pe, \"ic50corr\": ic50corr})\n",
    "df.to_csv(\"../data/one_graph/macc_graph_similarities_46.csv\", header = True, index = False)"
   ]
  },
  {
   "cell_type": "markdown",
   "id": "fe06f23b-dad7-4e92-bfb8-47899816a0f7",
   "metadata": {},
   "source": [
    "### Boxplot"
   ]
  },
  {
   "cell_type": "code",
   "execution_count": 29,
   "id": "7e977777-68c3-4821-af2c-d63dedc88888",
   "metadata": {},
   "outputs": [
    {
     "data": {
      "text/plain": [
       "926841"
      ]
     },
     "execution_count": 29,
     "metadata": {},
     "output_type": "execute_result"
    }
   ],
   "source": [
    "len(pe)"
   ]
  },
  {
   "cell_type": "code",
   "execution_count": 11,
   "id": "b752b5c5-1f9a-4477-baad-2a12a9d14858",
   "metadata": {},
   "outputs": [
    {
     "name": "stdout",
     "output_type": "stream",
     "text": [
      "1853682 (1853682,)\n"
     ]
    }
   ],
   "source": [
    "fptype = [\"MACCS Keys\"] * len(macc_similarity)\n",
    "fptype.extend([\"Graph representation\"] * len(pe))\n",
    "a = np.concatenate((macc_similarity, pe), axis = 0)\n",
    "print(len(fptype), a.shape)\n",
    "df = pd.DataFrame({\"Representation Type\": fptype, \"Similarities\": a})"
   ]
  },
  {
   "cell_type": "code",
   "execution_count": 13,
   "id": "92f627d9-6848-456c-87a2-052679a52bf9",
   "metadata": {},
   "outputs": [
    {
     "data": {
      "text/plain": [
       "<Axes: xlabel='Representation Type', ylabel='Similarities'>"
      ]
     },
     "execution_count": 13,
     "metadata": {},
     "output_type": "execute_result"
    },
    {
     "data": {
      "image/png": "[encoded data removed]",
      "text/plain": [
       "<Figure size 640x480 with 1 Axes>"
      ]
     },
     "metadata": {},
     "output_type": "display_data"
    }
   ],
   "source": [
    "import seaborn as sns\n",
    "sns.boxplot(x=\"Representation Type\", y=\"Similarities\",\n",
    "            palette=[\"m\", \"g\"],\n",
    "            data=df)"
   ]
  },
  {
   "cell_type": "code",
   "execution_count": 14,
   "id": "df2f07e5-c7ee-42a7-a606-a9ca399452f4",
   "metadata": {},
   "outputs": [],
   "source": [
    "df.to_csv(\"../data/one_graph/macc_graph_similarities.csv\", header = True, index = False)"
   ]
  }
 ],
 "metadata": {
  "kernelspec": {
   "display_name": "Python 3 (ipykernel)",
   "language": "python",
   "name": "python3"
  },
  "language_info": {
   "codemirror_mode": {
    "name": "ipython",
    "version": 3
   },
   "file_extension": ".py",
   "mimetype": "text/x-python",
   "name": "python",
   "nbconvert_exporter": "python",
   "pygments_lexer": "ipython3",
   "version": "3.9.12"
  }
 },
 "nbformat": 4,
 "nbformat_minor": 5
}
