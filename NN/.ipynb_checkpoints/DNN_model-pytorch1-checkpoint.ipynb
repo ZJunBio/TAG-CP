{
 "cells": [
  {
   "cell_type": "code",
   "execution_count": null,
   "id": "c92bc0f0-b851-4e27-82ff-b5cab461de38",
   "metadata": {},
   "outputs": [],
   "source": [
    "'''\n",
    "Modification of DNN_model.\n",
    "'''"
   ]
  },
  {
   "cell_type": "code",
   "execution_count": 1,
   "id": "c0b06046-f605-48b2-b094-70f474921ba1",
   "metadata": {
    "tags": []
   },
   "outputs": [],
   "source": [
    "import torch\n",
    "import torch.nn as nn\n",
    "import torch.nn.functional as F\n",
    "from torch.utils.data import Dataset, DataLoader\n",
    "import numpy as np\n",
    "from utils import setup_seed, metric_auc\n",
    "from sklearn import preprocessing\n",
    "\n",
    "setup_seed(2022)"
   ]
  },
  {
   "cell_type": "code",
   "execution_count": null,
   "id": "505a22d7-f7c8-44ea-b4af-6a692c2edc4b",
   "metadata": {},
   "outputs": [],
   "source": [
    "train_ = preprocessing.normalize(np.load(\"../data/datasets/train_tensor_csigma005.npy\", allow_pickle=True))\n",
    "valid_ = preprocessing.normalize(np.load(\"../data/datasets/val_tensor_csigma005.npy\", allow_pickle=True))\n",
    "test = preprocessing.normalize(np.load(\"../data/datasets/test_tensor_csigma005.npy\", allow_pickle=True))\n",
    "train_lab_ = np.load(\"../data/datasets/train_label_csima005.npy\", allow_pickle=True)\n",
    "valid_lab_ = np.load(\"../data/datasets/val_label_csima005.npy\", allow_pickle=True)\n",
    "test_lab = np.load(\"../data/datasets/test_label_csima005.npy\", allow_pickle=True)"
   ]
  },
  {
   "cell_type": "markdown",
   "id": "a4d01eaa-eca4-477d-a9b1-745d025ef3e8",
   "metadata": {},
   "source": [
    "### Make Datasets and DataLoader"
   ]
  },
  {
   "cell_type": "code",
   "execution_count": 2,
   "id": "9524c2e1-48d0-4f12-bcec-9d7902cf4ba1",
   "metadata": {
    "tags": []
   },
   "outputs": [],
   "source": [
    "class MakeDatasets(Dataset):\n",
    "    def __init__(self, data_path, label_path):\n",
    "        self.tensor = np.load(data_path, allow_pickle = True)\n",
    "        self.labels = np.load(label_path, allow_pickle = True)\n",
    "        self.tensor = preprocessing.normalize(self.tensor)\n",
    "        self.tensor = torch.tensor(self.tensor)\n",
    "        self.labels = torch.tensor(self.labels, dtype = torch.float32).reshape((len(self.labels),1))\n",
    "    def __len__(self):\n",
    "        return len(self.labels)\n",
    "    def __getitem__(self, idx):\n",
    "        vector = self.tensor[idx,:]\n",
    "        label = self.labels[idx]\n",
    "        return vector, label"
   ]
  },
  {
   "cell_type": "code",
   "execution_count": 3,
   "id": "096ca653-19df-4ead-b596-eee5352bbe17",
   "metadata": {
    "tags": []
   },
   "outputs": [],
   "source": [
    "train_data = MakeDatasets(data_path = \"../data/datasets/train_tensor_csigma005.npy\", label_path = \"../data/datasets/train_label_csima005.npy\")\n",
    "test_data = MakeDatasets(data_path = \"../data/datasets/val_tensor_csigma005.npy\", label_path = \"../data/datasets/val_label_csima005.npy\")"
   ]
  },
  {
   "cell_type": "code",
   "execution_count": 4,
   "id": "f1cd72c9-6f07-40b0-a37b-17010173ff24",
   "metadata": {
    "tags": []
   },
   "outputs": [],
   "source": [
    "batch_size = 256\n",
    "train_loader = DataLoader(train_data, batch_size = batch_size, shuffle = True)\n",
    "test_loader = DataLoader(test_data, batch_size = batch_size, shuffle = True)"
   ]
  },
  {
   "cell_type": "markdown",
   "id": "8d1a18ed-ba56-44a4-9e28-a7bc51c9cf44",
   "metadata": {},
   "source": [
    "### Constructing Neural Networks"
   ]
  },
  {
   "cell_type": "code",
   "execution_count": 5,
   "id": "9652c70f-df86-4f2e-8a1b-de2dcf19940f",
   "metadata": {
    "tags": []
   },
   "outputs": [],
   "source": [
    "class Params():\n",
    "    def __init__(self):\n",
    "        self.dim1 = 841\n",
    "        self.dim2 = 512\n",
    "        self.dim3 = 256\n",
    "        self.dim4 = 128\n",
    "        self.dim5 = 64\n",
    "        self.dim6 = 10\n",
    "        self.lr = 0.001\n",
    "        self.momentum = 0.9\n",
    "        self.epochs = 10000\n",
    "        self.dropout1 = 0.3\n",
    "        self.dtopout2 = 0.2\n",
    "params = Params()"
   ]
  },
  {
   "cell_type": "code",
   "execution_count": 6,
   "id": "297072c5-6f3c-471f-8ff6-19c8412a0c2b",
   "metadata": {
    "tags": []
   },
   "outputs": [
    {
     "name": "stdout",
     "output_type": "stream",
     "text": [
      "Using cpu device\n",
      "DNN(\n",
      "  (linear1): Linear(in_features=841, out_features=512, bias=True)\n",
      "  (bn1): BatchNorm1d(512, eps=1e-05, momentum=0.1, affine=True, track_running_stats=True)\n",
      "  (linear2): Linear(in_features=512, out_features=256, bias=True)\n",
      "  (bn2): BatchNorm1d(256, eps=1e-05, momentum=0.1, affine=True, track_running_stats=True)\n",
      "  (linear3): Linear(in_features=256, out_features=64, bias=True)\n",
      "  (bn3): BatchNorm1d(64, eps=1e-05, momentum=0.1, affine=True, track_running_stats=True)\n",
      "  (linear4): Linear(in_features=64, out_features=10, bias=True)\n",
      "  (bn4): BatchNorm1d(10, eps=1e-05, momentum=0.1, affine=True, track_running_stats=True)\n",
      "  (linear5): Linear(in_features=10, out_features=841, bias=True)\n",
      ")\n"
     ]
    }
   ],
   "source": [
    "# Get cpu, gpu or mps device for training.\n",
    "device = (\n",
    "    \"cuda\"\n",
    "    if torch.cuda.is_available()\n",
    "    else \"mps\"\n",
    "    if torch.backends.mps.is_available()\n",
    "    else \"cpu\"\n",
    ")\n",
    "print(f\"Using {device} device\")\n",
    "\n",
    "# Define model\n",
    "class DNN(nn.Module):\n",
    "    def __init__(self, params):\n",
    "        super().__init__()\n",
    "        self.linear1 = nn.Linear(params.dim1, params.dim2)\n",
    "        self.bn1 = nn.BatchNorm1d(params.dim2)\n",
    "        self.linear2 = nn.Linear(params.dim2, params.dim3)\n",
    "        self.bn2 = nn.BatchNorm1d(params.dim3)\n",
    "        self.linear3 = nn.Linear(params.dim3, params.dim5)\n",
    "        self.bn3 = nn.BatchNorm1d(params.dim5)\n",
    "        self.linear4 = nn.Linear(params.dim5, params.dim6)\n",
    "        self.bn4 = nn.BatchNorm1d(params.dim6)\n",
    "        self.linear5 = nn.Linear(params.dim6, params.dim1)\n",
    "    def forward(self, x):\n",
    "        x = self.linear1(x)\n",
    "        x = self.bn1(x)\n",
    "        x = F.relu(x)\n",
    "        x = self.linear2(x)\n",
    "        x = self.bn2(x)\n",
    "        x = F.relu(x)\n",
    "        x = self.linear3(x)\n",
    "        x = self.bn3(x)\n",
    "        x = F.relu(x)\n",
    "        x = self.linear4(x)\n",
    "        x = self.bn4(x)\n",
    "        x = F.relu(x)\n",
    "        x = self.linear5(x)\n",
    "        x = torch.sigmoid(x)\n",
    "        return x\n",
    "\n",
    "model = DNN(params).to(device)\n",
    "print(model)"
   ]
  },
  {
   "cell_type": "markdown",
   "id": "14644283-4322-4987-ac29-650ae0aed915",
   "metadata": {},
   "source": [
    "### Train and evaluate"
   ]
  },
  {
   "cell_type": "code",
   "execution_count": 7,
   "id": "8f27a94b-acc0-4e5a-ba8b-7da73f731da4",
   "metadata": {
    "tags": []
   },
   "outputs": [],
   "source": [
    "def train_loop(dataloader, model, loss_fn, optimizer):\n",
    "    size = len(dataloader.dataset)\n",
    "    # Set the model to training mode - important for batch normalization and dropout layers\n",
    "    # Unnecessary in this situation but added for best practices\n",
    "    pred_arr = np.array([])\n",
    "    label_arr = np.array([])\n",
    "    model.train()\n",
    "    for batch, (X, y) in enumerate(dataloader):\n",
    "        # Compute prediction and loss\n",
    "        pred = model(X)\n",
    "        loss = loss_fn(pred, y)\n",
    "\n",
    "        # Backpropagation\n",
    "        loss.backward()\n",
    "        optimizer.step()\n",
    "        optimizer.zero_grad()\n",
    "        \n",
    "        pred_arr = np.hstack((pred_arr, np.reshape(pred.detach().numpy(), len(pred))))\n",
    "        label_arr = np.hstack((label_arr, np.reshape(np.array(y), len(y))))\n",
    "        \n",
    "        if batch %  200== 0:\n",
    "            loss, current = loss.item(), (batch + 1) * len(X)\n",
    "            print(f\"loss: {loss:>7f}  [{current:>5d}/{size:>5d}]\")\n",
    "    auc = metric_auc(pred_arr, label_arr)\n",
    "    print(f\"Train AUC: {auc}\")\n",
    "\n",
    "\n",
    "def test_loop(dataloader, model, loss_fn):\n",
    "    # Set the model to evaluation mode - important for batch normalization and dropout layers\n",
    "    # Unnecessary in this situation but added for best practices\n",
    "    model.eval()\n",
    "    size = len(dataloader.dataset)\n",
    "    num_batches = len(dataloader)\n",
    "    test_loss, correct = 0, 0\n",
    "\n",
    "    # Evaluating the model with torch.no_grad() ensures that no gradients are computed during test mode\n",
    "    # also serves to reduce unnecessary gradient computations and memory usage for tensors with requires_grad=True\n",
    "    with torch.no_grad():\n",
    "        pred_arr = np.array([])\n",
    "        label_arr = np.array([])\n",
    "        for X, y in dataloader:\n",
    "            pred = model(X)\n",
    "            test_loss += loss_fn(pred, y).item()\n",
    "            correct += (pred.argmax(1) == y).type(torch.float).sum().item()\n",
    "            \n",
    "            pred_arr = np.hstack((pred_arr, np.reshape(pred.detach().numpy(), len(pred))))\n",
    "            label_arr = np.hstack((label_arr, np.reshape(np.array(y), len(y))))\n",
    "    auc = metric_auc(pred_arr, label_arr)\n",
    "    print(f\"Validation AUC: {auc}\")\n",
    "    test_loss /= num_batches\n",
    "    correct /= size\n",
    "    print(f\"Test Error: \\n Accuracy: {(100*correct):>0.1f}%, Avg loss: {test_loss:>8f} \\n\")"
   ]
  },
  {
   "cell_type": "code",
   "execution_count": 8,
   "id": "54bba46a-d847-4fc4-b55e-bf39605bc341",
   "metadata": {
    "scrolled": true,
    "tags": []
   },
   "outputs": [
    {
     "name": "stdout",
     "output_type": "stream",
     "text": [
      "Epoch 1\n",
      "-------------------------------\n",
      "loss: 0.650178  [   64/33467]\n",
      "loss: 0.278268  [ 6464/33467]\n",
      "loss: 0.274166  [12864/33467]\n",
      "loss: 0.349751  [19264/33467]\n",
      "loss: 0.274789  [25664/33467]\n",
      "loss: 0.235743  [32064/33467]\n",
      "Train AUC: 0.49550920331448145\n",
      "Validation AUC: 0.4479459064327485\n",
      "Test Error: \n",
      " Accuracy: 5873.3%, Avg loss: 0.282112 \n",
      "\n",
      "Epoch 2\n",
      "-------------------------------\n",
      "loss: 0.430010  [   64/33467]\n",
      "loss: 0.389578  [ 6464/33467]\n",
      "loss: 0.472643  [12864/33467]\n",
      "loss: 0.199178  [19264/33467]\n",
      "loss: 0.350648  [25664/33467]\n",
      "loss: 0.199602  [32064/33467]\n",
      "Train AUC: 0.4982743461061345\n",
      "Validation AUC: 0.45590545808966865\n",
      "Test Error: \n",
      " Accuracy: 5871.8%, Avg loss: 0.277487 \n",
      "\n",
      "Epoch 3\n",
      "-------------------------------\n",
      "loss: 0.274299  [   64/33467]\n",
      "loss: 0.311686  [ 6464/33467]\n",
      "loss: 0.349170  [12864/33467]\n",
      "loss: 0.274404  [19264/33467]\n",
      "loss: 0.311713  [25664/33467]\n",
      "loss: 0.235810  [32064/33467]\n",
      "Train AUC: 0.5004950263158523\n",
      "Validation AUC: 0.45572417153996103\n",
      "Test Error: \n",
      " Accuracy: 5874.8%, Avg loss: 0.286647 \n",
      "\n",
      "Epoch 4\n",
      "-------------------------------\n",
      "loss: 0.235427  [   64/33467]\n",
      "loss: 0.350324  [ 6464/33467]\n",
      "loss: 0.351377  [12864/33467]\n",
      "loss: 0.121460  [19264/33467]\n",
      "loss: 0.235728  [25664/33467]\n",
      "loss: 0.197408  [32064/33467]\n",
      "Train AUC: 0.48727165772409625\n",
      "Validation AUC: 0.4702826510721248\n",
      "Test Error: \n",
      " Accuracy: 5876.3%, Avg loss: 0.290950 \n",
      "\n",
      "Epoch 5\n",
      "-------------------------------\n",
      "loss: 0.236254  [   64/33467]\n",
      "loss: 0.312457  [ 6464/33467]\n",
      "loss: 0.237940  [12864/33467]\n",
      "loss: 0.157550  [19264/33467]\n",
      "loss: 0.473453  [25664/33467]\n",
      "loss: 0.199439  [32064/33467]\n",
      "Train AUC: 0.5030508885122063\n",
      "Validation AUC: 0.4792158869395712\n",
      "Test Error: \n",
      " Accuracy: 5871.8%, Avg loss: 0.277663 \n",
      "\n",
      "Epoch 6\n",
      "-------------------------------\n",
      "loss: 0.274524  [   64/33467]\n",
      "loss: 0.235143  [ 6464/33467]\n",
      "loss: 0.161414  [12864/33467]\n",
      "loss: 0.463073  [19264/33467]\n",
      "loss: 0.350145  [25664/33467]\n",
      "loss: 0.163774  [32064/33467]\n",
      "Train AUC: 0.49380205332933885\n",
      "Validation AUC: 0.48428557504873293\n",
      "Test Error: \n",
      " Accuracy: 5871.8%, Avg loss: 0.277431 \n",
      "\n",
      "Epoch 7\n",
      "-------------------------------\n",
      "loss: 0.350277  [   64/33467]\n",
      "loss: 0.274172  [ 6464/33467]\n",
      "loss: 0.236547  [12864/33467]\n",
      "loss: 0.274821  [19264/33467]\n",
      "loss: 0.425842  [25664/33467]\n",
      "loss: 0.197277  [32064/33467]\n",
      "Train AUC: 0.49505692241542143\n",
      "Validation AUC: 0.4950224171539961\n",
      "Test Error: \n",
      " Accuracy: 5873.3%, Avg loss: 0.281999 \n",
      "\n",
      "Epoch 8\n",
      "-------------------------------\n",
      "loss: 0.235653  [   64/33467]\n",
      "loss: 0.350264  [ 6464/33467]\n",
      "loss: 0.196856  [12864/33467]\n"
     ]
    },
    {
     "ename": "KeyboardInterrupt",
     "evalue": "",
     "output_type": "error",
     "traceback": [
      "\u001b[1;31m---------------------------------------------------------------------------\u001b[0m",
      "\u001b[1;31mKeyboardInterrupt\u001b[0m                         Traceback (most recent call last)",
      "Cell \u001b[1;32mIn[8], line 8\u001b[0m\n\u001b[0;32m      6\u001b[0m \u001b[38;5;28;01mfor\u001b[39;00m t \u001b[38;5;129;01min\u001b[39;00m \u001b[38;5;28mrange\u001b[39m(epochs):\n\u001b[0;32m      7\u001b[0m     \u001b[38;5;28mprint\u001b[39m(\u001b[38;5;124mf\u001b[39m\u001b[38;5;124m\"\u001b[39m\u001b[38;5;124mEpoch \u001b[39m\u001b[38;5;132;01m{\u001b[39;00mt\u001b[38;5;241m+\u001b[39m\u001b[38;5;241m1\u001b[39m\u001b[38;5;132;01m}\u001b[39;00m\u001b[38;5;130;01m\\n\u001b[39;00m\u001b[38;5;124m-------------------------------\u001b[39m\u001b[38;5;124m\"\u001b[39m)\n\u001b[1;32m----> 8\u001b[0m     \u001b[43mtrain_loop\u001b[49m\u001b[43m(\u001b[49m\u001b[43mtrain_loader\u001b[49m\u001b[43m,\u001b[49m\u001b[43m \u001b[49m\u001b[43mmodel\u001b[49m\u001b[43m,\u001b[49m\u001b[43m \u001b[49m\u001b[43mloss_fn\u001b[49m\u001b[43m,\u001b[49m\u001b[43m \u001b[49m\u001b[43moptimizer\u001b[49m\u001b[43m)\u001b[49m\n\u001b[0;32m      9\u001b[0m     test_loop(test_loader, model, loss_fn)\n\u001b[0;32m     10\u001b[0m \u001b[38;5;28mprint\u001b[39m(\u001b[38;5;124m\"\u001b[39m\u001b[38;5;124mDone!\u001b[39m\u001b[38;5;124m\"\u001b[39m)\n",
      "Cell \u001b[1;32mIn[7], line 14\u001b[0m, in \u001b[0;36mtrain_loop\u001b[1;34m(dataloader, model, loss_fn, optimizer)\u001b[0m\n\u001b[0;32m     11\u001b[0m loss \u001b[38;5;241m=\u001b[39m loss_fn(pred, y)\n\u001b[0;32m     13\u001b[0m \u001b[38;5;66;03m# Backpropagation\u001b[39;00m\n\u001b[1;32m---> 14\u001b[0m \u001b[43mloss\u001b[49m\u001b[38;5;241;43m.\u001b[39;49m\u001b[43mbackward\u001b[49m\u001b[43m(\u001b[49m\u001b[43m)\u001b[49m\n\u001b[0;32m     15\u001b[0m optimizer\u001b[38;5;241m.\u001b[39mstep()\n\u001b[0;32m     16\u001b[0m optimizer\u001b[38;5;241m.\u001b[39mzero_grad()\n",
      "File \u001b[1;32mD:\\Bio_tools\\conda\\envs\\pytorch\\lib\\site-packages\\torch\\_tensor.py:487\u001b[0m, in \u001b[0;36mTensor.backward\u001b[1;34m(self, gradient, retain_graph, create_graph, inputs)\u001b[0m\n\u001b[0;32m    477\u001b[0m \u001b[38;5;28;01mif\u001b[39;00m has_torch_function_unary(\u001b[38;5;28mself\u001b[39m):\n\u001b[0;32m    478\u001b[0m     \u001b[38;5;28;01mreturn\u001b[39;00m handle_torch_function(\n\u001b[0;32m    479\u001b[0m         Tensor\u001b[38;5;241m.\u001b[39mbackward,\n\u001b[0;32m    480\u001b[0m         (\u001b[38;5;28mself\u001b[39m,),\n\u001b[1;32m   (...)\u001b[0m\n\u001b[0;32m    485\u001b[0m         inputs\u001b[38;5;241m=\u001b[39minputs,\n\u001b[0;32m    486\u001b[0m     )\n\u001b[1;32m--> 487\u001b[0m \u001b[43mtorch\u001b[49m\u001b[38;5;241;43m.\u001b[39;49m\u001b[43mautograd\u001b[49m\u001b[38;5;241;43m.\u001b[39;49m\u001b[43mbackward\u001b[49m\u001b[43m(\u001b[49m\n\u001b[0;32m    488\u001b[0m \u001b[43m    \u001b[49m\u001b[38;5;28;43mself\u001b[39;49m\u001b[43m,\u001b[49m\u001b[43m \u001b[49m\u001b[43mgradient\u001b[49m\u001b[43m,\u001b[49m\u001b[43m \u001b[49m\u001b[43mretain_graph\u001b[49m\u001b[43m,\u001b[49m\u001b[43m \u001b[49m\u001b[43mcreate_graph\u001b[49m\u001b[43m,\u001b[49m\u001b[43m \u001b[49m\u001b[43minputs\u001b[49m\u001b[38;5;241;43m=\u001b[39;49m\u001b[43minputs\u001b[49m\n\u001b[0;32m    489\u001b[0m \u001b[43m\u001b[49m\u001b[43m)\u001b[49m\n",
      "File \u001b[1;32mD:\\Bio_tools\\conda\\envs\\pytorch\\lib\\site-packages\\torch\\autograd\\__init__.py:197\u001b[0m, in \u001b[0;36mbackward\u001b[1;34m(tensors, grad_tensors, retain_graph, create_graph, grad_variables, inputs)\u001b[0m\n\u001b[0;32m    192\u001b[0m     retain_graph \u001b[38;5;241m=\u001b[39m create_graph\n\u001b[0;32m    194\u001b[0m \u001b[38;5;66;03m# The reason we repeat same the comment below is that\u001b[39;00m\n\u001b[0;32m    195\u001b[0m \u001b[38;5;66;03m# some Python versions print out the first line of a multi-line function\u001b[39;00m\n\u001b[0;32m    196\u001b[0m \u001b[38;5;66;03m# calls in the traceback and some print out the last line\u001b[39;00m\n\u001b[1;32m--> 197\u001b[0m \u001b[43mVariable\u001b[49m\u001b[38;5;241;43m.\u001b[39;49m\u001b[43m_execution_engine\u001b[49m\u001b[38;5;241;43m.\u001b[39;49m\u001b[43mrun_backward\u001b[49m\u001b[43m(\u001b[49m\u001b[43m  \u001b[49m\u001b[38;5;66;43;03m# Calls into the C++ engine to run the backward pass\u001b[39;49;00m\n\u001b[0;32m    198\u001b[0m \u001b[43m    \u001b[49m\u001b[43mtensors\u001b[49m\u001b[43m,\u001b[49m\u001b[43m \u001b[49m\u001b[43mgrad_tensors_\u001b[49m\u001b[43m,\u001b[49m\u001b[43m \u001b[49m\u001b[43mretain_graph\u001b[49m\u001b[43m,\u001b[49m\u001b[43m \u001b[49m\u001b[43mcreate_graph\u001b[49m\u001b[43m,\u001b[49m\u001b[43m \u001b[49m\u001b[43minputs\u001b[49m\u001b[43m,\u001b[49m\n\u001b[0;32m    199\u001b[0m \u001b[43m    \u001b[49m\u001b[43mallow_unreachable\u001b[49m\u001b[38;5;241;43m=\u001b[39;49m\u001b[38;5;28;43;01mTrue\u001b[39;49;00m\u001b[43m,\u001b[49m\u001b[43m \u001b[49m\u001b[43maccumulate_grad\u001b[49m\u001b[38;5;241;43m=\u001b[39;49m\u001b[38;5;28;43;01mTrue\u001b[39;49;00m\u001b[43m)\u001b[49m\n",
      "\u001b[1;31mKeyboardInterrupt\u001b[0m: "
     ]
    }
   ],
   "source": [
    "loss_fn = nn.BCELoss()\n",
    "optimizer = torch.optim.SGD(model.parameters(), lr = params.lr, momentum = params.momentum)\n",
    "#optimizer = torch.optim.Adam(model.parameters(), lr=0.005)\n",
    "\n",
    "epochs = params.epochs\n",
    "for t in range(epochs):\n",
    "    print(f\"Epoch {t+1}\\n-------------------------------\")\n",
    "    train_loop(train_loader, model, loss_fn, optimizer)\n",
    "    test_loop(test_loader, model, loss_fn)\n",
    "print(\"Done!\")"
   ]
  },
  {
   "cell_type": "code",
   "execution_count": null,
   "id": "3691ee99-c840-482d-ab1f-2dd6f92b607d",
   "metadata": {},
   "outputs": [],
   "source": []
  }
 ],
 "metadata": {
  "kernelspec": {
   "display_name": "Python 3 (ipykernel)",
   "language": "python",
   "name": "python3"
  },
  "language_info": {
   "codemirror_mode": {
    "name": "ipython",
    "version": 3
   },
   "file_extension": ".py",
   "mimetype": "text/x-python",
   "name": "python",
   "nbconvert_exporter": "python",
   "pygments_lexer": "ipython3",
   "version": "3.9.12"
  }
 },
 "nbformat": 4,
 "nbformat_minor": 5
}
